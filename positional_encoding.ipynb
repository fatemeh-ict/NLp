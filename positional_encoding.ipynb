{
  "nbformat": 4,
  "nbformat_minor": 0,
  "metadata": {
    "colab": {
      "provenance": [],
      "authorship_tag": "ABX9TyPgRbrrb8XaM2rURaVfrZmb",
      "include_colab_link": true
    },
    "kernelspec": {
      "name": "python3",
      "display_name": "Python 3"
    },
    "language_info": {
      "name": "python"
    }
  },
  "cells": [
    {
      "cell_type": "markdown",
      "metadata": {
        "id": "view-in-github",
        "colab_type": "text"
      },
      "source": [
        "<a href=\"https://colab.research.google.com/github/fatemeh-ict/NLp/blob/main/positional_encoding.ipynb\" target=\"_parent\"><img src=\"https://colab.research.google.com/assets/colab-badge.svg\" alt=\"Open In Colab\"/></a>"
      ]
    },
    {
      "cell_type": "code",
      "execution_count": 1,
      "metadata": {
        "id": "W2Q2mcI4HxZs"
      },
      "outputs": [],
      "source": [
        "import torch\n",
        "import torch.nn as nn"
      ]
    },
    {
      "cell_type": "code",
      "source": [
        "max_sequence_length=10\n",
        "d_model=6"
      ],
      "metadata": {
        "id": "xZ2mdCBqJdtt"
      },
      "execution_count": 2,
      "outputs": []
    },
    {
      "cell_type": "code",
      "source": [
        "even_i=torch.arange(0,d_model,2).float()\n",
        "print(even_i)"
      ],
      "metadata": {
        "colab": {
          "base_uri": "https://localhost:8080/"
        },
        "id": "RC506F3NJkkU",
        "outputId": "c3845ff9-c060-4577-8c06-87396802bf12"
      },
      "execution_count": 3,
      "outputs": [
        {
          "output_type": "stream",
          "name": "stdout",
          "text": [
            "tensor([0., 2., 4.])\n"
          ]
        }
      ]
    },
    {
      "cell_type": "code",
      "source": [
        "even_deminator=torch.pow(10000,even_i/d_model)\n",
        "print(even_deminator)"
      ],
      "metadata": {
        "colab": {
          "base_uri": "https://localhost:8080/"
        },
        "id": "lmn5HNttJutf",
        "outputId": "0271bae1-8e8f-4b29-9680-d911eb669405"
      },
      "execution_count": 10,
      "outputs": [
        {
          "output_type": "stream",
          "name": "stdout",
          "text": [
            "tensor([  1.0000,  21.5443, 464.1590])\n"
          ]
        }
      ]
    },
    {
      "cell_type": "code",
      "source": [
        "odd_i=torch.arange(1,d_model,2).float()\n",
        "print(odd_i)"
      ],
      "metadata": {
        "colab": {
          "base_uri": "https://localhost:8080/"
        },
        "id": "8wTWlhdWJ91p",
        "outputId": "6239b0dd-b7ba-4506-a6d2-2d46c43ecc5a"
      },
      "execution_count": 11,
      "outputs": [
        {
          "output_type": "stream",
          "name": "stdout",
          "text": [
            "tensor([1., 3., 5.])\n"
          ]
        }
      ]
    },
    {
      "cell_type": "code",
      "source": [
        "odd_deminator=torch.pow(10000,(odd_i-1)/d_model)\n",
        "print(odd_deminator)"
      ],
      "metadata": {
        "colab": {
          "base_uri": "https://localhost:8080/"
        },
        "id": "Pb-8JefkKIOO",
        "outputId": "a6d598c8-569b-4782-ccde-beb02adfa435"
      },
      "execution_count": 12,
      "outputs": [
        {
          "output_type": "stream",
          "name": "stdout",
          "text": [
            "tensor([  1.0000,  21.5443, 464.1590])\n"
          ]
        }
      ]
    },
    {
      "cell_type": "code",
      "source": [
        "deminator=even_deminator"
      ],
      "metadata": {
        "id": "vhpHA419KUwf"
      },
      "execution_count": 13,
      "outputs": []
    },
    {
      "cell_type": "code",
      "source": [
        "position=torch.arange(max_sequence_length,dtype=torch.float).reshape(max_sequence_length,1)\n",
        "print(position)"
      ],
      "metadata": {
        "colab": {
          "base_uri": "https://localhost:8080/"
        },
        "id": "W34FgPNSLjOG",
        "outputId": "11f972ab-b509-40ed-c2d5-6a1c5b0743f5"
      },
      "execution_count": 14,
      "outputs": [
        {
          "output_type": "stream",
          "name": "stdout",
          "text": [
            "tensor([[0.],\n",
            "        [1.],\n",
            "        [2.],\n",
            "        [3.],\n",
            "        [4.],\n",
            "        [5.],\n",
            "        [6.],\n",
            "        [7.],\n",
            "        [8.],\n",
            "        [9.]])\n"
          ]
        }
      ]
    },
    {
      "cell_type": "code",
      "source": [
        "even_pe=torch.sin(position/deminator)\n",
        "print(even_pe)"
      ],
      "metadata": {
        "colab": {
          "base_uri": "https://localhost:8080/"
        },
        "id": "bPeBdciKL7Lr",
        "outputId": "752dbb0a-8c38-4d50-bc06-be3cc7bbb196"
      },
      "execution_count": 16,
      "outputs": [
        {
          "output_type": "stream",
          "name": "stdout",
          "text": [
            "tensor([[ 0.0000,  0.0000,  0.0000],\n",
            "        [ 0.8415,  0.0464,  0.0022],\n",
            "        [ 0.9093,  0.0927,  0.0043],\n",
            "        [ 0.1411,  0.1388,  0.0065],\n",
            "        [-0.7568,  0.1846,  0.0086],\n",
            "        [-0.9589,  0.2300,  0.0108],\n",
            "        [-0.2794,  0.2749,  0.0129],\n",
            "        [ 0.6570,  0.3192,  0.0151],\n",
            "        [ 0.9894,  0.3629,  0.0172],\n",
            "        [ 0.4121,  0.4057,  0.0194]])\n"
          ]
        }
      ]
    },
    {
      "cell_type": "code",
      "source": [
        "even_pe.shape"
      ],
      "metadata": {
        "colab": {
          "base_uri": "https://localhost:8080/"
        },
        "id": "1-Xc_6RbM4o8",
        "outputId": "b098e33c-4d0e-4163-d604-70a08b7df669"
      },
      "execution_count": 17,
      "outputs": [
        {
          "output_type": "execute_result",
          "data": {
            "text/plain": [
              "torch.Size([10, 3])"
            ]
          },
          "metadata": {},
          "execution_count": 17
        }
      ]
    },
    {
      "cell_type": "code",
      "source": [
        "odd_pe=torch.cos(position/deminator)\n",
        "print(odd_pe)"
      ],
      "metadata": {
        "colab": {
          "base_uri": "https://localhost:8080/"
        },
        "id": "dTna3j6pNFH3",
        "outputId": "4f9c0eb1-e551-4ad7-8c5e-ef9b9922465e"
      },
      "execution_count": 19,
      "outputs": [
        {
          "output_type": "stream",
          "name": "stdout",
          "text": [
            "tensor([[ 1.0000,  1.0000,  1.0000],\n",
            "        [ 0.5403,  0.9989,  1.0000],\n",
            "        [-0.4161,  0.9957,  1.0000],\n",
            "        [-0.9900,  0.9903,  1.0000],\n",
            "        [-0.6536,  0.9828,  1.0000],\n",
            "        [ 0.2837,  0.9732,  0.9999],\n",
            "        [ 0.9602,  0.9615,  0.9999],\n",
            "        [ 0.7539,  0.9477,  0.9999],\n",
            "        [-0.1455,  0.9318,  0.9999],\n",
            "        [-0.9111,  0.9140,  0.9998]])\n"
          ]
        }
      ]
    },
    {
      "cell_type": "code",
      "source": [
        "odd_pe.shape"
      ],
      "metadata": {
        "colab": {
          "base_uri": "https://localhost:8080/"
        },
        "id": "aKi1yTEPNT03",
        "outputId": "32df1b44-a73b-4fa6-b320-3c104ffe5b59"
      },
      "execution_count": 20,
      "outputs": [
        {
          "output_type": "execute_result",
          "data": {
            "text/plain": [
              "torch.Size([10, 3])"
            ]
          },
          "metadata": {},
          "execution_count": 20
        }
      ]
    },
    {
      "cell_type": "code",
      "source": [
        "stacked=torch.stack([even_pe,odd_pe],dim=2)\n",
        "print(stacked)"
      ],
      "metadata": {
        "colab": {
          "base_uri": "https://localhost:8080/"
        },
        "id": "ZS1tZmUYNZEX",
        "outputId": "33fdce80-e7f7-4446-8c76-386da14b99d5"
      },
      "execution_count": 21,
      "outputs": [
        {
          "output_type": "stream",
          "name": "stdout",
          "text": [
            "tensor([[[ 0.0000,  1.0000],\n",
            "         [ 0.0000,  1.0000],\n",
            "         [ 0.0000,  1.0000]],\n",
            "\n",
            "        [[ 0.8415,  0.5403],\n",
            "         [ 0.0464,  0.9989],\n",
            "         [ 0.0022,  1.0000]],\n",
            "\n",
            "        [[ 0.9093, -0.4161],\n",
            "         [ 0.0927,  0.9957],\n",
            "         [ 0.0043,  1.0000]],\n",
            "\n",
            "        [[ 0.1411, -0.9900],\n",
            "         [ 0.1388,  0.9903],\n",
            "         [ 0.0065,  1.0000]],\n",
            "\n",
            "        [[-0.7568, -0.6536],\n",
            "         [ 0.1846,  0.9828],\n",
            "         [ 0.0086,  1.0000]],\n",
            "\n",
            "        [[-0.9589,  0.2837],\n",
            "         [ 0.2300,  0.9732],\n",
            "         [ 0.0108,  0.9999]],\n",
            "\n",
            "        [[-0.2794,  0.9602],\n",
            "         [ 0.2749,  0.9615],\n",
            "         [ 0.0129,  0.9999]],\n",
            "\n",
            "        [[ 0.6570,  0.7539],\n",
            "         [ 0.3192,  0.9477],\n",
            "         [ 0.0151,  0.9999]],\n",
            "\n",
            "        [[ 0.9894, -0.1455],\n",
            "         [ 0.3629,  0.9318],\n",
            "         [ 0.0172,  0.9999]],\n",
            "\n",
            "        [[ 0.4121, -0.9111],\n",
            "         [ 0.4057,  0.9140],\n",
            "         [ 0.0194,  0.9998]]])\n"
          ]
        }
      ]
    },
    {
      "cell_type": "code",
      "source": [
        "stacked.shape"
      ],
      "metadata": {
        "colab": {
          "base_uri": "https://localhost:8080/"
        },
        "id": "xdVI3mryOmFW",
        "outputId": "9200c27b-dc80-43f2-eb68-d8893cc09c5a"
      },
      "execution_count": 22,
      "outputs": [
        {
          "output_type": "execute_result",
          "data": {
            "text/plain": [
              "torch.Size([10, 3, 2])"
            ]
          },
          "metadata": {},
          "execution_count": 22
        }
      ]
    },
    {
      "cell_type": "code",
      "source": [
        "pe=torch.flatten(stacked,start_dim=1,end_dim=2)\n",
        "print(pe)"
      ],
      "metadata": {
        "colab": {
          "base_uri": "https://localhost:8080/"
        },
        "id": "5C8ww1thO1IT",
        "outputId": "8c4fddd6-f1f6-4d38-de1a-d440aab2cfa5"
      },
      "execution_count": 23,
      "outputs": [
        {
          "output_type": "stream",
          "name": "stdout",
          "text": [
            "tensor([[ 0.0000,  1.0000,  0.0000,  1.0000,  0.0000,  1.0000],\n",
            "        [ 0.8415,  0.5403,  0.0464,  0.9989,  0.0022,  1.0000],\n",
            "        [ 0.9093, -0.4161,  0.0927,  0.9957,  0.0043,  1.0000],\n",
            "        [ 0.1411, -0.9900,  0.1388,  0.9903,  0.0065,  1.0000],\n",
            "        [-0.7568, -0.6536,  0.1846,  0.9828,  0.0086,  1.0000],\n",
            "        [-0.9589,  0.2837,  0.2300,  0.9732,  0.0108,  0.9999],\n",
            "        [-0.2794,  0.9602,  0.2749,  0.9615,  0.0129,  0.9999],\n",
            "        [ 0.6570,  0.7539,  0.3192,  0.9477,  0.0151,  0.9999],\n",
            "        [ 0.9894, -0.1455,  0.3629,  0.9318,  0.0172,  0.9999],\n",
            "        [ 0.4121, -0.9111,  0.4057,  0.9140,  0.0194,  0.9998]])\n"
          ]
        }
      ]
    },
    {
      "cell_type": "code",
      "source": [
        "import torch\n",
        "import torch.nn as nn\n",
        "\n",
        "class PositionalEncoding(nn.Module):\n",
        "\n",
        "    def __init__(self, d_model, max_sequence_length):\n",
        "        super().__init__()\n",
        "        self.max_sequence_length = max_sequence_length\n",
        "        self.d_model = d_model\n",
        "\n",
        "    def forward(self):\n",
        "        even_i = torch.arange(0, self.d_model, 2).float()\n",
        "        denominator = torch.pow(10000, even_i/self.d_model)\n",
        "        position = torch.arange(self.max_sequence_length).reshape(self.max_sequence_length, 1)\n",
        "        even_PE = torch.sin(position / denominator)\n",
        "        odd_PE = torch.cos(position / denominator)\n",
        "        stacked = torch.stack([even_PE, odd_PE], dim=2)\n",
        "        PE = torch.flatten(stacked, start_dim=1, end_dim=2)\n",
        "        return PE"
      ],
      "metadata": {
        "id": "CEkED9TGPNKp"
      },
      "execution_count": 1,
      "outputs": []
    },
    {
      "cell_type": "code",
      "source": [
        "pe = PositionalEncoding(d_model=6, max_sequence_length=10)\n",
        "pe.forward()"
      ],
      "metadata": {
        "colab": {
          "base_uri": "https://localhost:8080/"
        },
        "id": "MF_E3xJQ0SjE",
        "outputId": "1e6c615b-ec4f-49dc-fe93-3790ce21c848"
      },
      "execution_count": 2,
      "outputs": [
        {
          "output_type": "execute_result",
          "data": {
            "text/plain": [
              "tensor([[ 0.0000,  1.0000,  0.0000,  1.0000,  0.0000,  1.0000],\n",
              "        [ 0.8415,  0.5403,  0.0464,  0.9989,  0.0022,  1.0000],\n",
              "        [ 0.9093, -0.4161,  0.0927,  0.9957,  0.0043,  1.0000],\n",
              "        [ 0.1411, -0.9900,  0.1388,  0.9903,  0.0065,  1.0000],\n",
              "        [-0.7568, -0.6536,  0.1846,  0.9828,  0.0086,  1.0000],\n",
              "        [-0.9589,  0.2837,  0.2300,  0.9732,  0.0108,  0.9999],\n",
              "        [-0.2794,  0.9602,  0.2749,  0.9615,  0.0129,  0.9999],\n",
              "        [ 0.6570,  0.7539,  0.3192,  0.9477,  0.0151,  0.9999],\n",
              "        [ 0.9894, -0.1455,  0.3629,  0.9318,  0.0172,  0.9999],\n",
              "        [ 0.4121, -0.9111,  0.4057,  0.9140,  0.0194,  0.9998]])"
            ]
          },
          "metadata": {},
          "execution_count": 2
        }
      ]
    },
    {
      "cell_type": "code",
      "source": [],
      "metadata": {
        "id": "cPzkIe9C0Xb-"
      },
      "execution_count": null,
      "outputs": []
    }
  ]
}