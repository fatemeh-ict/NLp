{
  "nbformat": 4,
  "nbformat_minor": 0,
  "metadata": {
    "colab": {
      "provenance": [],
      "authorship_tag": "ABX9TyPqDXJMJP0AYAQF7Mpo/4yw",
      "include_colab_link": true
    },
    "kernelspec": {
      "name": "python3",
      "display_name": "Python 3"
    },
    "language_info": {
      "name": "python"
    }
  },
  "cells": [
    {
      "cell_type": "markdown",
      "metadata": {
        "id": "view-in-github",
        "colab_type": "text"
      },
      "source": [
        "<a href=\"https://colab.research.google.com/github/fatemeh-ict/NLp/blob/main/self_attention_transformer.ipynb\" target=\"_parent\"><img src=\"https://colab.research.google.com/assets/colab-badge.svg\" alt=\"Open In Colab\"/></a>"
      ]
    },
    {
      "cell_type": "code",
      "execution_count": 1,
      "metadata": {
        "id": "liqPFQqTjr7y"
      },
      "outputs": [],
      "source": [
        "import numpy as np\n",
        "import math"
      ]
    },
    {
      "cell_type": "code",
      "source": [
        "L,d_v,d_k=4,8,8\n",
        "q=np.random.randn(L,d_k)\n",
        "k=np.random.randn(L,d_k)\n",
        "v=np.random.randn(L,d_v)\n",
        "\n"
      ],
      "metadata": {
        "id": "3icTO95aj7La"
      },
      "execution_count": 2,
      "outputs": []
    },
    {
      "cell_type": "code",
      "source": [
        "print('Q:' ,q)\n",
        "print('K:' ,k)\n",
        "print('V:' ,v)\n"
      ],
      "metadata": {
        "colab": {
          "base_uri": "https://localhost:8080/"
        },
        "id": "fMioEJt_kSFW",
        "outputId": "1c7f858a-c7e7-40d9-db12-7b2cc3c957cb"
      },
      "execution_count": 3,
      "outputs": [
        {
          "output_type": "stream",
          "name": "stdout",
          "text": [
            "Q: [[-9.77924898e-01  4.44572771e-01 -1.76604134e+00  1.01049752e+00\n",
            "   6.64773710e-01  9.34487037e-01  6.02586918e-01 -1.33283925e+00]\n",
            " [-3.45223993e-01  1.30391441e-03 -2.95794871e-01  8.43922012e-01\n",
            "  -4.60591697e-01  1.00572154e+00 -1.81640797e+00 -1.88911176e+00]\n",
            " [ 1.32401673e+00  5.71255374e-01 -1.36280135e+00  3.23912908e-01\n",
            "   1.03632534e+00  4.23072523e-02 -4.59872772e-02  1.28447456e-02]\n",
            " [-4.74509385e-01  1.23100644e-01 -8.53185485e-01  1.50185937e+00\n",
            "  -3.71231181e-01  2.96330877e-01  3.29859415e-02  4.24694493e-01]]\n",
            "K: [[ 0.21622947  0.58724895  0.23548883 -1.46703762 -1.62682373 -1.40717059\n",
            "  -1.39956953  0.16377519]\n",
            " [ 0.37623156 -0.7179211  -2.73028538  0.59713483  0.82860094  0.36641916\n",
            "  -0.95163053 -0.26991242]\n",
            " [ 0.04004255 -1.05290654 -0.95500036 -0.96876043  0.49361471  0.80644317\n",
            "   0.60348088  1.26782241]\n",
            " [ 0.63217599  1.40273558  0.65586497  0.53894631 -1.7029201   0.54899075\n",
            "   1.94928337 -0.37493385]]\n",
            "V: [[-0.23143078  0.41771085 -0.9566029   2.51162707  0.33619158 -0.25141886\n",
            "  -0.52519439  1.82232727]\n",
            " [-0.37767614 -0.61175615 -1.97691323  0.70480565 -0.52755065 -0.24446662\n",
            "  -0.44809649 -0.28490197]\n",
            " [ 0.10953515  0.57877994  1.11023215  0.16875837 -0.75090929  0.84233845\n",
            "  -0.62701627 -0.60563191]\n",
            " [ 0.88396147 -1.34482923 -0.4916784   0.40675127  1.1027501  -1.11139771\n",
            "  -1.04623832  0.95871604]]\n"
          ]
        }
      ]
    },
    {
      "cell_type": "code",
      "source": [
        "#self attention\n",
        "np.matmul(q,k.T)"
      ],
      "metadata": {
        "colab": {
          "base_uri": "https://localhost:8080/"
        },
        "id": "qHR7j8zTkcnN",
        "outputId": "d0969742-c4e7-486f-da19-4b76a227e7ea"
      },
      "execution_count": 4,
      "outputs": [
        {
          "output_type": "execute_result",
          "data": {
            "text/plain": [
              "array([[-5.30680279,  5.41766156, -0.04401311,  0.4470241 ],\n",
              "       [ 0.18527573,  3.4060323 , -3.45779387, -1.45150534],\n",
              "       [-1.85334248,  4.91677515,  0.97341649, -0.9169213 ],\n",
              "       [-2.22418414,  2.6143085 , -0.1746911 ,  0.82247787]])"
            ]
          },
          "metadata": {},
          "execution_count": 4
        }
      ]
    },
    {
      "cell_type": "code",
      "source": [
        "#wy we need sqrt(d_k) in deminator\n",
        "q.var(),k.var(),np.matmul(q,k.T).var()"
      ],
      "metadata": {
        "colab": {
          "base_uri": "https://localhost:8080/"
        },
        "id": "Y_lg3sBTmahh",
        "outputId": "aa104359-cb51-412c-ca49-e46d8012b534"
      },
      "execution_count": 5,
      "outputs": [
        {
          "output_type": "execute_result",
          "data": {
            "text/plain": [
              "(0.8278144454356797, 1.0997322452591938, 7.787314816294325)"
            ]
          },
          "metadata": {},
          "execution_count": 5
        }
      ]
    },
    {
      "cell_type": "code",
      "source": [
        "scale=np.matmul(q,k.T)/math.sqrt(d_k)"
      ],
      "metadata": {
        "id": "t6NkRobomvCx"
      },
      "execution_count": 6,
      "outputs": []
    },
    {
      "cell_type": "code",
      "source": [
        "q.var(),k.var(),scale.var()"
      ],
      "metadata": {
        "colab": {
          "base_uri": "https://localhost:8080/"
        },
        "id": "Wju77Z-im4N0",
        "outputId": "e034110f-16e1-4b9a-af6f-aa12ffddaf94"
      },
      "execution_count": 7,
      "outputs": [
        {
          "output_type": "execute_result",
          "data": {
            "text/plain": [
              "(0.8278144454356797, 1.0997322452591938, 0.9734143520367903)"
            ]
          },
          "metadata": {},
          "execution_count": 7
        }
      ]
    },
    {
      "cell_type": "code",
      "source": [
        "scale"
      ],
      "metadata": {
        "colab": {
          "base_uri": "https://localhost:8080/"
        },
        "id": "B8FzyWK_nCzy",
        "outputId": "413f35da-6078-4731-abcb-4ba2d0b8c46e"
      },
      "execution_count": 8,
      "outputs": [
        {
          "output_type": "execute_result",
          "data": {
            "text/plain": [
              "array([[-1.87623812,  1.91543261, -0.01556098,  0.15804689],\n",
              "       [ 0.06550486,  1.20421427, -1.22251475, -0.51318463],\n",
              "       [-0.65525552,  1.73834252,  0.3441547 , -0.32418064],\n",
              "       [-0.78636784,  0.92429763, -0.06176263,  0.29078984]])"
            ]
          },
          "metadata": {},
          "execution_count": 8
        }
      ]
    },
    {
      "cell_type": "code",
      "source": [
        "mask=np.tril(np.ones( (L,L) ))"
      ],
      "metadata": {
        "id": "KtBqgsUDm9Pd"
      },
      "execution_count": 10,
      "outputs": []
    },
    {
      "cell_type": "code",
      "source": [
        "mask"
      ],
      "metadata": {
        "colab": {
          "base_uri": "https://localhost:8080/"
        },
        "id": "nic0lqt6okKa",
        "outputId": "d172c688-005e-494a-ede0-36b01fecb750"
      },
      "execution_count": 11,
      "outputs": [
        {
          "output_type": "execute_result",
          "data": {
            "text/plain": [
              "array([[1., 0., 0., 0.],\n",
              "       [1., 1., 0., 0.],\n",
              "       [1., 1., 1., 0.],\n",
              "       [1., 1., 1., 1.]])"
            ]
          },
          "metadata": {},
          "execution_count": 11
        }
      ]
    },
    {
      "cell_type": "code",
      "source": [
        "mask[mask==0]=-np.infty\n",
        "mask[mask==1]=0"
      ],
      "metadata": {
        "id": "QPN5Cpn6o0Cw"
      },
      "execution_count": 12,
      "outputs": []
    },
    {
      "cell_type": "code",
      "source": [
        "mask"
      ],
      "metadata": {
        "colab": {
          "base_uri": "https://localhost:8080/"
        },
        "id": "lNRRljQJpBFE",
        "outputId": "9287ceac-1628-4454-a321-47f26ed10d61"
      },
      "execution_count": 13,
      "outputs": [
        {
          "output_type": "execute_result",
          "data": {
            "text/plain": [
              "array([[  0., -inf, -inf, -inf],\n",
              "       [  0.,   0., -inf, -inf],\n",
              "       [  0.,   0.,   0., -inf],\n",
              "       [  0.,   0.,   0.,   0.]])"
            ]
          },
          "metadata": {},
          "execution_count": 13
        }
      ]
    },
    {
      "cell_type": "code",
      "source": [
        "scale+mask"
      ],
      "metadata": {
        "colab": {
          "base_uri": "https://localhost:8080/"
        },
        "id": "XcP3mOqcpCBJ",
        "outputId": "c3ffca26-3acf-4445-f4cc-a562fc036d16"
      },
      "execution_count": 14,
      "outputs": [
        {
          "output_type": "execute_result",
          "data": {
            "text/plain": [
              "array([[-1.87623812,        -inf,        -inf,        -inf],\n",
              "       [ 0.06550486,  1.20421427,        -inf,        -inf],\n",
              "       [-0.65525552,  1.73834252,  0.3441547 ,        -inf],\n",
              "       [-0.78636784,  0.92429763, -0.06176263,  0.29078984]])"
            ]
          },
          "metadata": {},
          "execution_count": 14
        }
      ]
    },
    {
      "cell_type": "code",
      "source": [
        "#softmax\n",
        "def softmax(x):\n",
        "  return (np.exp(x).T/np.sum(np.exp(x),axis=1)).T"
      ],
      "metadata": {
        "id": "dmMWlZsDpG3F"
      },
      "execution_count": 15,
      "outputs": []
    },
    {
      "cell_type": "code",
      "source": [
        "attention=softmax(scale+mask)"
      ],
      "metadata": {
        "id": "m_0Bnt-VqStz"
      },
      "execution_count": 16,
      "outputs": []
    },
    {
      "cell_type": "code",
      "source": [
        "attention"
      ],
      "metadata": {
        "colab": {
          "base_uri": "https://localhost:8080/"
        },
        "id": "oNX_SbFvqXHt",
        "outputId": "2ba553b3-eaa1-46f0-c591-a7bc35064621"
      },
      "execution_count": 17,
      "outputs": [
        {
          "output_type": "execute_result",
          "data": {
            "text/plain": [
              "array([[1.        , 0.        , 0.        , 0.        ],\n",
              "       [0.24255739, 0.75744261, 0.        , 0.        ],\n",
              "       [0.0681686 , 0.7466392 , 0.18519221, 0.        ],\n",
              "       [0.08670861, 0.47972771, 0.1789593 , 0.25460438]])"
            ]
          },
          "metadata": {},
          "execution_count": 17
        }
      ]
    },
    {
      "cell_type": "code",
      "source": [
        "new_v=np.matmul(attention,v)"
      ],
      "metadata": {
        "id": "fodY3Kb_qYW3"
      },
      "execution_count": 18,
      "outputs": []
    },
    {
      "cell_type": "code",
      "source": [
        "new_v"
      ],
      "metadata": {
        "colab": {
          "base_uri": "https://localhost:8080/"
        },
        "id": "6ojvid5wrBby",
        "outputId": "6b9b19d9-0c7a-499c-9e08-4bbd4f09a445"
      },
      "execution_count": 19,
      "outputs": [
        {
          "output_type": "execute_result",
          "data": {
            "text/plain": [
              "array([[-0.23143078,  0.41771085, -0.9566029 ,  2.51162707,  0.33619158,\n",
              "        -0.25141886, -0.52519439,  1.82232727],\n",
              "       [-0.34220325, -0.36205132, -1.72942942,  1.14306354, -0.31804358,\n",
              "        -0.24615294, -0.46679716,  0.22622206],\n",
              "       [-0.27747907, -0.32110083, -1.33564484,  0.72870235, -0.51003483,\n",
              "        -0.04367272, -0.4864867 , -0.20065179],\n",
              "       [ 0.04341404, -0.49607861, -0.95782287,  0.68965603, -0.07754716,\n",
              "        -0.27130001, -0.63909043,  0.15704593]])"
            ]
          },
          "metadata": {},
          "execution_count": 19
        }
      ]
    },
    {
      "cell_type": "code",
      "source": [
        "v"
      ],
      "metadata": {
        "colab": {
          "base_uri": "https://localhost:8080/"
        },
        "id": "uzEmsxwXrCr7",
        "outputId": "1e54eb2f-225d-4912-9813-d40c184ca775"
      },
      "execution_count": 20,
      "outputs": [
        {
          "output_type": "execute_result",
          "data": {
            "text/plain": [
              "array([[-0.23143078,  0.41771085, -0.9566029 ,  2.51162707,  0.33619158,\n",
              "        -0.25141886, -0.52519439,  1.82232727],\n",
              "       [-0.37767614, -0.61175615, -1.97691323,  0.70480565, -0.52755065,\n",
              "        -0.24446662, -0.44809649, -0.28490197],\n",
              "       [ 0.10953515,  0.57877994,  1.11023215,  0.16875837, -0.75090929,\n",
              "         0.84233845, -0.62701627, -0.60563191],\n",
              "       [ 0.88396147, -1.34482923, -0.4916784 ,  0.40675127,  1.1027501 ,\n",
              "        -1.11139771, -1.04623832,  0.95871604]])"
            ]
          },
          "metadata": {},
          "execution_count": 20
        }
      ]
    },
    {
      "cell_type": "code",
      "source": [
        "def softmax(x):\n",
        "  return (np.exp(x).T/np.sum(np.exp(x),axis=1)).T\n",
        "\n",
        "def scaled_dot_product_attention(q,k,v,mask=None):\n",
        "  d_k=q.shape[-1]\n",
        "  scale=np.matmul(q,k.T)/math.sqrt(d_k)\n",
        "  if mask is not None:\n",
        "    scale=scale+mask\n",
        "    attention=softmax(scale)\n",
        "    out=np.matmul(attention,v)\n",
        "    return out, attention\n"
      ],
      "metadata": {
        "id": "emnqu_5MrFKL"
      },
      "execution_count": 23,
      "outputs": []
    },
    {
      "cell_type": "code",
      "source": [
        "values,attention=scaled_dot_product_attention(q,k,v,mask=mask)"
      ],
      "metadata": {
        "id": "gIsUwSrnuSPL"
      },
      "execution_count": 25,
      "outputs": []
    },
    {
      "cell_type": "code",
      "source": [
        "print('Q:', q)\n",
        "print('K:', k)\n",
        "print('V:', v)\n",
        "print('new_v:', values)\n",
        "print('attention:',attention )"
      ],
      "metadata": {
        "colab": {
          "base_uri": "https://localhost:8080/"
        },
        "id": "RiBH6gUXubbw",
        "outputId": "8fb0a95f-2a77-414b-a64f-8a1618dfd41c"
      },
      "execution_count": 27,
      "outputs": [
        {
          "output_type": "stream",
          "name": "stdout",
          "text": [
            "Q: [[-9.77924898e-01  4.44572771e-01 -1.76604134e+00  1.01049752e+00\n",
            "   6.64773710e-01  9.34487037e-01  6.02586918e-01 -1.33283925e+00]\n",
            " [-3.45223993e-01  1.30391441e-03 -2.95794871e-01  8.43922012e-01\n",
            "  -4.60591697e-01  1.00572154e+00 -1.81640797e+00 -1.88911176e+00]\n",
            " [ 1.32401673e+00  5.71255374e-01 -1.36280135e+00  3.23912908e-01\n",
            "   1.03632534e+00  4.23072523e-02 -4.59872772e-02  1.28447456e-02]\n",
            " [-4.74509385e-01  1.23100644e-01 -8.53185485e-01  1.50185937e+00\n",
            "  -3.71231181e-01  2.96330877e-01  3.29859415e-02  4.24694493e-01]]\n",
            "K: [[ 0.21622947  0.58724895  0.23548883 -1.46703762 -1.62682373 -1.40717059\n",
            "  -1.39956953  0.16377519]\n",
            " [ 0.37623156 -0.7179211  -2.73028538  0.59713483  0.82860094  0.36641916\n",
            "  -0.95163053 -0.26991242]\n",
            " [ 0.04004255 -1.05290654 -0.95500036 -0.96876043  0.49361471  0.80644317\n",
            "   0.60348088  1.26782241]\n",
            " [ 0.63217599  1.40273558  0.65586497  0.53894631 -1.7029201   0.54899075\n",
            "   1.94928337 -0.37493385]]\n",
            "V: [[-0.23143078  0.41771085 -0.9566029   2.51162707  0.33619158 -0.25141886\n",
            "  -0.52519439  1.82232727]\n",
            " [-0.37767614 -0.61175615 -1.97691323  0.70480565 -0.52755065 -0.24446662\n",
            "  -0.44809649 -0.28490197]\n",
            " [ 0.10953515  0.57877994  1.11023215  0.16875837 -0.75090929  0.84233845\n",
            "  -0.62701627 -0.60563191]\n",
            " [ 0.88396147 -1.34482923 -0.4916784   0.40675127  1.1027501  -1.11139771\n",
            "  -1.04623832  0.95871604]]\n",
            "new_v: [[-0.23143078  0.41771085 -0.9566029   2.51162707  0.33619158 -0.25141886\n",
            "  -0.52519439  1.82232727]\n",
            " [-0.34220325 -0.36205132 -1.72942942  1.14306354 -0.31804358 -0.24615294\n",
            "  -0.46679716  0.22622206]\n",
            " [-0.27747907 -0.32110083 -1.33564484  0.72870235 -0.51003483 -0.04367272\n",
            "  -0.4864867  -0.20065179]\n",
            " [ 0.04341404 -0.49607861 -0.95782287  0.68965603 -0.07754716 -0.27130001\n",
            "  -0.63909043  0.15704593]]\n",
            "attention: [[1.         0.         0.         0.        ]\n",
            " [0.24255739 0.75744261 0.         0.        ]\n",
            " [0.0681686  0.7466392  0.18519221 0.        ]\n",
            " [0.08670861 0.47972771 0.1789593  0.25460438]]\n"
          ]
        }
      ]
    },
    {
      "cell_type": "code",
      "source": [],
      "metadata": {
        "id": "5ky6uRBSvzxk"
      },
      "execution_count": null,
      "outputs": []
    }
  ]
}