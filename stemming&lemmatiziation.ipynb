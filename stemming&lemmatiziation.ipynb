{
  "nbformat": 4,
  "nbformat_minor": 0,
  "metadata": {
    "colab": {
      "provenance": [],
      "authorship_tag": "ABX9TyOCSmTmgWyBjX0JVzQVOzGq",
      "include_colab_link": true
    },
    "kernelspec": {
      "name": "python3",
      "display_name": "Python 3"
    },
    "language_info": {
      "name": "python"
    }
  },
  "cells": [
    {
      "cell_type": "markdown",
      "metadata": {
        "id": "view-in-github",
        "colab_type": "text"
      },
      "source": [
        "<a href=\"https://colab.research.google.com/github/fatemeh-ict/NLp/blob/main/stemming%26lemmatiziation.ipynb\" target=\"_parent\"><img src=\"https://colab.research.google.com/assets/colab-badge.svg\" alt=\"Open In Colab\"/></a>"
      ]
    },
    {
      "cell_type": "code",
      "execution_count": 1,
      "metadata": {
        "id": "NVitbuaRQf0I"
      },
      "outputs": [],
      "source": [
        "from nltk.stem.porter import *"
      ]
    },
    {
      "cell_type": "code",
      "source": [
        "tokens=['connection','connecting','disconnect','connect','connected']"
      ],
      "metadata": {
        "id": "5PqOv9rsTiie"
      },
      "execution_count": 2,
      "outputs": []
    },
    {
      "cell_type": "code",
      "source": [
        "stemmer=PorterStemmer()\n",
        "for token in tokens:\n",
        "  print(token +'- >'+stemmer.stem(token))"
      ],
      "metadata": {
        "colab": {
          "base_uri": "https://localhost:8080/"
        },
        "id": "VeauUzZRTyOH",
        "outputId": "9d1bc938-0a49-4292-8583-497446651a08"
      },
      "execution_count": 3,
      "outputs": [
        {
          "output_type": "stream",
          "name": "stdout",
          "text": [
            "connection- >connect\n",
            "connecting- >connect\n",
            "disconnect- >disconnect\n",
            "connect- >connect\n",
            "connected- >connect\n"
          ]
        }
      ]
    },
    {
      "cell_type": "code",
      "source": [
        "#another famous stemer is lancaster\n",
        "from nltk.stem.lancaster import *"
      ],
      "metadata": {
        "id": "09wSyohyUCnD"
      },
      "execution_count": 5,
      "outputs": []
    },
    {
      "cell_type": "code",
      "source": [
        "tokens=['lovely','decentralized','better','information','disable','did']"
      ],
      "metadata": {
        "id": "sqqizx8JVnL_"
      },
      "execution_count": 8,
      "outputs": []
    },
    {
      "cell_type": "code",
      "source": [
        "lancaster=LancasterStemmer()\n",
        "\n",
        "for token in tokens:\n",
        "  print(token+'- >'+stemmer.stem(token))\n",
        "  print(token+'- >'+lancaster.stem(token))\n",
        "  print('\\n')"
      ],
      "metadata": {
        "colab": {
          "base_uri": "https://localhost:8080/"
        },
        "id": "n6OFFSawVOcA",
        "outputId": "ce73b088-6826-4bc9-f1ed-9a67c580d451"
      },
      "execution_count": 9,
      "outputs": [
        {
          "output_type": "stream",
          "name": "stdout",
          "text": [
            "lovely- >love\n",
            "lovely- >lov\n",
            "\n",
            "\n",
            "decentralized- >decentr\n",
            "decentralized- >dec\n",
            "\n",
            "\n",
            "better- >better\n",
            "better- >bet\n",
            "\n",
            "\n",
            "information- >inform\n",
            "information- >inform\n",
            "\n",
            "\n",
            "disable- >disabl\n",
            "disable- >dis\n",
            "\n",
            "\n",
            "did- >did\n",
            "did- >did\n",
            "\n",
            "\n"
          ]
        }
      ]
    },
    {
      "cell_type": "markdown",
      "source": [
        "#Lemmatiziation"
      ],
      "metadata": {
        "id": "l8GjbmLNW-gb"
      }
    },
    {
      "cell_type": "code",
      "source": [
        "import nltk"
      ],
      "metadata": {
        "id": "QlfZAUqksfdO"
      },
      "execution_count": 25,
      "outputs": []
    },
    {
      "cell_type": "code",
      "source": [
        "\n",
        " nltk.download('wordnet')"
      ],
      "metadata": {
        "colab": {
          "base_uri": "https://localhost:8080/"
        },
        "id": "t4dPvw9rYkF3",
        "outputId": "2cf0745b-55ed-4451-aa45-6ce858990bc1"
      },
      "execution_count": 27,
      "outputs": [
        {
          "output_type": "stream",
          "name": "stderr",
          "text": [
            "[nltk_data] Downloading package wordnet to /root/nltk_data...\n",
            "[nltk_data]   Package wordnet is already up-to-date!\n"
          ]
        },
        {
          "output_type": "execute_result",
          "data": {
            "text/plain": [
              "True"
            ]
          },
          "metadata": {},
          "execution_count": 27
        }
      ]
    },
    {
      "cell_type": "code",
      "source": [
        "from nltk.stem.wordnet import WordNetLemmatizer"
      ],
      "metadata": {
        "id": "yEvbpOgNWHH5"
      },
      "execution_count": 28,
      "outputs": []
    },
    {
      "cell_type": "code",
      "source": [
        "tokens=['lovely','decentralized','better','information','disable','did']"
      ],
      "metadata": {
        "id": "quLBGH56X9sv"
      },
      "execution_count": 29,
      "outputs": []
    },
    {
      "cell_type": "code",
      "source": [
        "lemma=WordNetLemmatizer()\n",
        "for token in tokens:\n",
        "  print(token + '- >' +stemmer.stem(token))\n",
        "  print(token + '- >' +lemma.lemmatize(token))\n",
        "  print('\\n')"
      ],
      "metadata": {
        "colab": {
          "base_uri": "https://localhost:8080/"
        },
        "id": "228EHAavX5mt",
        "outputId": "23bcea83-33f1-44bb-a045-84241ae37fcd"
      },
      "execution_count": 30,
      "outputs": [
        {
          "output_type": "stream",
          "name": "stdout",
          "text": [
            "lovely- >love\n",
            "lovely- >lovely\n",
            "\n",
            "\n",
            "decentralized- >decentr\n",
            "decentralized- >decentralized\n",
            "\n",
            "\n",
            "better- >better\n",
            "better- >better\n",
            "\n",
            "\n",
            "information- >inform\n",
            "information- >information\n",
            "\n",
            "\n",
            "disable- >disabl\n",
            "disable- >disable\n",
            "\n",
            "\n",
            "did- >did\n",
            "did- >did\n",
            "\n",
            "\n"
          ]
        }
      ]
    },
    {
      "cell_type": "code",
      "source": [
        "  for token in tokens:\n",
        "    print(token+'- >'+lemma.lemmatize(token,'a'))\n",
        ""
      ],
      "metadata": {
        "colab": {
          "base_uri": "https://localhost:8080/"
        },
        "id": "rrNoaj9QYBvK",
        "outputId": "2f2f0756-e01c-46cc-b838-d6bedb3e1f1b"
      },
      "execution_count": 38,
      "outputs": [
        {
          "output_type": "stream",
          "name": "stdout",
          "text": [
            "lovely- >lovely\n",
            "decentralized- >decentralized\n",
            "better- >good\n",
            "information- >information\n",
            "disable- >disable\n",
            "did- >did\n"
          ]
        }
      ]
    },
    {
      "cell_type": "code",
      "source": [
        "for token in tokens:\n",
        "    print(token+'- >'+lemma.lemmatize(token,'v'))\n",
        ""
      ],
      "metadata": {
        "colab": {
          "base_uri": "https://localhost:8080/"
        },
        "id": "-lyoZCT7sB93",
        "outputId": "d8b0e100-6fd8-49c0-d9d1-a2d7fae69e07"
      },
      "execution_count": 39,
      "outputs": [
        {
          "output_type": "stream",
          "name": "stdout",
          "text": [
            "lovely- >lovely\n",
            "decentralized- >decentralize\n",
            "better- >better\n",
            "information- >information\n",
            "disable- >disable\n",
            "did- >do\n"
          ]
        }
      ]
    },
    {
      "cell_type": "markdown",
      "source": [
        "lemma in persian language"
      ],
      "metadata": {
        "id": "AL2GxXE8wWkN"
      }
    },
    {
      "cell_type": "code",
      "source": [
        "!pip install hazm"
      ],
      "metadata": {
        "colab": {
          "base_uri": "https://localhost:8080/"
        },
        "id": "Bv4E_gTlwvJ8",
        "outputId": "082f2019-2551-4a64-bc5e-ff0c6248db16"
      },
      "execution_count": 1,
      "outputs": [
        {
          "output_type": "stream",
          "name": "stdout",
          "text": [
            "Requirement already satisfied: hazm in /usr/local/lib/python3.10/dist-packages (0.10.0)\n",
            "Requirement already satisfied: fasttext-wheel<0.10.0,>=0.9.2 in /usr/local/lib/python3.10/dist-packages (from hazm) (0.9.2)\n",
            "Requirement already satisfied: flashtext<3.0,>=2.7 in /usr/local/lib/python3.10/dist-packages (from hazm) (2.7)\n",
            "Requirement already satisfied: gensim<5.0.0,>=4.3.1 in /usr/local/lib/python3.10/dist-packages (from hazm) (4.3.2)\n",
            "Requirement already satisfied: nltk<4.0.0,>=3.8.1 in /usr/local/lib/python3.10/dist-packages (from hazm) (3.8.1)\n",
            "Requirement already satisfied: numpy==1.24.3 in /usr/local/lib/python3.10/dist-packages (from hazm) (1.24.3)\n",
            "Requirement already satisfied: python-crfsuite<0.10.0,>=0.9.9 in /usr/local/lib/python3.10/dist-packages (from hazm) (0.9.10)\n",
            "Requirement already satisfied: scikit-learn<2.0.0,>=1.2.2 in /usr/local/lib/python3.10/dist-packages (from hazm) (1.2.2)\n",
            "Requirement already satisfied: pybind11>=2.2 in /usr/local/lib/python3.10/dist-packages (from fasttext-wheel<0.10.0,>=0.9.2->hazm) (2.11.1)\n",
            "Requirement already satisfied: setuptools>=0.7.0 in /usr/local/lib/python3.10/dist-packages (from fasttext-wheel<0.10.0,>=0.9.2->hazm) (67.7.2)\n",
            "Requirement already satisfied: scipy>=1.7.0 in /usr/local/lib/python3.10/dist-packages (from gensim<5.0.0,>=4.3.1->hazm) (1.11.4)\n",
            "Requirement already satisfied: smart-open>=1.8.1 in /usr/local/lib/python3.10/dist-packages (from gensim<5.0.0,>=4.3.1->hazm) (6.4.0)\n",
            "Requirement already satisfied: click in /usr/local/lib/python3.10/dist-packages (from nltk<4.0.0,>=3.8.1->hazm) (8.1.7)\n",
            "Requirement already satisfied: joblib in /usr/local/lib/python3.10/dist-packages (from nltk<4.0.0,>=3.8.1->hazm) (1.3.2)\n",
            "Requirement already satisfied: regex>=2021.8.3 in /usr/local/lib/python3.10/dist-packages (from nltk<4.0.0,>=3.8.1->hazm) (2023.12.25)\n",
            "Requirement already satisfied: tqdm in /usr/local/lib/python3.10/dist-packages (from nltk<4.0.0,>=3.8.1->hazm) (4.66.2)\n",
            "Requirement already satisfied: threadpoolctl>=2.0.0 in /usr/local/lib/python3.10/dist-packages (from scikit-learn<2.0.0,>=1.2.2->hazm) (3.4.0)\n"
          ]
        }
      ]
    },
    {
      "cell_type": "code",
      "source": [
        "from hazm import *"
      ],
      "metadata": {
        "id": "7F571w2bvZy7"
      },
      "execution_count": 2,
      "outputs": []
    },
    {
      "cell_type": "code",
      "source": [
        "per_tokens = [\"رفت\" , \"می روم\", \"رفتی\", \"کتاب ها\", \"کتابخوانی\", \"کتابم\", \"کتابی\"]"
      ],
      "metadata": {
        "id": "Q6fQ8g0ewdxb"
      },
      "execution_count": 3,
      "outputs": []
    },
    {
      "cell_type": "code",
      "source": [
        "stemmer=Stemmer()\n",
        "lemma=Lemmatizer()\n",
        "norm=Normalizer()\n",
        "for token in per_tokens:\n",
        "  token=norm.normalize(token)\n",
        "  print('stem - >',stemmer.stem(token))\n",
        "  print('lemma - >',lemma.lemmatize(token))\n",
        "  print('\\n')"
      ],
      "metadata": {
        "colab": {
          "base_uri": "https://localhost:8080/"
        },
        "id": "D7_QsDTJxClM",
        "outputId": "a6b90601-3685-4760-bc9c-fbd4c342fe79"
      },
      "execution_count": 4,
      "outputs": [
        {
          "output_type": "stream",
          "name": "stdout",
          "text": [
            "stem - > رف\n",
            "lemma - > رفت#رو\n",
            "\n",
            "\n",
            "stem - > می‌رو\n",
            "lemma - > رفت#رو\n",
            "\n",
            "\n",
            "stem - > رفت\n",
            "lemma - > رفت#رو\n",
            "\n",
            "\n",
            "stem - > کتاب\n",
            "lemma - > کتاب\n",
            "\n",
            "\n",
            "stem - > کتابخوان\n",
            "lemma - > کتابخوانی\n",
            "\n",
            "\n",
            "stem - > کتاب\n",
            "lemma - > کتاب\n",
            "\n",
            "\n",
            "stem - > کتاب\n",
            "lemma - > کتابی\n",
            "\n",
            "\n"
          ]
        }
      ]
    },
    {
      "cell_type": "code",
      "source": [],
      "metadata": {
        "id": "DYI4coJRyRj4"
      },
      "execution_count": null,
      "outputs": []
    }
  ]
}