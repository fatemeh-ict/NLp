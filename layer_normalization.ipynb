{
  "nbformat": 4,
  "nbformat_minor": 0,
  "metadata": {
    "colab": {
      "provenance": [],
      "authorship_tag": "ABX9TyNjUfh7QQjzdhxCJjeYRo49",
      "include_colab_link": true
    },
    "kernelspec": {
      "name": "python3",
      "display_name": "Python 3"
    },
    "language_info": {
      "name": "python"
    }
  },
  "cells": [
    {
      "cell_type": "markdown",
      "metadata": {
        "id": "view-in-github",
        "colab_type": "text"
      },
      "source": [
        "<a href=\"https://colab.research.google.com/github/fatemeh-ict/NLp/blob/main/layer_normalization.ipynb\" target=\"_parent\"><img src=\"https://colab.research.google.com/assets/colab-badge.svg\" alt=\"Open In Colab\"/></a>"
      ]
    },
    {
      "cell_type": "code",
      "execution_count": 1,
      "metadata": {
        "id": "tbbXeCAu53t0"
      },
      "outputs": [],
      "source": [
        "import torch\n",
        "from torch import nn"
      ]
    },
    {
      "cell_type": "code",
      "source": [
        "inputs=torch.Tensor([[[.2,.1,.3],[.5,.1,.1]]])\n",
        "b,s,e=inputs.size()\n",
        "print(b,s,e)"
      ],
      "metadata": {
        "colab": {
          "base_uri": "https://localhost:8080/"
        },
        "id": "pHvEpc697AHN",
        "outputId": "17eb6568-013b-4ea8-c8d0-ec63c92fc5dd"
      },
      "execution_count": 2,
      "outputs": [
        {
          "output_type": "stream",
          "name": "stdout",
          "text": [
            "1 2 3\n"
          ]
        }
      ]
    },
    {
      "cell_type": "code",
      "source": [
        "inputs=inputs.reshape(s,b,e)\n",
        "print(inputs.size())"
      ],
      "metadata": {
        "colab": {
          "base_uri": "https://localhost:8080/"
        },
        "id": "vGHrf3fo7ZP0",
        "outputId": "e141dbd6-f5cb-4ace-d029-185734364fa6"
      },
      "execution_count": 3,
      "outputs": [
        {
          "output_type": "stream",
          "name": "stdout",
          "text": [
            "torch.Size([2, 1, 3])\n"
          ]
        }
      ]
    },
    {
      "cell_type": "code",
      "source": [
        "parameter_shape=inputs.size()[-2:]\n",
        "gamma=nn.Parameter(torch.ones(parameter_shape))\n",
        "beta=nn.Parameter(torch.zeros(parameter_shape))\n",
        "print(gamma.size())\n",
        "print(beta.size())"
      ],
      "metadata": {
        "colab": {
          "base_uri": "https://localhost:8080/"
        },
        "id": "zrhnQa4f7n_A",
        "outputId": "0eba3e14-6d14-4294-936d-cbc189de592f"
      },
      "execution_count": 4,
      "outputs": [
        {
          "output_type": "stream",
          "name": "stdout",
          "text": [
            "torch.Size([1, 3])\n",
            "torch.Size([1, 3])\n"
          ]
        }
      ]
    },
    {
      "cell_type": "code",
      "source": [
        "dims=[-(i+1) for i in range(len(parameter_shape))]\n",
        "print(dims)"
      ],
      "metadata": {
        "colab": {
          "base_uri": "https://localhost:8080/"
        },
        "id": "9HnhD4xU8Je9",
        "outputId": "127ec3cd-9df3-486b-cdba-74668d936724"
      },
      "execution_count": 5,
      "outputs": [
        {
          "output_type": "stream",
          "name": "stdout",
          "text": [
            "[-1, -2]\n"
          ]
        }
      ]
    },
    {
      "cell_type": "code",
      "source": [
        "means=inputs.mean(dim=dims,keepdim=True)\n",
        "print(means)\n",
        "print(means.size())"
      ],
      "metadata": {
        "colab": {
          "base_uri": "https://localhost:8080/"
        },
        "id": "zjXgUL_w9I5F",
        "outputId": "752bab19-2cc2-464d-8c25-825a34685777"
      },
      "execution_count": 6,
      "outputs": [
        {
          "output_type": "stream",
          "name": "stdout",
          "text": [
            "tensor([[[0.2000]],\n",
            "\n",
            "        [[0.2333]]])\n",
            "torch.Size([2, 1, 1])\n"
          ]
        }
      ]
    },
    {
      "cell_type": "code",
      "source": [
        "var=((inputs-means)**2).mean(dim=dims,keepdim=True)\n",
        "epsilon=1e-5\n",
        "std=(var+epsilon).sqrt()\n",
        "print(std)"
      ],
      "metadata": {
        "colab": {
          "base_uri": "https://localhost:8080/"
        },
        "id": "rzMh6H3_9ckg",
        "outputId": "f221ee88-46b0-4193-8419-fd5f1a05ee06"
      },
      "execution_count": 8,
      "outputs": [
        {
          "output_type": "stream",
          "name": "stdout",
          "text": [
            "tensor([[[0.0817]],\n",
            "\n",
            "        [[0.1886]]])\n"
          ]
        }
      ]
    },
    {
      "cell_type": "code",
      "source": [
        "y=(inputs-means)/std\n",
        "print(y)"
      ],
      "metadata": {
        "colab": {
          "base_uri": "https://localhost:8080/"
        },
        "id": "LXJNkmUo-RxD",
        "outputId": "9ce1517f-59e9-4c3a-aeb2-4cbd50a3e8e3"
      },
      "execution_count": 10,
      "outputs": [
        {
          "output_type": "stream",
          "name": "stdout",
          "text": [
            "tensor([[[ 0.0000, -1.2238,  1.2238]],\n",
            "\n",
            "        [[ 1.4140, -0.7070, -0.7070]]])\n"
          ]
        }
      ]
    },
    {
      "cell_type": "code",
      "source": [
        "out=gamma*y+beta\n",
        "print(out)"
      ],
      "metadata": {
        "colab": {
          "base_uri": "https://localhost:8080/"
        },
        "id": "xpJPQxgm-qcL",
        "outputId": "ae0b793a-71b5-4c17-f96c-7c52e4caf9f1"
      },
      "execution_count": 11,
      "outputs": [
        {
          "output_type": "stream",
          "name": "stdout",
          "text": [
            "tensor([[[ 0.0000, -1.2238,  1.2238]],\n",
            "\n",
            "        [[ 1.4140, -0.7070, -0.7070]]], grad_fn=<AddBackward0>)\n"
          ]
        }
      ]
    },
    {
      "cell_type": "code",
      "source": [
        "import torch\n",
        "from torch import nn\n",
        "\n",
        "class LayerNormalization():\n",
        "    def __init__(self, parameters_shape, eps=1e-5):\n",
        "        self.parameters_shape=parameters_shape\n",
        "        self.eps=eps\n",
        "        self.gamma = nn.Parameter(torch.ones(parameters_shape))\n",
        "        self.beta =  nn.Parameter(torch.zeros(parameters_shape))\n",
        "\n",
        "    def forward(self, input):\n",
        "        dims = [-(i + 1) for i in range(len(self.parameters_shape))]\n",
        "        means = inputs.mean(dim=dims, keepdim=True)\n",
        "        print('means:' ,means)\n",
        "        var = ((inputs - means) ** 2).mean(dim=dims, keepdim=True)\n",
        "        std = (var + self.eps).sqrt()\n",
        "        print('std:' , std)\n",
        "        y = (inputs - means) / std\n",
        "        print('y:',y)\n",
        "        out = self.gamma * y  + self.beta\n",
        "        print('out:', out)\n",
        "        return out"
      ],
      "metadata": {
        "id": "OhLj0KtL-0Bq"
      },
      "execution_count": 12,
      "outputs": []
    },
    {
      "cell_type": "code",
      "source": [
        "batch_size = 3\n",
        "sentence_length = 5\n",
        "embedding_dim = 8\n",
        "inputs = torch.randn(sentence_length, batch_size, embedding_dim)\n",
        "\n",
        "print('inputs: ',inputs)\n",
        "print(inputs.size())"
      ],
      "metadata": {
        "colab": {
          "base_uri": "https://localhost:8080/"
        },
        "id": "j6bSMHuoBUsU",
        "outputId": "76b45300-3c3c-401f-b35d-4efb69e47954"
      },
      "execution_count": 14,
      "outputs": [
        {
          "output_type": "stream",
          "name": "stdout",
          "text": [
            "inputs:  tensor([[[ 0.0874,  1.1189,  0.2708, -1.0413, -0.3140, -0.0485,  0.0634,\n",
            "           0.0640],\n",
            "         [-2.8542,  1.3534,  1.8117, -1.7698,  1.0013, -1.1117, -0.7677,\n",
            "           1.2499],\n",
            "         [-0.4510,  1.1840, -0.6403,  0.2035, -0.9923, -0.3421,  0.8990,\n",
            "          -1.3165]],\n",
            "\n",
            "        [[ 0.3243,  0.0428, -0.8750, -0.3396,  0.4660,  0.4735, -1.4888,\n",
            "          -1.6862],\n",
            "         [-0.7080,  1.6126, -0.6237,  0.4729, -0.4081,  0.9999, -2.7812,\n",
            "          -0.5007],\n",
            "         [ 2.0901, -0.9178,  1.3806,  0.5554, -1.8190,  0.1140, -0.5563,\n",
            "           1.6962]],\n",
            "\n",
            "        [[ 0.2977,  0.3517, -0.9572,  1.4232,  0.4644,  1.1520,  0.5046,\n",
            "           1.8658],\n",
            "         [-1.1295,  1.5063,  1.1001,  0.0392, -0.9724, -0.9391, -0.8830,\n",
            "          -0.2965],\n",
            "         [ 0.7376, -1.0246,  0.3616, -1.1200, -0.0225,  1.4643, -1.4382,\n",
            "          -2.1789]],\n",
            "\n",
            "        [[ 0.3788,  0.3097,  0.9465, -0.5448,  0.5773,  0.2146,  0.7069,\n",
            "          -0.8370],\n",
            "         [ 0.0252,  0.2673,  0.3239,  0.3168, -0.7451, -0.8694,  0.5765,\n",
            "           0.2410],\n",
            "         [-1.3856,  1.9630, -0.7725,  0.8310,  0.8819,  0.0704,  0.4840,\n",
            "           0.2987]],\n",
            "\n",
            "        [[ 0.9615, -0.7238, -0.4855,  0.4245, -1.4432,  0.5499,  1.5485,\n",
            "           1.1065],\n",
            "         [-0.5789,  0.6905,  1.5833,  0.4782,  0.7820, -0.6853,  0.3396,\n",
            "           0.7307],\n",
            "         [-0.3999,  1.4014, -0.8469,  2.1038,  2.4315, -0.1662, -0.6858,\n",
            "           0.0499]]])\n",
            "torch.Size([5, 3, 8])\n"
          ]
        }
      ]
    },
    {
      "cell_type": "code",
      "source": [
        "layer_norm = LayerNormalization(inputs.size()[-1:])"
      ],
      "metadata": {
        "id": "zt5wYfxqBe6M"
      },
      "execution_count": 15,
      "outputs": []
    },
    {
      "cell_type": "code",
      "source": [
        "out = layer_norm.forward(inputs)"
      ],
      "metadata": {
        "colab": {
          "base_uri": "https://localhost:8080/"
        },
        "id": "Y3Ydt_O_BuPQ",
        "outputId": "39134af3-34ab-4fde-f3ff-b7200280d205"
      },
      "execution_count": 16,
      "outputs": [
        {
          "output_type": "stream",
          "name": "stdout",
          "text": [
            "means: tensor([[[ 0.0251],\n",
            "         [-0.1359],\n",
            "         [-0.1820]],\n",
            "\n",
            "        [[-0.3854],\n",
            "         [-0.2420],\n",
            "         [ 0.3179]],\n",
            "\n",
            "        [[ 0.6378],\n",
            "         [-0.1968],\n",
            "         [-0.4026]],\n",
            "\n",
            "        [[ 0.2190],\n",
            "         [ 0.0170],\n",
            "         [ 0.2964]],\n",
            "\n",
            "        [[ 0.2423],\n",
            "         [ 0.4175],\n",
            "         [ 0.4860]]])\n",
            "std: tensor([[[0.5614],\n",
            "         [1.6060],\n",
            "         [0.8242]],\n",
            "\n",
            "        [[0.8140],\n",
            "         [1.2449],\n",
            "         [1.2809]],\n",
            "\n",
            "        [[0.8046],\n",
            "         [0.9448],\n",
            "         [1.1534]],\n",
            "\n",
            "        [[0.5731],\n",
            "         [0.4971],\n",
            "         [0.9659]],\n",
            "\n",
            "        [[0.9619],\n",
            "         [0.6967],\n",
            "         [1.2140]]])\n",
            "y: tensor([[[ 0.1110,  1.9484,  0.4377, -1.8995, -0.6041, -0.1311,  0.0681,\n",
            "           0.0693],\n",
            "         [-1.6925,  0.9273,  1.2127, -1.0173,  0.7081, -0.6076, -0.3934,\n",
            "           0.8629],\n",
            "         [-0.3264,  1.6572, -0.5561,  0.4677, -0.9831, -0.1943,  1.3115,\n",
            "          -1.3765]],\n",
            "\n",
            "        [[ 0.8718,  0.5260, -0.6015,  0.0562,  1.0459,  1.0551, -1.3555,\n",
            "          -1.5980],\n",
            "         [-0.3743,  1.4898, -0.3066,  0.5743, -0.1334,  0.9977, -2.0397,\n",
            "          -0.2078],\n",
            "         [ 1.3836, -0.9647,  0.8297,  0.1854, -1.6683, -0.1592, -0.6825,\n",
            "           1.0761]],\n",
            "\n",
            "        [[-0.4226, -0.3556, -1.9824,  0.9762, -0.2155,  0.6391, -0.1655,\n",
            "           1.5263],\n",
            "         [-0.9871,  1.8026,  1.3727,  0.2498, -0.8208, -0.7856, -0.7262,\n",
            "          -0.1054],\n",
            "         [ 0.9885, -0.5393,  0.6625, -0.6220,  0.3296,  1.6186, -0.8979,\n",
            "          -1.5401]],\n",
            "\n",
            "        [[ 0.2788,  0.1583,  1.2693, -1.3326,  0.6251, -0.0076,  0.8512,\n",
            "          -1.8424],\n",
            "         [ 0.0165,  0.5035,  0.6174,  0.6030, -1.5333, -1.7833,  1.1255,\n",
            "           0.4506],\n",
            "         [-1.7413,  1.7254, -1.1066,  0.5535,  0.6062, -0.2339,  0.1943,\n",
            "           0.0024]],\n",
            "\n",
            "        [[ 0.7476, -1.0044, -0.7566,  0.1894, -1.7523,  0.3198,  1.3579,\n",
            "           0.8985],\n",
            "         [-1.4302,  0.3918,  1.6732,  0.0871,  0.5231, -1.5828, -0.1118,\n",
            "           0.4496],\n",
            "         [-0.7297,  0.7540, -1.0979,  1.3326,  1.6026, -0.5372, -0.9652,\n",
            "          -0.3592]]])\n",
            "out: tensor([[[ 0.1110,  1.9484,  0.4377, -1.8995, -0.6041, -0.1311,  0.0681,\n",
            "           0.0693],\n",
            "         [-1.6925,  0.9273,  1.2127, -1.0173,  0.7081, -0.6076, -0.3934,\n",
            "           0.8629],\n",
            "         [-0.3264,  1.6572, -0.5561,  0.4677, -0.9831, -0.1943,  1.3115,\n",
            "          -1.3765]],\n",
            "\n",
            "        [[ 0.8718,  0.5260, -0.6015,  0.0562,  1.0459,  1.0551, -1.3555,\n",
            "          -1.5980],\n",
            "         [-0.3743,  1.4898, -0.3066,  0.5743, -0.1334,  0.9977, -2.0397,\n",
            "          -0.2078],\n",
            "         [ 1.3836, -0.9647,  0.8297,  0.1854, -1.6683, -0.1592, -0.6825,\n",
            "           1.0761]],\n",
            "\n",
            "        [[-0.4226, -0.3556, -1.9824,  0.9762, -0.2155,  0.6391, -0.1655,\n",
            "           1.5263],\n",
            "         [-0.9871,  1.8026,  1.3727,  0.2498, -0.8208, -0.7856, -0.7262,\n",
            "          -0.1054],\n",
            "         [ 0.9885, -0.5393,  0.6625, -0.6220,  0.3296,  1.6186, -0.8979,\n",
            "          -1.5401]],\n",
            "\n",
            "        [[ 0.2788,  0.1583,  1.2693, -1.3326,  0.6251, -0.0076,  0.8512,\n",
            "          -1.8424],\n",
            "         [ 0.0165,  0.5035,  0.6174,  0.6030, -1.5333, -1.7833,  1.1255,\n",
            "           0.4506],\n",
            "         [-1.7413,  1.7254, -1.1066,  0.5535,  0.6062, -0.2339,  0.1943,\n",
            "           0.0024]],\n",
            "\n",
            "        [[ 0.7476, -1.0044, -0.7566,  0.1894, -1.7523,  0.3198,  1.3579,\n",
            "           0.8985],\n",
            "         [-1.4302,  0.3918,  1.6732,  0.0871,  0.5231, -1.5828, -0.1118,\n",
            "           0.4496],\n",
            "         [-0.7297,  0.7540, -1.0979,  1.3326,  1.6026, -0.5372, -0.9652,\n",
            "          -0.3592]]], grad_fn=<AddBackward0>)\n"
          ]
        }
      ]
    },
    {
      "cell_type": "code",
      "source": [],
      "metadata": {
        "id": "ukj5yWu9Byn-"
      },
      "execution_count": null,
      "outputs": []
    }
  ]
}