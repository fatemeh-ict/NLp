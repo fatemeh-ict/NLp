{
  "nbformat": 4,
  "nbformat_minor": 0,
  "metadata": {
    "colab": {
      "provenance": [],
      "authorship_tag": "ABX9TyOryfAzS/TECurHTUa9BnuL",
      "include_colab_link": true
    },
    "kernelspec": {
      "name": "python3",
      "display_name": "Python 3"
    },
    "language_info": {
      "name": "python"
    }
  },
  "cells": [
    {
      "cell_type": "markdown",
      "metadata": {
        "id": "view-in-github",
        "colab_type": "text"
      },
      "source": [
        "<a href=\"https://colab.research.google.com/github/fatemeh-ict/NLp/blob/main/MultiheadAttention.ipynb\" target=\"_parent\"><img src=\"https://colab.research.google.com/assets/colab-badge.svg\" alt=\"Open In Colab\"/></a>"
      ]
    },
    {
      "cell_type": "code",
      "execution_count": 1,
      "metadata": {
        "id": "g3AxxDAH8r-E"
      },
      "outputs": [],
      "source": [
        "import numpy as np\n",
        "import torch\n",
        "import torch.nn as nn\n",
        "import torch.nn.functional as F"
      ]
    },
    {
      "cell_type": "code",
      "source": [
        "sequence_length=4\n",
        "batch_size=1\n",
        "input_dim=512\n",
        "d_model=512\n",
        "x=torch.randn( (batch_size,sequence_length,input_dim) )"
      ],
      "metadata": {
        "id": "yRwWBWSF8-Mj"
      },
      "execution_count": 2,
      "outputs": []
    },
    {
      "cell_type": "code",
      "source": [
        "x.shape"
      ],
      "metadata": {
        "colab": {
          "base_uri": "https://localhost:8080/"
        },
        "id": "WVbfCAz19eDe",
        "outputId": "399e7b51-fc15-4172-9710-e30029644234"
      },
      "execution_count": 3,
      "outputs": [
        {
          "output_type": "execute_result",
          "data": {
            "text/plain": [
              "torch.Size([1, 4, 512])"
            ]
          },
          "metadata": {},
          "execution_count": 3
        }
      ]
    },
    {
      "cell_type": "code",
      "source": [
        "qkv_layer=nn.Linear(input_dim,3*d_model)\n",
        "qkv=qkv_layer(x)\n"
      ],
      "metadata": {
        "id": "PB-K0aLv_GbX"
      },
      "execution_count": 4,
      "outputs": []
    },
    {
      "cell_type": "code",
      "source": [
        "qkv.shape"
      ],
      "metadata": {
        "colab": {
          "base_uri": "https://localhost:8080/"
        },
        "id": "IQIBj6P-_Y22",
        "outputId": "32481103-41a7-49c4-b185-ed5c4f401598"
      },
      "execution_count": 5,
      "outputs": [
        {
          "output_type": "execute_result",
          "data": {
            "text/plain": [
              "torch.Size([1, 4, 1536])"
            ]
          },
          "metadata": {},
          "execution_count": 5
        }
      ]
    },
    {
      "cell_type": "code",
      "source": [
        "import matplotlib.pyplot as plt\n",
        "y_val=torch.histc(qkv,bins=200,min=-3,max=3)\n",
        "x_val=np.arange(-1,1,.01)*3\n",
        "plt.bar(x_val,y_val,align='center',color=['forestgreen'])\n",
        "plt.title('qkv distribution')"
      ],
      "metadata": {
        "colab": {
          "base_uri": "https://localhost:8080/",
          "height": 470
        },
        "id": "-eLcyq2A9gF5",
        "outputId": "025a1eaa-71b2-4e29-9368-b037648d28e1"
      },
      "execution_count": 6,
      "outputs": [
        {
          "output_type": "execute_result",
          "data": {
            "text/plain": [
              "Text(0.5, 1.0, 'qkv distribution')"
            ]
          },
          "metadata": {},
          "execution_count": 6
        },
        {
          "output_type": "display_data",
          "data": {
            "text/plain": [
              "<Figure size 640x480 with 1 Axes>"
            ],
            "image/png": "[encoded data removed]"
          },
          "metadata": {}
        }
      ]
    },
    {
      "cell_type": "code",
      "source": [
        "num_head=8\n",
        "head_dim=d_model//num_head\n",
        "qkv=qkv.reshape(batch_size,sequence_length,num_head,3*head_dim)"
      ],
      "metadata": {
        "id": "uubgB1zw_zAE"
      },
      "execution_count": 7,
      "outputs": []
    },
    {
      "cell_type": "code",
      "source": [
        "qkv.shape"
      ],
      "metadata": {
        "colab": {
          "base_uri": "https://localhost:8080/"
        },
        "id": "KlvPXvjnBIT6",
        "outputId": "b384a93b-dccc-42d5-9964-d60b69f4d87e"
      },
      "execution_count": 8,
      "outputs": [
        {
          "output_type": "execute_result",
          "data": {
            "text/plain": [
              "torch.Size([1, 4, 8, 192])"
            ]
          },
          "metadata": {},
          "execution_count": 8
        }
      ]
    },
    {
      "cell_type": "code",
      "source": [
        "qkv=qkv.permute(0,2,1,3)\n"
      ],
      "metadata": {
        "id": "ksL97c1HBLVC"
      },
      "execution_count": 9,
      "outputs": []
    },
    {
      "cell_type": "code",
      "source": [
        "qkv.shape"
      ],
      "metadata": {
        "colab": {
          "base_uri": "https://localhost:8080/"
        },
        "id": "R5sm4r6AB0UE",
        "outputId": "a48ed62c-f8d3-4095-d82b-367773e37e8d"
      },
      "execution_count": 10,
      "outputs": [
        {
          "output_type": "execute_result",
          "data": {
            "text/plain": [
              "torch.Size([1, 8, 4, 192])"
            ]
          },
          "metadata": {},
          "execution_count": 10
        }
      ]
    },
    {
      "cell_type": "code",
      "source": [
        "q,k,v=qkv.chunk(3,dim=-1)"
      ],
      "metadata": {
        "id": "0JpyBqUuB14w"
      },
      "execution_count": 11,
      "outputs": []
    },
    {
      "cell_type": "code",
      "source": [
        "q.shape,k.shape,v.shape"
      ],
      "metadata": {
        "colab": {
          "base_uri": "https://localhost:8080/"
        },
        "id": "uq5V2WllCiMk",
        "outputId": "93b2eebc-3a8b-4040-c80f-fbb5f7fb53be"
      },
      "execution_count": 12,
      "outputs": [
        {
          "output_type": "execute_result",
          "data": {
            "text/plain": [
              "(torch.Size([1, 8, 4, 64]),\n",
              " torch.Size([1, 8, 4, 64]),\n",
              " torch.Size([1, 8, 4, 64]))"
            ]
          },
          "metadata": {},
          "execution_count": 12
        }
      ]
    },
    {
      "cell_type": "markdown",
      "source": [
        "Self Attention"
      ],
      "metadata": {
        "id": "PCGdpTCMD6N9"
      }
    },
    {
      "cell_type": "code",
      "source": [
        "import math\n",
        "d_k=q.size()[-1]\n",
        "scale=torch.matmul(q,k.transpose(-2,-1))/math.sqrt(d_k)"
      ],
      "metadata": {
        "id": "PVQ7UHiMCle3"
      },
      "execution_count": 13,
      "outputs": []
    },
    {
      "cell_type": "code",
      "source": [
        "scale.shape"
      ],
      "metadata": {
        "colab": {
          "base_uri": "https://localhost:8080/"
        },
        "id": "p7zm4VX6ERsF",
        "outputId": "5f14466a-4da6-4d44-eb11-d57c989998ec"
      },
      "execution_count": 14,
      "outputs": [
        {
          "output_type": "execute_result",
          "data": {
            "text/plain": [
              "torch.Size([1, 8, 4, 4])"
            ]
          },
          "metadata": {},
          "execution_count": 14
        }
      ]
    },
    {
      "cell_type": "code",
      "source": [
        "k.T.shape"
      ],
      "metadata": {
        "colab": {
          "base_uri": "https://localhost:8080/"
        },
        "id": "OcZQR_QJEfPd",
        "outputId": "d51516b5-2f62-4906-917a-c22f2b66974d"
      },
      "execution_count": 15,
      "outputs": [
        {
          "output_type": "stream",
          "name": "stderr",
          "text": [
            "<ipython-input-15-879c2705464e>:1: UserWarning: The use of `x.T` on tensors of dimension other than 2 to reverse their shape is deprecated and it will throw an error in a future release. Consider `x.mT` to transpose batches of matrices or `x.permute(*torch.arange(x.ndim - 1, -1, -1))` to reverse the dimensions of a tensor. (Triggered internally at ../aten/src/ATen/native/TensorShape.cpp:3637.)\n",
            "  k.T.shape\n"
          ]
        },
        {
          "output_type": "execute_result",
          "data": {
            "text/plain": [
              "torch.Size([64, 4, 8, 1])"
            ]
          },
          "metadata": {},
          "execution_count": 15
        }
      ]
    },
    {
      "cell_type": "code",
      "source": [
        "y=torch.randn(2,3)\n",
        "torch.transpose(y,0,1)\n"
      ],
      "metadata": {
        "colab": {
          "base_uri": "https://localhost:8080/"
        },
        "id": "OCRdxpwdExd2",
        "outputId": "8da6d921-4b07-40e8-e1bb-0e25b866b3d4"
      },
      "execution_count": 17,
      "outputs": [
        {
          "output_type": "execute_result",
          "data": {
            "text/plain": [
              "tensor([[-1.2358,  0.0309],\n",
              "        [ 0.3662,  1.2221],\n",
              "        [ 0.5875,  0.4291]])"
            ]
          },
          "metadata": {},
          "execution_count": 17
        }
      ]
    },
    {
      "cell_type": "code",
      "source": [
        "torch.transpose(y,1,0)"
      ],
      "metadata": {
        "colab": {
          "base_uri": "https://localhost:8080/"
        },
        "id": "9azaIQiZuX-s",
        "outputId": "b99a153d-6741-4afe-f718-772474dbc197"
      },
      "execution_count": 18,
      "outputs": [
        {
          "output_type": "execute_result",
          "data": {
            "text/plain": [
              "tensor([[-1.2358,  0.0309],\n",
              "        [ 0.3662,  1.2221],\n",
              "        [ 0.5875,  0.4291]])"
            ]
          },
          "metadata": {},
          "execution_count": 18
        }
      ]
    },
    {
      "cell_type": "code",
      "source": [
        "k.transpose(-1,-2)==k.transpose(-2,-1)"
      ],
      "metadata": {
        "colab": {
          "base_uri": "https://localhost:8080/"
        },
        "id": "M9_vwGkpuamm",
        "outputId": "4f67d001-a5f5-4075-aef0-a98848bb7fce"
      },
      "execution_count": 19,
      "outputs": [
        {
          "output_type": "execute_result",
          "data": {
            "text/plain": [
              "tensor([[[[True, True, True, True],\n",
              "          [True, True, True, True],\n",
              "          [True, True, True, True],\n",
              "          ...,\n",
              "          [True, True, True, True],\n",
              "          [True, True, True, True],\n",
              "          [True, True, True, True]],\n",
              "\n",
              "         [[True, True, True, True],\n",
              "          [True, True, True, True],\n",
              "          [True, True, True, True],\n",
              "          ...,\n",
              "          [True, True, True, True],\n",
              "          [True, True, True, True],\n",
              "          [True, True, True, True]],\n",
              "\n",
              "         [[True, True, True, True],\n",
              "          [True, True, True, True],\n",
              "          [True, True, True, True],\n",
              "          ...,\n",
              "          [True, True, True, True],\n",
              "          [True, True, True, True],\n",
              "          [True, True, True, True]],\n",
              "\n",
              "         ...,\n",
              "\n",
              "         [[True, True, True, True],\n",
              "          [True, True, True, True],\n",
              "          [True, True, True, True],\n",
              "          ...,\n",
              "          [True, True, True, True],\n",
              "          [True, True, True, True],\n",
              "          [True, True, True, True]],\n",
              "\n",
              "         [[True, True, True, True],\n",
              "          [True, True, True, True],\n",
              "          [True, True, True, True],\n",
              "          ...,\n",
              "          [True, True, True, True],\n",
              "          [True, True, True, True],\n",
              "          [True, True, True, True]],\n",
              "\n",
              "         [[True, True, True, True],\n",
              "          [True, True, True, True],\n",
              "          [True, True, True, True],\n",
              "          ...,\n",
              "          [True, True, True, True],\n",
              "          [True, True, True, True],\n",
              "          [True, True, True, True]]]])"
            ]
          },
          "metadata": {},
          "execution_count": 19
        }
      ]
    },
    {
      "cell_type": "code",
      "source": [
        "k.transpose(-1,-2).shape"
      ],
      "metadata": {
        "colab": {
          "base_uri": "https://localhost:8080/"
        },
        "id": "0xZaPQvvuinR",
        "outputId": "d63ea8dc-fb2a-44b3-f152-4e1d55e08ea7"
      },
      "execution_count": 20,
      "outputs": [
        {
          "output_type": "execute_result",
          "data": {
            "text/plain": [
              "torch.Size([1, 8, 64, 4])"
            ]
          },
          "metadata": {},
          "execution_count": 20
        }
      ]
    },
    {
      "cell_type": "code",
      "source": [
        "mask=torch.full(scale.size(),float('-inf'))\n",
        "mask=torch.triu(mask,diagonal=1)\n",
        "mask[0][1]\n"
      ],
      "metadata": {
        "colab": {
          "base_uri": "https://localhost:8080/"
        },
        "id": "Pj1x0l6mupEq",
        "outputId": "77ed6b1b-c36c-4a8e-e554-0164d1ba05c2"
      },
      "execution_count": 22,
      "outputs": [
        {
          "output_type": "execute_result",
          "data": {
            "text/plain": [
              "tensor([[0., -inf, -inf, -inf],\n",
              "        [0., 0., -inf, -inf],\n",
              "        [0., 0., 0., -inf],\n",
              "        [0., 0., 0., 0.]])"
            ]
          },
          "metadata": {},
          "execution_count": 22
        }
      ]
    },
    {
      "cell_type": "code",
      "source": [
        "(scale+mask)[0][0]"
      ],
      "metadata": {
        "colab": {
          "base_uri": "https://localhost:8080/"
        },
        "id": "KXN0gNfBvvMJ",
        "outputId": "ef2e3687-b419-4ae3-c10d-ce85bd544f65"
      },
      "execution_count": 23,
      "outputs": [
        {
          "output_type": "execute_result",
          "data": {
            "text/plain": [
              "tensor([[-0.5064,    -inf,    -inf,    -inf],\n",
              "        [-0.1236, -0.5560,    -inf,    -inf],\n",
              "        [ 0.1705,  0.6245, -0.3068,    -inf],\n",
              "        [ 0.1615,  0.1666, -0.2519,  0.4000]], grad_fn=<SelectBackward0>)"
            ]
          },
          "metadata": {},
          "execution_count": 23
        }
      ]
    },
    {
      "cell_type": "code",
      "source": [
        "scale+=mask"
      ],
      "metadata": {
        "id": "50O1noo2wyYJ"
      },
      "execution_count": 24,
      "outputs": []
    },
    {
      "cell_type": "code",
      "source": [
        "np.exp(-.1236)/(np.exp(-.1236)+np.exp(-.5560))"
      ],
      "metadata": {
        "colab": {
          "base_uri": "https://localhost:8080/"
        },
        "id": "1ED53WrxxClc",
        "outputId": "4d63011c-761b-499b-e0b4-d8d5329c0053"
      },
      "execution_count": 25,
      "outputs": [
        {
          "output_type": "execute_result",
          "data": {
            "text/plain": [
              "0.6064466204106757"
            ]
          },
          "metadata": {},
          "execution_count": 25
        }
      ]
    },
    {
      "cell_type": "code",
      "source": [
        "attention=F.softmax(scale,dim=-1)"
      ],
      "metadata": {
        "id": "_W74NCq-xWm_"
      },
      "execution_count": 26,
      "outputs": []
    },
    {
      "cell_type": "code",
      "source": [
        "attention.shape"
      ],
      "metadata": {
        "colab": {
          "base_uri": "https://localhost:8080/"
        },
        "id": "YrvWVpeWxgVt",
        "outputId": "14ebefc0-d590-472e-dba7-989c7bf8a399"
      },
      "execution_count": 27,
      "outputs": [
        {
          "output_type": "execute_result",
          "data": {
            "text/plain": [
              "torch.Size([1, 8, 4, 4])"
            ]
          },
          "metadata": {},
          "execution_count": 27
        }
      ]
    },
    {
      "cell_type": "code",
      "source": [
        "attention[0][0]"
      ],
      "metadata": {
        "colab": {
          "base_uri": "https://localhost:8080/"
        },
        "id": "Yh8J85NexiZX",
        "outputId": "178ffca1-e26b-46d4-9c95-b03427dd1674"
      },
      "execution_count": 28,
      "outputs": [
        {
          "output_type": "execute_result",
          "data": {
            "text/plain": [
              "tensor([[1.0000, 0.0000, 0.0000, 0.0000],\n",
              "        [0.6064, 0.3936, 0.0000, 0.0000],\n",
              "        [0.3130, 0.4928, 0.1942, 0.0000],\n",
              "        [0.2541, 0.2554, 0.1680, 0.3225]], grad_fn=<SelectBackward0>)"
            ]
          },
          "metadata": {},
          "execution_count": 28
        }
      ]
    },
    {
      "cell_type": "code",
      "source": [
        "values=torch.matmul(attention,v)\n",
        "values.shape"
      ],
      "metadata": {
        "colab": {
          "base_uri": "https://localhost:8080/"
        },
        "id": "bmvnu7zjxlVf",
        "outputId": "52d701e1-c01e-4d87-ce21-52d8a2b89cfe"
      },
      "execution_count": 29,
      "outputs": [
        {
          "output_type": "execute_result",
          "data": {
            "text/plain": [
              "torch.Size([1, 8, 4, 64])"
            ]
          },
          "metadata": {},
          "execution_count": 29
        }
      ]
    },
    {
      "cell_type": "markdown",
      "source": [
        "Function"
      ],
      "metadata": {
        "id": "KN_GnCtUyyap"
      }
    },
    {
      "cell_type": "code",
      "source": [
        "def scale_dot_product (q,k,v,mask=None):\n",
        "  d_k=q.size()[-1]\n",
        "  scale=torch.matmul(q,k.transpose(-1,-2)/math.sqrt(d_k))\n",
        "  if mask is not None:\n",
        "    scale += mask\n",
        "    attention=F.softmax(scale,dim=-1)\n",
        "    values=torch.matmul(attention,v)\n",
        "    return values,attention\n"
      ],
      "metadata": {
        "id": "BZ-H0tdiyI9d"
      },
      "execution_count": 43,
      "outputs": []
    },
    {
      "cell_type": "code",
      "source": [
        "values,attention=scale_dot_product(q,k,v,mask=mask)\n"
      ],
      "metadata": {
        "id": "_m3raLRfzeNc"
      },
      "execution_count": 44,
      "outputs": []
    },
    {
      "cell_type": "code",
      "source": [
        "attention.shape"
      ],
      "metadata": {
        "colab": {
          "base_uri": "https://localhost:8080/"
        },
        "id": "rDJcwRwM0j1M",
        "outputId": "13b7231b-25ee-450d-fc99-e256e2e7c779"
      },
      "execution_count": 45,
      "outputs": [
        {
          "output_type": "execute_result",
          "data": {
            "text/plain": [
              "torch.Size([1, 8, 4, 4])"
            ]
          },
          "metadata": {},
          "execution_count": 45
        }
      ]
    },
    {
      "cell_type": "code",
      "source": [
        "attention[0][0]"
      ],
      "metadata": {
        "colab": {
          "base_uri": "https://localhost:8080/"
        },
        "id": "onAHbxMN0mP9",
        "outputId": "8f16f21b-9bb1-4925-8bfa-e1a069f7bc0f"
      },
      "execution_count": 46,
      "outputs": [
        {
          "output_type": "execute_result",
          "data": {
            "text/plain": [
              "tensor([[1.0000, 0.0000, 0.0000, 0.0000],\n",
              "        [0.6064, 0.3936, 0.0000, 0.0000],\n",
              "        [0.3130, 0.4928, 0.1942, 0.0000],\n",
              "        [0.2541, 0.2554, 0.1680, 0.3225]], grad_fn=<SelectBackward0>)"
            ]
          },
          "metadata": {},
          "execution_count": 46
        }
      ]
    },
    {
      "cell_type": "code",
      "source": [
        "values.size()"
      ],
      "metadata": {
        "colab": {
          "base_uri": "https://localhost:8080/"
        },
        "id": "ojthwYdu0p7P",
        "outputId": "274c1b4c-2d94-461e-d398-66c290be15c9"
      },
      "execution_count": 47,
      "outputs": [
        {
          "output_type": "execute_result",
          "data": {
            "text/plain": [
              "torch.Size([1, 8, 4, 64])"
            ]
          },
          "metadata": {},
          "execution_count": 47
        }
      ]
    },
    {
      "cell_type": "code",
      "source": [
        "values=values.reshape(batch_size,sequence_length,num_head*head_dim)"
      ],
      "metadata": {
        "id": "4crF172T0rxx"
      },
      "execution_count": 48,
      "outputs": []
    },
    {
      "cell_type": "code",
      "source": [
        "values.size()"
      ],
      "metadata": {
        "colab": {
          "base_uri": "https://localhost:8080/"
        },
        "id": "jGFyxSeJ06Uj",
        "outputId": "4f5e99b6-592e-444e-f6b8-cc2f8f6513f3"
      },
      "execution_count": 49,
      "outputs": [
        {
          "output_type": "execute_result",
          "data": {
            "text/plain": [
              "torch.Size([1, 4, 512])"
            ]
          },
          "metadata": {},
          "execution_count": 49
        }
      ]
    },
    {
      "cell_type": "code",
      "source": [
        "linear_layer=nn.Linear(d_model,d_model)"
      ],
      "metadata": {
        "id": "fEhK24LZ08bO"
      },
      "execution_count": 50,
      "outputs": []
    },
    {
      "cell_type": "code",
      "source": [
        "out=linear_layer(values)"
      ],
      "metadata": {
        "id": "OMc8qezF1hna"
      },
      "execution_count": 51,
      "outputs": []
    },
    {
      "cell_type": "code",
      "source": [
        "out.shape"
      ],
      "metadata": {
        "colab": {
          "base_uri": "https://localhost:8080/"
        },
        "id": "rgw9NwIZ1m8s",
        "outputId": "c8f93549-a30c-4ae2-9972-4f4a03fa5a29"
      },
      "execution_count": 52,
      "outputs": [
        {
          "output_type": "execute_result",
          "data": {
            "text/plain": [
              "torch.Size([1, 4, 512])"
            ]
          },
          "metadata": {},
          "execution_count": 52
        }
      ]
    },
    {
      "cell_type": "code",
      "source": [
        "out"
      ],
      "metadata": {
        "colab": {
          "base_uri": "https://localhost:8080/"
        },
        "id": "xHV6xfS91o1P",
        "outputId": "abbe53ed-cbc6-42ef-c129-6c59da44169a"
      },
      "execution_count": 53,
      "outputs": [
        {
          "output_type": "execute_result",
          "data": {
            "text/plain": [
              "tensor([[[-0.1682,  0.4945,  0.2678,  ..., -0.0112,  0.2400,  0.1018],\n",
              "         [ 0.5724, -0.1793, -0.3729,  ..., -0.2740, -0.0369, -0.3258],\n",
              "         [-0.1670,  0.2595, -0.0535,  ...,  0.0276,  0.4138,  0.1589],\n",
              "         [ 0.1075,  0.5408,  0.2852,  ..., -0.1615,  0.2658, -0.0078]]],\n",
              "       grad_fn=<ViewBackward0>)"
            ]
          },
          "metadata": {},
          "execution_count": 53
        }
      ]
    },
    {
      "cell_type": "markdown",
      "source": [
        "Class"
      ],
      "metadata": {
        "id": "gf24A68-40ps"
      }
    },
    {
      "cell_type": "code",
      "source": [
        "import torch\n",
        "import torch.nn as nn\n",
        "import math\n",
        "\n",
        "def scale_dot_product(q, k, v, mask=None):\n",
        "    d_k = q.size()[-1]\n",
        "    scale = torch.matmul(q, k.transpose(-1, -2)) / math.sqrt(d_k)\n",
        "    if mask is not None:\n",
        "        scale += mask\n",
        "    attention = F.softmax(scale, dim=-1)\n",
        "    values = torch.matmul(attention, v)\n",
        "    return values, attention\n",
        "\n",
        "class MultiheadAttention(nn.Module):\n",
        "\n",
        "    def __init__(self, input_dim, d_model, num_head):\n",
        "        super().__init__()\n",
        "        self.input_dim = input_dim\n",
        "        self.d_model = d_model\n",
        "        self.num_head = num_head\n",
        "        self.head_dim = d_model // num_head\n",
        "        self.qkv_layer = nn.Linear(input_dim , 3 * d_model)\n",
        "        self.linear_layer = nn.Linear(d_model, d_model)\n",
        "\n",
        "    def forward(self, x, mask=None):\n",
        "        batch_size, sequence_length, input_dim = x.size()\n",
        "        print(x.size())\n",
        "        qkv = self.qkv_layer(x)\n",
        "        print(qkv.size())\n",
        "        qkv = qkv.reshape(batch_size, sequence_length, self.num_head, 3 * self.head_dim)\n",
        "        print(qkv.size())\n",
        "        qkv = qkv.permute(0, 2, 1, 3)\n",
        "        print(qkv.size())\n",
        "        q, k, v = qkv.chunk(3, dim=-1)\n",
        "        print(q.size(),  k.size(), v.size())\n",
        "        values, attention = scale_dot_product(q, k, v, mask)\n",
        "        print(values.size(),  attention.size())\n",
        "        values = values.reshape(batch_size, sequence_length, self.num_head * self.head_dim)\n",
        "        print(values.size())\n",
        "        out = self.linear_layer(values)\n",
        "        print(out.size())\n",
        "        return out"
      ],
      "metadata": {
        "id": "lr2m5_aG1pf0"
      },
      "execution_count": 54,
      "outputs": []
    },
    {
      "cell_type": "markdown",
      "source": [
        "Input"
      ],
      "metadata": {
        "id": "gcAHBGXN50qF"
      }
    },
    {
      "cell_type": "code",
      "source": [
        "input_dim = 1024\n",
        "d_model = 512\n",
        "num_head = 8\n",
        "\n",
        "batch_size = 30\n",
        "sequence_length = 5\n",
        "x = torch.randn( (batch_size, sequence_length, input_dim) )\n",
        "\n",
        "model = MultiheadAttention(input_dim, d_model, num_head)\n",
        "out = model.forward(x)"
      ],
      "metadata": {
        "colab": {
          "base_uri": "https://localhost:8080/"
        },
        "id": "JnFiIRqV5x1e",
        "outputId": "ed1cd5d4-29e6-4a77-e54c-6b0ad899ad80"
      },
      "execution_count": 55,
      "outputs": [
        {
          "output_type": "stream",
          "name": "stdout",
          "text": [
            "torch.Size([30, 5, 1024])\n",
            "torch.Size([30, 5, 1536])\n",
            "torch.Size([30, 5, 8, 192])\n",
            "torch.Size([30, 8, 5, 192])\n",
            "torch.Size([30, 8, 5, 64]) torch.Size([30, 8, 5, 64]) torch.Size([30, 8, 5, 64])\n",
            "torch.Size([30, 8, 5, 64]) torch.Size([30, 8, 5, 5])\n",
            "torch.Size([30, 5, 512])\n",
            "torch.Size([30, 5, 512])\n"
          ]
        }
      ]
    },
    {
      "cell_type": "code",
      "source": [],
      "metadata": {
        "id": "pGH8lkvz6kpp"
      },
      "execution_count": null,
      "outputs": []
    }
  ]
}