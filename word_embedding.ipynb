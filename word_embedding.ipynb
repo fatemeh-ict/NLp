{
  "nbformat": 4,
  "nbformat_minor": 0,
  "metadata": {
    "colab": {
      "provenance": [],
      "authorship_tag": "ABX9TyPjX3vNtyHJ6UWYnDVbaxKM",
      "include_colab_link": true
    },
    "kernelspec": {
      "name": "python3",
      "display_name": "Python 3"
    },
    "language_info": {
      "name": "python"
    }
  },
  "cells": [
    {
      "cell_type": "markdown",
      "metadata": {
        "id": "view-in-github",
        "colab_type": "text"
      },
      "source": [
        "<a href=\"https://colab.research.google.com/github/fatemeh-ict/NLp/blob/main/word_embedding.ipynb\" target=\"_parent\"><img src=\"https://colab.research.google.com/assets/colab-badge.svg\" alt=\"Open In Colab\"/></a>"
      ]
    },
    {
      "cell_type": "code",
      "execution_count": 1,
      "metadata": {
        "id": "pW8BUIuCZSVY"
      },
      "outputs": [],
      "source": [
        "sentences = ['This YouTube channel is perfect',\n",
        "            'Your videos are quite good',\n",
        "            'I enjoy this channel',\n",
        "            'I did not learn much from your videos',\n",
        "            'Excellent',\n",
        "            'poor work',\n",
        "            'it is not a good channel']"
      ]
    },
    {
      "cell_type": "code",
      "source": [
        "from tensorflow.keras.preprocessing.text import one_hot\n",
        "\n",
        "vocab_size=500\n",
        "encodded_docs=[one_hot(sent,vocab_size) for sent in sentences]\n",
        "print(encodded_docs)"
      ],
      "metadata": {
        "colab": {
          "base_uri": "https://localhost:8080/"
        },
        "id": "SjRmTdkMiWaB",
        "outputId": "b8bbf9f4-6261-42af-db53-5efd88106dc3"
      },
      "execution_count": 2,
      "outputs": [
        {
          "output_type": "stream",
          "name": "stdout",
          "text": [
            "[[174, 163, 131, 466, 197], [158, 250, 120, 470, 419], [24, 311, 174, 131], [24, 438, 315, 91, 264, 35, 158, 250], [74], [27, 366], [33, 466, 315, 203, 419, 131]]\n"
          ]
        }
      ]
    },
    {
      "cell_type": "code",
      "source": [
        "from tensorflow.keras.preprocessing.sequence import pad_sequences\n",
        "max_len=8\n",
        "padding_docs=pad_sequences(encodded_docs,padding='pre',maxlen=max_len)\n",
        "print(padding_docs)"
      ],
      "metadata": {
        "colab": {
          "base_uri": "https://localhost:8080/"
        },
        "id": "R_lyyC1JixeZ",
        "outputId": "bb292e1f-4dd5-4a47-d408-3efdf1b1b2d6"
      },
      "execution_count": 3,
      "outputs": [
        {
          "output_type": "stream",
          "name": "stdout",
          "text": [
            "[[  0   0   0 174 163 131 466 197]\n",
            " [  0   0   0 158 250 120 470 419]\n",
            " [  0   0   0   0  24 311 174 131]\n",
            " [ 24 438 315  91 264  35 158 250]\n",
            " [  0   0   0   0   0   0   0  74]\n",
            " [  0   0   0   0   0   0  27 366]\n",
            " [  0   0  33 466 315 203 419 131]]\n"
          ]
        }
      ]
    },
    {
      "cell_type": "code",
      "source": [
        "from tensorflow.keras.layers import Embedding\n",
        "from tensorflow.keras.models import Sequential\n"
      ],
      "metadata": {
        "id": "yENtNeCjkPZ-"
      },
      "execution_count": 5,
      "outputs": []
    },
    {
      "cell_type": "code",
      "source": [
        "dim=10\n",
        "model=Sequential()\n",
        "model.add(Embedding(vocab_size,dim,input_length=max_len))"
      ],
      "metadata": {
        "id": "1a6J81fSlqRq"
      },
      "execution_count": 6,
      "outputs": []
    },
    {
      "cell_type": "code",
      "source": [
        "model.compile(optimizer='adam', loss='mse')"
      ],
      "metadata": {
        "id": "gZxqXNJZmDDd"
      },
      "execution_count": 7,
      "outputs": []
    },
    {
      "cell_type": "code",
      "source": [
        "model.summary()"
      ],
      "metadata": {
        "colab": {
          "base_uri": "https://localhost:8080/"
        },
        "id": "yK00MGrDmJVS",
        "outputId": "8f4eed2b-45e8-4b4c-a45b-aea67b27fc75"
      },
      "execution_count": 8,
      "outputs": [
        {
          "output_type": "stream",
          "name": "stdout",
          "text": [
            "Model: \"sequential\"\n",
            "_________________________________________________________________\n",
            " Layer (type)                Output Shape              Param #   \n",
            "=================================================================\n",
            " embedding (Embedding)       (None, 8, 10)             5000      \n",
            "                                                                 \n",
            "=================================================================\n",
            "Total params: 5000 (19.53 KB)\n",
            "Trainable params: 5000 (19.53 KB)\n",
            "Non-trainable params: 0 (0.00 Byte)\n",
            "_________________________________________________________________\n"
          ]
        }
      ]
    },
    {
      "cell_type": "code",
      "source": [
        "padding_docs[1]"
      ],
      "metadata": {
        "colab": {
          "base_uri": "https://localhost:8080/"
        },
        "id": "3vC6aW6-mK_J",
        "outputId": "dc1c38f4-7403-419d-d413-26522452aee3"
      },
      "execution_count": 9,
      "outputs": [
        {
          "output_type": "execute_result",
          "data": {
            "text/plain": [
              "array([  0,   0,   0, 158, 250, 120, 470, 419], dtype=int32)"
            ]
          },
          "metadata": {},
          "execution_count": 9
        }
      ]
    },
    {
      "cell_type": "code",
      "source": [
        "model.predict(padding_docs[1])"
      ],
      "metadata": {
        "colab": {
          "base_uri": "https://localhost:8080/"
        },
        "id": "img4RBN3m4xp",
        "outputId": "6e65661b-f595-4e1a-ba91-1b863d8c8811"
      },
      "execution_count": 10,
      "outputs": [
        {
          "output_type": "stream",
          "name": "stdout",
          "text": [
            "1/1 [==============================] - 0s 93ms/step\n"
          ]
        },
        {
          "output_type": "execute_result",
          "data": {
            "text/plain": [
              "array([[-2.40206718e-03, -5.73197752e-03,  4.15246971e-02,\n",
              "         4.41642664e-02, -2.36304048e-02,  1.28016211e-02,\n",
              "        -1.52814612e-02,  3.98997702e-02,  1.49474405e-02,\n",
              "        -2.26026773e-02],\n",
              "       [-2.40206718e-03, -5.73197752e-03,  4.15246971e-02,\n",
              "         4.41642664e-02, -2.36304048e-02,  1.28016211e-02,\n",
              "        -1.52814612e-02,  3.98997702e-02,  1.49474405e-02,\n",
              "        -2.26026773e-02],\n",
              "       [-2.40206718e-03, -5.73197752e-03,  4.15246971e-02,\n",
              "         4.41642664e-02, -2.36304048e-02,  1.28016211e-02,\n",
              "        -1.52814612e-02,  3.98997702e-02,  1.49474405e-02,\n",
              "        -2.26026773e-02],\n",
              "       [ 4.81410734e-02, -3.54458019e-03,  2.72469558e-02,\n",
              "        -6.92382455e-05,  4.35307287e-02,  1.76465623e-02,\n",
              "        -8.49697739e-03, -2.62044072e-02,  1.22297183e-02,\n",
              "         4.89657857e-02],\n",
              "       [-2.22041607e-02, -4.48551886e-02, -3.69675644e-02,\n",
              "        -5.00537083e-03,  3.00974734e-02, -2.42663380e-02,\n",
              "        -3.62497568e-03, -1.86334476e-02,  1.62463225e-02,\n",
              "        -1.01632699e-02],\n",
              "       [-3.86338718e-02, -2.35295426e-02, -2.39403173e-03,\n",
              "         1.47223473e-04,  4.36670817e-02, -3.36361416e-02,\n",
              "         3.26342620e-02, -4.80123609e-03,  2.66483314e-02,\n",
              "        -2.59637833e-02],\n",
              "       [-4.86290120e-02,  1.03020892e-02,  9.59502533e-03,\n",
              "         1.89739801e-02,  1.00115165e-02, -1.46245472e-02,\n",
              "         4.84456457e-02, -3.25246900e-03,  3.38316597e-02,\n",
              "        -2.89214980e-02],\n",
              "       [-1.13277920e-02, -6.01568073e-03,  3.50002758e-02,\n",
              "        -2.42024790e-02, -3.46335769e-02, -2.15864182e-03,\n",
              "         2.21529268e-02, -2.96550989e-02,  4.40287590e-03,\n",
              "        -3.18299085e-02]], dtype=float32)"
            ]
          },
          "metadata": {},
          "execution_count": 10
        }
      ]
    },
    {
      "cell_type": "code",
      "source": [],
      "metadata": {
        "id": "PGqY2XKgm8f-"
      },
      "execution_count": null,
      "outputs": []
    }
  ]
}