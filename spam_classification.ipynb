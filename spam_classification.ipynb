{
  "nbformat": 4,
  "nbformat_minor": 0,
  "metadata": {
    "colab": {
      "provenance": [],
      "authorship_tag": "ABX9TyOkwO0H5fGVnlq2Zf4opakw",
      "include_colab_link": true
    },
    "kernelspec": {
      "name": "python3",
      "display_name": "Python 3"
    },
    "language_info": {
      "name": "python"
    }
  },
  "cells": [
    {
      "cell_type": "markdown",
      "metadata": {
        "id": "view-in-github",
        "colab_type": "text"
      },
      "source": [
        "<a href=\"https://colab.research.google.com/github/fatemeh-ict/NLp/blob/main/spam_classification.ipynb\" target=\"_parent\"><img src=\"https://colab.research.google.com/assets/colab-badge.svg\" alt=\"Open In Colab\"/></a>"
      ]
    },
    {
      "cell_type": "code",
      "execution_count": 1,
      "metadata": {
        "id": "T3a0fMGynQOi"
      },
      "outputs": [],
      "source": [
        "import pandas as pd\n",
        "import matplotlib.pyplot as plt\n",
        "import re\n",
        "from nltk.corpus import stopwords\n",
        "from nltk.stem import PorterStemmer"
      ]
    },
    {
      "cell_type": "code",
      "source": [
        "#read dataset\n",
        "df=pd.read_csv('/content/SPAM text message 20170820 - Data.csv')"
      ],
      "metadata": {
        "id": "wbPBGMwuzCA9"
      },
      "execution_count": 3,
      "outputs": []
    },
    {
      "cell_type": "code",
      "source": [
        "df.head()"
      ],
      "metadata": {
        "colab": {
          "base_uri": "https://localhost:8080/",
          "height": 206
        },
        "id": "3iHhPTkU0Dlg",
        "outputId": "f71270ed-ae6c-4886-dfa9-73dc30780d2f"
      },
      "execution_count": 4,
      "outputs": [
        {
          "output_type": "execute_result",
          "data": {
            "text/plain": [
              "  Category                                            Message\n",
              "0      ham  Go until jurong point, crazy.. Available only ...\n",
              "1      ham                      Ok lar... Joking wif u oni...\n",
              "2     spam  Free entry in 2 a wkly comp to win FA Cup fina...\n",
              "3      ham  U dun say so early hor... U c already then say...\n",
              "4      ham  Nah I don't think he goes to usf, he lives aro..."
            ],
            "text/html": [
              "\n",
              "  <div id=\"df-f3c1eacf-e717-41a1-9735-d6f1fcca3ffb\" class=\"colab-df-container\">\n",
              "    <div>\n",
              "<style scoped>\n",
              "    .dataframe tbody tr th:only-of-type {\n",
              "        vertical-align: middle;\n",
              "    }\n",
              "\n",
              "    .dataframe tbody tr th {\n",
              "        vertical-align: top;\n",
              "    }\n",
              "\n",
              "    .dataframe thead th {\n",
              "        text-align: right;\n",
              "    }\n",
              "</style>\n",
              "<table border=\"1\" class=\"dataframe\">\n",
              "  <thead>\n",
              "    <tr style=\"text-align: right;\">\n",
              "      <th></th>\n",
              "      <th>Category</th>\n",
              "      <th>Message</th>\n",
              "    </tr>\n",
              "  </thead>\n",
              "  <tbody>\n",
              "    <tr>\n",
              "      <th>0</th>\n",
              "      <td>ham</td>\n",
              "      <td>Go until jurong point, crazy.. Available only ...</td>\n",
              "    </tr>\n",
              "    <tr>\n",
              "      <th>1</th>\n",
              "      <td>ham</td>\n",
              "      <td>Ok lar... Joking wif u oni...</td>\n",
              "    </tr>\n",
              "    <tr>\n",
              "      <th>2</th>\n",
              "      <td>spam</td>\n",
              "      <td>Free entry in 2 a wkly comp to win FA Cup fina...</td>\n",
              "    </tr>\n",
              "    <tr>\n",
              "      <th>3</th>\n",
              "      <td>ham</td>\n",
              "      <td>U dun say so early hor... U c already then say...</td>\n",
              "    </tr>\n",
              "    <tr>\n",
              "      <th>4</th>\n",
              "      <td>ham</td>\n",
              "      <td>Nah I don't think he goes to usf, he lives aro...</td>\n",
              "    </tr>\n",
              "  </tbody>\n",
              "</table>\n",
              "</div>\n",
              "    <div class=\"colab-df-buttons\">\n",
              "\n",
              "  <div class=\"colab-df-container\">\n",
              "    <button class=\"colab-df-convert\" onclick=\"convertToInteractive('df-f3c1eacf-e717-41a1-9735-d6f1fcca3ffb')\"\n",
              "            title=\"Convert this dataframe to an interactive table.\"\n",
              "            style=\"display:none;\">\n",
              "\n",
              "  <svg xmlns=\"http://www.w3.org/2000/svg\" height=\"24px\" viewBox=\"0 -960 960 960\">\n",
              "    <path d=\"M120-120v-720h720v720H120Zm60-500h600v-160H180v160Zm220 220h160v-160H400v160Zm0 220h160v-160H400v160ZM180-400h160v-160H180v160Zm440 0h160v-160H620v160ZM180-180h160v-160H180v160Zm440 0h160v-160H620v160Z\"/>\n",
              "  </svg>\n",
              "    </button>\n",
              "\n",
              "  <style>\n",
              "    .colab-df-container {\n",
              "      display:flex;\n",
              "      gap: 12px;\n",
              "    }\n",
              "\n",
              "    .colab-df-convert {\n",
              "      background-color: #E8F0FE;\n",
              "      border: none;\n",
              "      border-radius: 50%;\n",
              "      cursor: pointer;\n",
              "      display: none;\n",
              "      fill: #1967D2;\n",
              "      height: 32px;\n",
              "      padding: 0 0 0 0;\n",
              "      width: 32px;\n",
              "    }\n",
              "\n",
              "    .colab-df-convert:hover {\n",
              "      background-color: #E2EBFA;\n",
              "      box-shadow: 0px 1px 2px rgba(60, 64, 67, 0.3), 0px 1px 3px 1px rgba(60, 64, 67, 0.15);\n",
              "      fill: #174EA6;\n",
              "    }\n",
              "\n",
              "    .colab-df-buttons div {\n",
              "      margin-bottom: 4px;\n",
              "    }\n",
              "\n",
              "    [theme=dark] .colab-df-convert {\n",
              "      background-color: #3B4455;\n",
              "      fill: #D2E3FC;\n",
              "    }\n",
              "\n",
              "    [theme=dark] .colab-df-convert:hover {\n",
              "      background-color: #434B5C;\n",
              "      box-shadow: 0px 1px 3px 1px rgba(0, 0, 0, 0.15);\n",
              "      filter: drop-shadow(0px 1px 2px rgba(0, 0, 0, 0.3));\n",
              "      fill: #FFFFFF;\n",
              "    }\n",
              "  </style>\n",
              "\n",
              "    <script>\n",
              "      const buttonEl =\n",
              "        document.querySelector('#df-f3c1eacf-e717-41a1-9735-d6f1fcca3ffb button.colab-df-convert');\n",
              "      buttonEl.style.display =\n",
              "        google.colab.kernel.accessAllowed ? 'block' : 'none';\n",
              "\n",
              "      async function convertToInteractive(key) {\n",
              "        const element = document.querySelector('#df-f3c1eacf-e717-41a1-9735-d6f1fcca3ffb');\n",
              "        const dataTable =\n",
              "          await google.colab.kernel.invokeFunction('convertToInteractive',\n",
              "                                                    [key], {});\n",
              "        if (!dataTable) return;\n",
              "\n",
              "        const docLinkHtml = 'Like what you see? Visit the ' +\n",
              "          '<a target=\"_blank\" href=https://colab.research.google.com/notebooks/data_table.ipynb>data table notebook</a>'\n",
              "          + ' to learn more about interactive tables.';\n",
              "        element.innerHTML = '';\n",
              "        dataTable['output_type'] = 'display_data';\n",
              "        await google.colab.output.renderOutput(dataTable, element);\n",
              "        const docLink = document.createElement('div');\n",
              "        docLink.innerHTML = docLinkHtml;\n",
              "        element.appendChild(docLink);\n",
              "      }\n",
              "    </script>\n",
              "  </div>\n",
              "\n",
              "\n",
              "<div id=\"df-ddcdc9fb-6b66-4c2f-80ad-3a8087895c33\">\n",
              "  <button class=\"colab-df-quickchart\" onclick=\"quickchart('df-ddcdc9fb-6b66-4c2f-80ad-3a8087895c33')\"\n",
              "            title=\"Suggest charts\"\n",
              "            style=\"display:none;\">\n",
              "\n",
              "<svg xmlns=\"http://www.w3.org/2000/svg\" height=\"24px\"viewBox=\"0 0 24 24\"\n",
              "     width=\"24px\">\n",
              "    <g>\n",
              "        <path d=\"M19 3H5c-1.1 0-2 .9-2 2v14c0 1.1.9 2 2 2h14c1.1 0 2-.9 2-2V5c0-1.1-.9-2-2-2zM9 17H7v-7h2v7zm4 0h-2V7h2v10zm4 0h-2v-4h2v4z\"/>\n",
              "    </g>\n",
              "</svg>\n",
              "  </button>\n",
              "\n",
              "<style>\n",
              "  .colab-df-quickchart {\n",
              "      --bg-color: #E8F0FE;\n",
              "      --fill-color: #1967D2;\n",
              "      --hover-bg-color: #E2EBFA;\n",
              "      --hover-fill-color: #174EA6;\n",
              "      --disabled-fill-color: #AAA;\n",
              "      --disabled-bg-color: #DDD;\n",
              "  }\n",
              "\n",
              "  [theme=dark] .colab-df-quickchart {\n",
              "      --bg-color: #3B4455;\n",
              "      --fill-color: #D2E3FC;\n",
              "      --hover-bg-color: #434B5C;\n",
              "      --hover-fill-color: #FFFFFF;\n",
              "      --disabled-bg-color: #3B4455;\n",
              "      --disabled-fill-color: #666;\n",
              "  }\n",
              "\n",
              "  .colab-df-quickchart {\n",
              "    background-color: var(--bg-color);\n",
              "    border: none;\n",
              "    border-radius: 50%;\n",
              "    cursor: pointer;\n",
              "    display: none;\n",
              "    fill: var(--fill-color);\n",
              "    height: 32px;\n",
              "    padding: 0;\n",
              "    width: 32px;\n",
              "  }\n",
              "\n",
              "  .colab-df-quickchart:hover {\n",
              "    background-color: var(--hover-bg-color);\n",
              "    box-shadow: 0 1px 2px rgba(60, 64, 67, 0.3), 0 1px 3px 1px rgba(60, 64, 67, 0.15);\n",
              "    fill: var(--button-hover-fill-color);\n",
              "  }\n",
              "\n",
              "  .colab-df-quickchart-complete:disabled,\n",
              "  .colab-df-quickchart-complete:disabled:hover {\n",
              "    background-color: var(--disabled-bg-color);\n",
              "    fill: var(--disabled-fill-color);\n",
              "    box-shadow: none;\n",
              "  }\n",
              "\n",
              "  .colab-df-spinner {\n",
              "    border: 2px solid var(--fill-color);\n",
              "    border-color: transparent;\n",
              "    border-bottom-color: var(--fill-color);\n",
              "    animation:\n",
              "      spin 1s steps(1) infinite;\n",
              "  }\n",
              "\n",
              "  @keyframes spin {\n",
              "    0% {\n",
              "      border-color: transparent;\n",
              "      border-bottom-color: var(--fill-color);\n",
              "      border-left-color: var(--fill-color);\n",
              "    }\n",
              "    20% {\n",
              "      border-color: transparent;\n",
              "      border-left-color: var(--fill-color);\n",
              "      border-top-color: var(--fill-color);\n",
              "    }\n",
              "    30% {\n",
              "      border-color: transparent;\n",
              "      border-left-color: var(--fill-color);\n",
              "      border-top-color: var(--fill-color);\n",
              "      border-right-color: var(--fill-color);\n",
              "    }\n",
              "    40% {\n",
              "      border-color: transparent;\n",
              "      border-right-color: var(--fill-color);\n",
              "      border-top-color: var(--fill-color);\n",
              "    }\n",
              "    60% {\n",
              "      border-color: transparent;\n",
              "      border-right-color: var(--fill-color);\n",
              "    }\n",
              "    80% {\n",
              "      border-color: transparent;\n",
              "      border-right-color: var(--fill-color);\n",
              "      border-bottom-color: var(--fill-color);\n",
              "    }\n",
              "    90% {\n",
              "      border-color: transparent;\n",
              "      border-bottom-color: var(--fill-color);\n",
              "    }\n",
              "  }\n",
              "</style>\n",
              "\n",
              "  <script>\n",
              "    async function quickchart(key) {\n",
              "      const quickchartButtonEl =\n",
              "        document.querySelector('#' + key + ' button');\n",
              "      quickchartButtonEl.disabled = true;  // To prevent multiple clicks.\n",
              "      quickchartButtonEl.classList.add('colab-df-spinner');\n",
              "      try {\n",
              "        const charts = await google.colab.kernel.invokeFunction(\n",
              "            'suggestCharts', [key], {});\n",
              "      } catch (error) {\n",
              "        console.error('Error during call to suggestCharts:', error);\n",
              "      }\n",
              "      quickchartButtonEl.classList.remove('colab-df-spinner');\n",
              "      quickchartButtonEl.classList.add('colab-df-quickchart-complete');\n",
              "    }\n",
              "    (() => {\n",
              "      let quickchartButtonEl =\n",
              "        document.querySelector('#df-ddcdc9fb-6b66-4c2f-80ad-3a8087895c33 button');\n",
              "      quickchartButtonEl.style.display =\n",
              "        google.colab.kernel.accessAllowed ? 'block' : 'none';\n",
              "    })();\n",
              "  </script>\n",
              "</div>\n",
              "    </div>\n",
              "  </div>\n"
            ],
            "application/vnd.google.colaboratory.intrinsic+json": {
              "type": "dataframe",
              "variable_name": "df",
              "summary": "{\n  \"name\": \"df\",\n  \"rows\": 5572,\n  \"fields\": [\n    {\n      \"column\": \"Category\",\n      \"properties\": {\n        \"dtype\": \"category\",\n        \"num_unique_values\": 2,\n        \"samples\": [\n          \"spam\",\n          \"ham\"\n        ],\n        \"semantic_type\": \"\",\n        \"description\": \"\"\n      }\n    },\n    {\n      \"column\": \"Message\",\n      \"properties\": {\n        \"dtype\": \"string\",\n        \"num_unique_values\": 5157,\n        \"samples\": [\n          \"Also sir, i sent you an email about how to log into the usc payment portal. I.ll send you another message that should explain how things are back home. Have a great weekend.\",\n          \"Are you free now?can i call now?\"\n        ],\n        \"semantic_type\": \"\",\n        \"description\": \"\"\n      }\n    }\n  ]\n}"
            }
          },
          "metadata": {},
          "execution_count": 4
        }
      ]
    },
    {
      "cell_type": "code",
      "source": [
        "df.shape"
      ],
      "metadata": {
        "colab": {
          "base_uri": "https://localhost:8080/"
        },
        "id": "mdJjOleq00sp",
        "outputId": "9c3aec93-cedf-40f3-b920-c91f2c4fa35b"
      },
      "execution_count": 5,
      "outputs": [
        {
          "output_type": "execute_result",
          "data": {
            "text/plain": [
              "(5572, 2)"
            ]
          },
          "metadata": {},
          "execution_count": 5
        }
      ]
    },
    {
      "cell_type": "code",
      "source": [
        "df['Category'].replace({'ham':0,'spam':1},inplace=True)"
      ],
      "metadata": {
        "id": "nVajV7ag7DnI"
      },
      "execution_count": 10,
      "outputs": []
    },
    {
      "cell_type": "code",
      "source": [
        "data={'category':['spam','ham'], 'number':[len(df.loc[df.Category==0]),len(df.loc[df.Category==1])]}\n",
        "df_count=pd.DataFrame(data,columns=['category','number'])\n",
        "print(df_count)\n"
      ],
      "metadata": {
        "colab": {
          "base_uri": "https://localhost:8080/"
        },
        "id": "fzPcA9t_72oy",
        "outputId": "73daafaf-6868-4400-9eaf-753f0b55129b"
      },
      "execution_count": 29,
      "outputs": [
        {
          "output_type": "stream",
          "name": "stdout",
          "text": [
            "  category  number\n",
            "0     spam    4825\n",
            "1      ham     747\n"
          ]
        }
      ]
    },
    {
      "cell_type": "code",
      "source": [
        "df_count.plot(x='category',y='number',kind='bar')\n",
        "plt.show()"
      ],
      "metadata": {
        "colab": {
          "base_uri": "https://localhost:8080/",
          "height": 474
        },
        "id": "FDOCa4pa9Iqr",
        "outputId": "d4a8c85f-5f8c-42d5-e165-eb60a0990dd6"
      },
      "execution_count": 30,
      "outputs": [
        {
          "output_type": "display_data",
          "data": {
            "text/plain": [
              "<Figure size 640x480 with 1 Axes>"
            ],
            "image/png": "[encoded data removed]"
          },
          "metadata": {}
        }
      ]
    },
    {
      "cell_type": "code",
      "source": [
        "import nltk\n",
        "nltk.download('stopwords')"
      ],
      "metadata": {
        "colab": {
          "base_uri": "https://localhost:8080/"
        },
        "id": "2PCzjE1lEDE_",
        "outputId": "2e415b3b-1ea0-4b48-b23e-c24e055e4c1b"
      },
      "execution_count": 34,
      "outputs": [
        {
          "output_type": "stream",
          "name": "stderr",
          "text": [
            "[nltk_data] Downloading package stopwords to /root/nltk_data...\n",
            "[nltk_data]   Unzipping corpora/stopwords.zip.\n"
          ]
        },
        {
          "output_type": "execute_result",
          "data": {
            "text/plain": [
              "True"
            ]
          },
          "metadata": {},
          "execution_count": 34
        }
      ]
    },
    {
      "cell_type": "code",
      "source": [
        "#cleaning dataset\n",
        "stemmer=PorterStemmer()\n",
        "corpus=[]\n",
        "for w in range(len(df['Message'])):\n",
        "  msg=df['Message'][w]  #read message\n",
        "  msg=re.sub('[^a-zA-Z]',' ',msg)  #delete everything except letter\n",
        "  msg=msg.lower()     #convert lowercase\n",
        "  msg=msg.split()    #sent convert to word\n",
        "  msg=[stemmer.stem(word) for word in msg if not word in set(stopwords.words('english'))] #fing stem words\n",
        "  msg=' '.join(msg)  #join words into a list\n",
        "  corpus.append(msg)\n",
        "\n",
        "\n",
        "\n",
        "\n"
      ],
      "metadata": {
        "id": "dKuDS0XW-UVP"
      },
      "execution_count": 37,
      "outputs": []
    },
    {
      "cell_type": "code",
      "source": [
        "#create word vector\n",
        "from sklearn.feature_extraction.text import TfidfVectorizer\n",
        "tf=TfidfVectorizer()\n",
        "tf.fit(corpus)\n",
        "print(tf.vocabulary_)\n"
      ],
      "metadata": {
        "colab": {
          "base_uri": "https://localhost:8080/"
        },
        "id": "tt6PhXdHCB7E",
        "outputId": "b82f8c96-a9ce-4613-ee91-8d0a8016b109"
      },
      "execution_count": 39,
      "outputs": [
        {
          "output_type": "stream",
          "name": "stdout",
          "text": [
            "{'go': 2171, 'jurong': 2827, 'point': 4091, 'crazi': 1169, 'avail': 379, 'bugi': 738, 'great': 2245, 'world': 6135, 'la': 2932, 'buffet': 736, 'cine': 964, 'got': 2208, 'amor': 190, 'wat': 5957, 'ok': 3760, 'lar': 2960, 'joke': 2794, 'wif': 6056, 'oni': 3785, 'free': 2007, 'entri': 1673, 'wkli': 6101, 'comp': 1058, 'win': 6067, 'fa': 1791, 'cup': 1220, 'final': 1890, 'tkt': 5536, 'st': 5103, 'may': 3276, 'text': 5420, 'receiv': 4402, 'question': 4319, 'std': 5131, 'txt': 5695, 'rate': 4364, 'appli': 262, 'dun': 1551, 'say': 4651, 'earli': 1568, 'hor': 2477, 'alreadi': 163, 'nah': 3532, 'think': 5468, 'goe': 2175, 'usf': 5811, 'live': 3070, 'around': 302, 'though': 5485, 'freemsg': 2013, 'hey': 2408, 'darl': 1267, 'week': 5992, 'word': 6129, 'back': 414, 'like': 3042, 'fun': 2059, 'still': 5152, 'tb': 5367, 'xxx': 6202, 'chg': 922, 'send': 4721, 'rcv': 4375, 'even': 1722, 'brother': 710, 'speak': 5037, 'treat': 5638, 'aid': 118, 'patent': 3936, 'per': 3972, 'request': 4473, 'mell': 3306, 'oru': 3832, 'minnaminungint': 3361, 'nurungu': 3708, 'vettam': 5859, 'set': 4742, 'callertun': 789, 'caller': 788, 'press': 4191, 'copi': 1126, 'friend': 2026, 'winner': 6075, 'valu': 5833, 'network': 3599, 'custom': 1231, 'select': 4710, 'receivea': 4403, 'prize': 4219, 'reward': 4507, 'claim': 972, 'call': 784, 'code': 1025, 'kl': 2904, 'valid': 5832, 'hour': 2492, 'mobil': 3407, 'month': 3436, 'entitl': 1671, 'updat': 5781, 'latest': 2972, 'colour': 1041, 'camera': 797, 'co': 1014, 'gonna': 2189, 'home': 2457, 'soon': 5002, 'want': 5945, 'talk': 5339, 'stuff': 5206, 'anymor': 233, 'tonight': 5581, 'cri': 1180, 'enough': 1665, 'today': 5553, 'six': 4885, 'chanc': 879, 'cash': 837, 'pound': 4137, 'csh': 1199, 'cost': 1136, 'day': 1279, 'tsandc': 5665, 'repli': 4468, 'hl': 2432, 'info': 2636, 'urgent': 5794, 'membership': 3311, 'jackpot': 2730, 'www': 6183, 'dbuk': 1283, 'net': 3593, 'lccltd': 2985, 'pobox': 4081, 'ldnw': 2989, 'rw': 4588, 'search': 4689, 'right': 4518, 'thank': 5434, 'breather': 681, 'promis': 4245, 'wont': 6120, 'take': 5334, 'help': 2397, 'grant': 2234, 'fulfil': 2055, 'wonder': 6119, 'bless': 592, 'time': 5520, 'date': 1274, 'sunday': 5247, 'xxxmobilemovieclub': 6203, 'use': 5808, 'credit': 1177, 'click': 989, 'wap': 5946, 'link': 3055, 'next': 3614, 'messag': 3325, 'http': 2510, 'com': 1042, 'qjkgighjjgcbl': 4310, 'oh': 3755, 'watch': 5958, 'eh': 1611, 'rememb': 4453, 'spell': 5047, 'name': 3538, 'ye': 6227, 'naughti': 3557, 'make': 3214, 'wet': 6022, 'fine': 1895, 'way': 5971, 'feel': 1852, 'gota': 2209, 'england': 1658, 'macedonia': 3183, 'dont': 1479, 'miss': 3373, 'goal': 2172, 'team': 5375, 'news': 3610, 'ur': 5790, 'nation': 3552, 'eg': 1607, 'tri': 5644, 'wale': 5930, 'scotland': 4672, 'poboxox': 4082, 'wq': 6152, 'serious': 4738, 'ha': 2297, 'pay': 3947, 'first': 1907, 'da': 1245, 'stock': 5155, 'comin': 1049, 'aft': 98, 'finish': 1898, 'lunch': 3162, 'str': 5174, 'lor': 3113, 'ard': 283, 'smth': 4948, 'ffffffffff': 1868, 'alright': 164, 'meet': 3298, 'sooner': 5003, 'forc': 1969, 'eat': 1580, 'slice': 4911, 'realli': 4390, 'hungri': 2526, 'tho': 5482, 'suck': 5224, 'mark': 3246, 'get': 2129, 'worri': 6137, 'know': 2910, 'sick': 4846, 'turn': 5681, 'pizza': 4047, 'lol': 3094, 'alway': 173, 'convinc': 1118, 'catch': 844, 'bu': 728, 'fri': 2023, 'egg': 1609, 'tea': 5372, 'mom': 3424, 'left': 3002, 'dinner': 1406, 'love': 3132, 'amp': 192, 'pack': 3880, 'car': 818, 'let': 3020, 'room': 4549, 'ahhh': 114, 'work': 6130, 'vagu': 5829, 'wait': 5927, 'clear': 985, 'sure': 5270, 'sarcast': 4633, 'us': 5804, 'yeah': 6228, 'apologet': 251, 'fallen': 1813, 'actin': 53, 'spoilt': 5071, 'child': 929, 'caught': 846, 'till': 5518, 'badli': 419, 'cheer': 907, 'tell': 5389, 'anyth': 236, 'fear': 1843, 'faint': 1805, 'housework': 2496, 'quick': 4320, 'cuppa': 1222, 'subscript': 5218, 'rington': 4524, 'uk': 5719, 'charg': 886, 'pleas': 4063, 'confirm': 1091, 'yup': 6279, 'look': 3105, 'msg': 3474, 'xuhui': 6198, 'learn': 2997, 'nd': 3563, 'lesson': 3019, 'oop': 3798, 'roommat': 4551, 'done': 1477, 'see': 4701, 'letter': 3021, 'decid': 1298, 'hello': 2394, 'saturday': 4645, 'tomo': 5572, 'invit': 2684, 'pl': 4048, 'ahead': 113, 'watt': 5967, 'weekend': 5994, 'abiola': 13, 'forget': 1975, 'need': 3577, 'crave': 1168, 'sweet': 5297, 'arabian': 280, 'steed': 5137, 'mmmmmm': 3397, 'yummi': 6273, 'rodger': 4540, 'burn': 752, 'sm': 4926, 'nokia': 3656, 'camcord': 795, 'deliveri': 1327, 'tomorrow': 5574, 'hope': 2474, 'man': 3222, 'well': 6005, 'endow': 1651, 'lt': 3149, 'gt': 2269, 'inch': 2610, 'hep': 2403, 'immunis': 2596, 'nigeria': 3625, 'fair': 1806, 'tyler': 5704, 'could': 1142, 'mayb': 3277, 'ask': 324, 'bit': 576, 'stubborn': 5197, 'hospit': 2483, 'kept': 2870, 'weak': 5975, 'sucker': 5225, 'saw': 4650, 'class': 979, 'gram': 2228, 'usual': 5815, 'run': 4582, 'half': 2311, 'eighth': 1613, 'smarter': 4932, 'almost': 159, 'whole': 6046, 'second': 4693, 'fyi': 2073, 'ride': 4517, 'morn': 3443, 'crash': 1167, 'place': 4049, 'wow': 6150, 'never': 3602, 'realiz': 4389, 'embarass': 1635, 'accomod': 38, 'thought': 5486, 'sinc': 4866, 'best': 536, 'seem': 4705, 'happi': 2333, 'cave': 848, 'sorri': 5011, 'give': 2154, 'offer': 3745, 'ac': 27, 'sptv': 5090, 'new': 3605, 'jersey': 2771, 'devil': 1366, 'detroit': 1362, 'red': 4417, 'wing': 6074, 'play': 4058, 'ice': 2555, 'hockey': 2444, 'correct': 1131, 'incorrect': 2618, 'end': 1648, 'mallika': 3221, 'sherawat': 4785, 'yesterday': 6240, 'find': 1894, 'url': 5800, 'congrat': 1095, 'year': 6229, 'special': 5039, 'cinema': 965, 'pass': 3929, 'suprman': 5268, 'matrix': 3269, 'starwar': 5122, 'etc': 1710, 'bx': 770, 'ip': 2689, 'pm': 4077, 'later': 2971, 'reach': 4379, 'gauti': 2098, 'sehwag': 4709, 'odi': 3739, 'seri': 4736, 'pick': 4025, 'burger': 749, 'move': 3461, 'pain': 3886, 'kill': 2889, 'good': 2191, 'girl': 2149, 'situat': 4883, 'seeker': 4704, 'part': 3920, 'check': 901, 'iq': 2694, 'took': 5584, 'forev': 1972, 'come': 1045, 'doubl': 1493, 'hair': 2306, 'dresser': 1516, 'said': 4604, 'wun': 6181, 'cut': 1234, 'short': 4816, 'nice': 3619, 'advis': 83, 'follow': 1956, 'recent': 4404, 'review': 4505, 'mob': 3404, 'award': 393, 'bonu': 627, 'song': 4998, 'dedic': 1304, 'valuabl': 5834, 'frnd': 2032, 'rpli': 4562, 'complimentari': 1072, 'trip': 5646, 'eurodisinc': 1715, 'trav': 5633, 'aco': 50, 'di': 1375, 'morefrmmob': 3442, 'shracomorsglsuplt': 4831, 'ls': 3147, 'aj': 129, 'hear': 2376, 'divorc': 1440, 'barbi': 447, 'ken': 2868, 'plane': 4053, 'wah': 5920, 'lucki': 3156, 'save': 4649, 'money': 3429, 'hee': 2386, 'hi': 2412, 'babe': 408, 'im': 2587, 'wanna': 5943, 'someth': 4986, 'xx': 6199, 'perform': 3977, 'machan': 3185, 'that': 5440, 'cool': 1121, 'gentleman': 2120, 'digniti': 1398, 'respect': 4486, 'peopl': 3971, 'much': 3487, 'shi': 4789, 'pa': 3878, 'oper': 3801, 'job': 2787, 'ta': 5321, 'earn': 1571, 'ah': 111, 'stop': 5163, 'urgnt': 5796, 'real': 4385, 'yo': 6251, 'ticket': 5508, 'one': 3784, 'jacket': 2729, 'multi': 3494, 'start': 5120, 'came': 796, 'bed': 498, 'coin': 1029, 'factori': 1798, 'gotta': 2215, 'nitro': 3641, 'ela': 1618, 'kano': 2850, 'il': 2582, 'download': 1500, 'wen': 6008, 'stand': 5113, 'close': 994, 'anoth': 221, 'night': 3627, 'spent': 5049, 'late': 2969, 'afternoon': 100, 'casualti': 842, 'mean': 3285, 'moro': 3445, 'includ': 2613, 'sheet': 4780, 'smile': 4938, 'pleasur': 4066, 'troubl': 5652, 'pour': 4138, 'rain': 4340, 'sum': 5240, 'hurt': 2532, 'becoz': 496, 'someon': 4981, 'servic': 4741, 'repres': 4471, 'guarante': 2273, 'havent': 2358, 'plan': 4052, 'buy': 763, 'lido': 3030, 'show': 4827, 'collect': 1038, 'simpli': 4863, 'password': 3933, 'mix': 3388, 'verifi': 5856, 'usher': 5812, 'britney': 701, 'fml': 1950, 'po': 4080, 'box': 654, 'mk': 3391, 'ppw': 4152, 'telugu': 5393, 'movi': 3462, 'abt': 23, 'load': 3080, 'loan': 3081, 'wk': 6097, 'hol': 2448, 'forgot': 1978, 'hairdress': 2308, 'appoint': 264, 'four': 1990, 'shower': 4828, 'beforehand': 509, 'caus': 847, 'prob': 4223, 'coffe': 1026, 'anim': 209, 'noth': 3679, 'els': 1630, 'okay': 3761, 'price': 4204, 'long': 3101, 'legal': 3005, 'ave': 384, 'am': 175, 'gone': 2187, 'drive': 1521, 'test': 5416, 'yet': 6241, 'guess': 2279, 'gave': 2099, 'boston': 644, 'men': 3314, 'chang': 880, 'locat': 3084, 'nyc': 3718, 'cuz': 1240, 'signin': 4853, 'page': 3883, 'umma': 5724, 'life': 3032, 'vava': 5844, 'lot': 3119, 'dear': 1289, 'wish': 6083, 'birthday': 574, 'truli': 5659, 'memor': 3312, 'aight': 120, 'hit': 2426, 'would': 6147, 'address': 64, 'consid': 1101, 'comput': 1076, 'minecraft': 3355, 'server': 4740, 'grumpi': 2266, 'old': 3772, 'better': 541, 'lie': 3031, 'busi': 757, 'plural': 4074, 'noun': 3687, 'research': 4475, 'thing': 5467, 'scare': 4659, 'mah': 3204, 'loud': 3127, 'gent': 2118, 'contact': 1106, 'last': 2967, 'draw': 1511, 'hr': 2506, 'ppm': 4146, 'wa': 5916, 'openin': 3800, 'sentenc': 4729, 'formal': 1982, 'anyway': 241, 'juz': 2833, 'tt': 5668, 'eatin': 1582, 'puttin': 4299, 'weight': 5997, 'haha': 2302, 'anythin': 238, 'happen': 2330, 'enter': 1667, 'cabin': 774, 'boss': 643, 'felt': 1859, 'askd': 325, 'apart': 244, 'went': 6011, 'holiday': 2454, 'flight': 1931, 'inc': 2609, 'min': 3349, 'goodo': 2200, 'must': 3510, 'friday': 2024, 'potato': 4133, 'ratio': 4366, 'tortilla': 5599, 'hmm': 2437, 'uncl': 5732, 'inform': 2637, 'school': 4665, 'directli': 1412, 'food': 1962, 'privat': 4216, 'account': 41, 'statement': 5125, 'unredeem': 5770, 'identifi': 2566, 'expir': 1774, 'landlin': 2949, 'wr': 6153, 'appl': 259, 'pair': 3888, 'malarki': 3218, 'voda': 5899, 'number': 3705, 'match': 3262, 'quot': 4328, 'standard': 5114, 'app': 253, 'sao': 4627, 'mu': 3485, 'predict': 4172, 'yetund': 6243, 'sent': 4728, 'bother': 646, 'involv': 2687, 'impos': 2603, 'apologis': 252, 'del': 1320, 'bak': 426, 'lucyxx': 3159, 'tmorrow': 5542, 'answer': 223, 'sunshin': 5254, 'quiz': 4325, 'top': 5592, 'soni': 4999, 'dvd': 1560, 'player': 4059, 'countri': 1147, 'algarv': 146, 'ansr': 222, 'sp': 5026, 'tyron': 5707, 'laid': 2942, 'dog': 1461, 'direct': 1411, 'join': 2793, 'largest': 2964, 'bt': 724, 'txting': 5698, 'gravel': 2239, 'nt': 3695, 'ec': 1584, 'haf': 2301, 'msn': 3478, 'yiju': 6248, 'hotmail': 2489, 'befor': 508, 'activ': 55, 'chat': 894, 'svc': 5283, 'hardcor': 2338, 'age': 105, 'yr': 6269, 'lazi': 2983, 'type': 5705, 'lect': 3000, 'pouch': 4136, 'sir': 4875, 'mail': 3209, 'swt': 5310, 'nver': 3712, 'tire': 5525, 'littl': 3069, 'lovabl': 3131, 'person': 3989, 'coz': 1157, 'somtim': 4995, 'occupi': 3733, 'biggest': 560, 'heart': 2379, 'gud': 2275, 'ni': 3617, 'open': 3799, 'ya': 6212, 'dot': 1492, 'what': 6026, 'staff': 5107, 'randi': 4355, 'sexi': 4748, 'femal': 1860, 'local': 3083, 'luv': 3167, 'netcollex': 3594, 'ltd': 3150, 'ummma': 5726, 'begin': 512, 'qatar': 4304, 'pray': 4168, 'hard': 2337, 'delet': 1322, 'sindu': 4868, 'birla': 570, 'soft': 4970, 'wine': 6073, 'flow': 1942, 'thk': 5474, 'plaza': 4062, 'typic': 5706, 'everywher': 1735, 'dirt': 1414, 'floor': 1939, 'window': 6072, 'shirt': 4798, 'sometim': 4988, 'mouth': 3460, 'dream': 1513, 'without': 6091, 'chore': 953, 'joy': 2806, 'tv': 5683, 'exist': 1763, 'hail': 2305, 'mist': 3381, 'becom': 495, 'aaooooright': 3, 'leav': 2999, 'hous': 2494, 'interview': 2674, 'boy': 655, 'annonc': 215, 'arrang': 305, 'keep': 2865, 'safe': 4600, 'envi': 1678, 'everyon': 1730, 'parent': 3915, 'hand': 2319, 'excit': 1755, 'spend': 5048, 'bootydeli': 637, 'bangbab': 440, 'order': 3819, 'content': 1108, 'goto': 2214, 'bangb': 439, 'internet': 2673, 'menu': 3318, 'cultur': 1217, 'modul': 3418, 'avoid': 390, 'missunderstd': 3380, 'wit': 6087, 'belov': 525, 'escap': 1699, 'fanci': 1819, 'bridg': 688, 'lager': 2941, 'complet': 1069, 'form': 1981, 'clark': 977, 'also': 166, 'utter': 5818, 'wast': 5956, 'axi': 401, 'bank': 442, 'hmmm': 2438, 'hop': 2473, 'muz': 3516, 'discuss': 1427, 'liao': 3025, 'bloodi': 602, 'hell': 2392, 'cant': 810, 'believ': 518, 'surnam': 5274, 'mr': 3467, 'ill': 2584, 'clue': 1005, 'spanish': 5032, 'bath': 465, 'carlo': 828, 'mall': 3220, 'stay': 5128, 'til': 5517, 'smoke': 4941, 'worth': 6140, 'doesnt': 1460, 'log': 3088, 'spoke': 5072, 'maneesha': 3229, 'satisfi': 4642, 'experi': 1771, 'toll': 5567, 'lift': 3037, 'especi': 1703, 'approach': 266, 'studi': 5202, 'gr': 2223, 'trust': 5661, 'guy': 2290, 'bye': 772, 'handsom': 2322, 'toward': 5611, 'mummi': 3500, 'boytoy': 658, 'awesom': 395, 'minut': 3365, 'freephon': 2014, 'xma': 6194, 'radio': 4334, 'ju': 2813, 'si': 4842, 'uniqu': 5756, 'th': 5431, 'august': 369, 'areyouuniqu': 288, 'leagu': 2995, 'touch': 5607, 'deal': 1287, 'cours': 1151, 'howev': 2501, 'suggest': 5236, 'abl': 15, 'or': 3814, 'everi': 1726, 'stool': 5162, 'settl': 4743, 'wishin': 6084, 'mrng': 3469, 'hav': 2354, 'stori': 5172, 'hamster': 2318, 'dead': 1286, 'tmr': 5543, 'orchard': 3818, 'mrt': 3471, 'kate': 2855, 'babyjontet': 411, 'found': 1988, 'enc': 1647, 'buck': 730, 'darlin': 1268, 'ive': 2720, 'colleg': 1039, 'refil': 4425, 'success': 5223, 'inr': 2652, 'decim': 1299, 'keralacircl': 2872, 'prepaid': 4178, 'balanc': 429, 'rs': 4564, 'transact': 5626, 'id': 2561, 'kr': 2925, 'goodmorn': 2196, 'sleep': 4905, 'ga': 2074, 'alter': 167, 'dat': 1272, 'ericsson': 1687, 'oso': 3835, 'cannot': 809, 'oredi': 3822, 'straight': 5175, 'dogg': 1463, 'connect': 1097, 'refund': 4430, 'bill': 562, 'shoot': 4811, 'big': 558, 'readi': 4384, 'bruv': 719, 'break': 676, 'semest': 4717, 'noe': 3650, 'leh': 3007, 'sound': 5017, 'head': 2367, 'slept': 4910, 'past': 3934, 'easi': 1573, 'sen': 4720, 'exam': 1751, 'march': 3240, 'atm': 352, 'regist': 4435, 'os': 3833, 'ubandu': 5709, 'instal': 2659, 'disk': 1429, 'import': 2601, 'file': 1884, 'system': 5320, 'repair': 4464, 'shop': 4812, 'romant': 4546, 'nite': 3640, 'sceneri': 4662, 'tc': 5368, 'biz': 579, 'optout': 3813, 'gbp': 2105, 'mtmsg': 3482, 'appreci': 265, 'partner': 3925, 'career': 824, 'flyng': 1948, 'horo': 2480, 'star': 5116, 'sign': 4850, 'ari': 293, 'compani': 1059, 'elama': 1621, 'mudyadhu': 3490, 'strict': 5185, 'teacher': 5374, 'bcoz': 483, 'teach': 5373, 'conduct': 1086, 'gandhipuram': 2085, 'walk': 5932, 'cross': 1187, 'road': 4534, 'side': 4847, 'street': 5180, 'rubber': 4572, 'batteri': 469, 'die': 1388, 'flirt': 1935, 'sam': 4615, 'recd': 4400, 'thirtyeight': 5472, 'penc': 3966, 'print': 4210, 'upstair': 5787, 'closer': 996, 'wil': 6061, 'theori': 5452, 'argument': 292, 'lose': 3115, 'argu': 291, 'kick': 2883, 'secret': 4695, 'admir': 70, 'reveal': 4503, 'tomarrow': 5569, 'laptop': 2959, 'case': 836, 'pleassssssseeeee': 4065, 'tel': 5385, 'avent': 386, 'sportsx': 5080, 'shine': 4795, 'meant': 3288, 'although': 169, 'told': 5563, 'baig': 423, 'face': 1794, 'fr': 1996, 'thanx': 5438, 'everyth': 1732, 'commerci': 1053, 'websit': 5984, 'slipper': 4915, 'kalli': 2844, 'bat': 462, 'inning': 2647, 'didnt': 1386, 'goodnight': 2197, 'fix': 1914, 'wake': 5929, 'dearli': 1291, 'congratul': 1096, 'cd': 853, 'voucher': 5910, 'gift': 2143, 'music': 3508, 'tnc': 5546, 'ldew': 2987, 'ppmx': 4150, 'ranjith': 4360, 'cal': 779, 'drpd': 1528, 'deeraj': 1310, 'deepak': 1307, 'hold': 2450, 'bcum': 484, 'angri': 208, 'wid': 6054, 'dnt': 1449, 'childish': 930, 'true': 5657, 'deep': 1306, 'affect': 90, 'care': 822, 'kettoda': 2874, 'manda': 3225, 'up': 5778, 'ship': 4797, 'usp': 5814, 'lag': 2939, 'bribe': 686, 'nipost': 3638, 'lemm': 3010, 'necessarili': 3573, 'expect': 1769, 'headin': 2369, 'mmm': 3394, 'jolt': 2798, 'suzi': 5282, 'lover': 3135, 'video': 5868, 'handset': 2321, 'anytim': 240, 'unlimit': 5765, 'park': 3918, 'mini': 3356, 'disturb': 1436, 'luton': 3166, 'ring': 4523, 'horni': 2478, 'nake': 3535, 'hot': 2487, 'unsubscrib': 5775, 'dint': 1408, 'wana': 5942, 'sometm': 4989, 'club': 1001, 'choos': 950, 'wt': 6170, 'evo': 1741, 'flash': 1923, 'jealou': 2758, 'singl': 4871, 'chart': 891, 'qualiti': 4314, 'sort': 5013, 'narcot': 3545, 'sunni': 5250, 'ray': 4369, 'blue': 607, 'bay': 472, 'hmv': 2442, 'genuin': 2123, 'percent': 3973, 'might': 3339, 'object': 3727, 'bf': 548, 'rob': 4536, 'mack': 3189, 'gf': 2138, 'theater': 5443, 'celebr': 858, 'full': 2056, 'swing': 5305, 'tool': 5586, 'definit': 1315, 'gdeve': 2107, 'far': 1822, 'oki': 3765, 'ahold': 117, 'anybodi': 231, 'throw': 5496, 'babi': 409, 'cruisin': 1194, 'fone': 1960, 'jenni': 2765, 'ge': 2108, 'shall': 4766, 'tonit': 5582, 'varunnathu': 5840, 'edukkukaye': 1598, 'raksha': 4349, 'ollu': 3774, 'sens': 4725, 'gautham': 2097, 'stupid': 5208, 'cam': 794, 'buzi': 766, 'accident': 35, 'resend': 4476, 'phone': 4014, 'upgrad': 5782, 'sim': 4859, 'card': 819, 'loyalti': 3144, 'thfeb': 5462, 'unless': 5763, 'gurl': 2288, 'appropri': 267, 'teas': 5377, 'plz': 4076, 'rose': 4552, 'grave': 2238, 'bslvyl': 720, 'somebodi': 4979, 'high': 2415, 'diesel': 1389, 'shit': 4799, 'shock': 4808, 'scari': 4660, 'imagin': 2589, 'def': 1311, 'somewher': 4991, 'taxi': 5362, 'fridg': 2025, 'meal': 3284, 'womdarful': 6115, 'actor': 56, 'blind': 594, 'rodd': 4539, 'aberdeen': 10, 'unit': 5757, 'kingdom': 2895, 'img': 2592, 'icmb': 2559, 'cktz': 969, 'hide': 2414, 'remb': 4452, 'book': 630, 'jo': 2785, 'friendship': 2028, 'hang': 2323, 'thread': 5490, 'themob': 5449, 'newest': 3607, 'game': 2083, 'tone': 5577, 'gossip': 2207, 'sport': 5079, 'fit': 1911, 'funki': 2065, 'garag': 2089, 'key': 2875, 'bookshelf': 633, 'accept': 32, 'sister': 4877, 'clo': 992, 'lvblefrnd': 3172, 'jstfrnd': 2811, 'cutefrnd': 1236, 'lifpartnr': 3036, 'belovd': 526, 'swtheart': 5311, 'bstfrnd': 723, 'enemi': 1652, 'smart': 4930, 'weekli': 5995, 'cs': 1196, 'winnersclub': 6076, 'uz': 5826, 'normal': 3671, 'rest': 4490, 'mylif': 3522, 'wot': 6143, 'lost': 3118, 'made': 3193, 'advanc': 80, 'pongal': 4104, 'kb': 2861, 'power': 4140, 'yoga': 6252, 'dunno': 1553, 'tahan': 5329, 'anot': 220, 'lo': 3079, 'dude': 1544, 'afraid': 95, 'decemb': 1296, 'mth': 3481, 'cake': 778, 'merri': 3322, 'christma': 958, 'kiss': 2900, 'cud': 1213, 'ppl': 4144, 'gona': 2186, 'buse': 755, 'gon': 2185, 'waitin': 5928, 'pete': 3997, 'guild': 2283, 'bristol': 699, 'problem': 4225, 'track': 5617, 'record': 4411, 'read': 4382, 'women': 6116, 'light': 3038, 'apo': 249, 'return': 4501, 'immedi': 2595, 'germani': 2128, 'line': 3050, 'via': 5861, 'access': 33, 'prepay': 4180, 'evapor': 1719, 'violat': 5881, 'privaci': 4215, 'steal': 5134, 'employ': 1643, 'paperwork': 3905, 'report': 4469, 'supervisor': 5260, 'valentin': 5831, 'lifetim': 3035, 'rcvd': 4376, 'custcar': 1230, 'daaaaa': 1246, 'dine': 1403, 'surf': 5271, 'post': 4128, 'wiv': 6095, 'carolin': 829, 'favourit': 1841, 'stranger': 5178, 'interest': 2669, 'two': 5693, 'round': 4554, 'gudnit': 2277, 'practic': 4156, 'huim': 2520, 'num': 3704, 'small': 4928, 'prestig': 4194, 'shag': 4760, 'sextextuk': 4750, 'xxuk': 6201, 'jeremiah': 2767, 'iphon': 2692, 'apeshit': 246, 'ever': 1725, 'misbehav': 3368, 'slap': 4903, 'urself': 5803, 'fault': 1835, 'basic': 458, 'figur': 1882, 'alcohol': 139, 'jay': 2750, 'weed': 5991, 'ish': 2703, 'ago': 109, 'wtf': 6172, 'onam': 3780, 'sirji': 4876, 'met': 3328, 'insur': 2665, 'insha': 2654, 'allah': 154, 'rakhesh': 4348, 'ex': 1748, 'tata': 5356, 'aig': 119, 'tissco': 5529, 'tayseer': 5366, 'current': 1225, 'maxim': 3274, 'cc': 851, 'hg': 2410, 'suit': 5237, 'land': 2948, 'row': 4557, 'unemploy': 5746, 'moment': 3425, 'andrew': 205, 'cold': 1033, 'chikku': 928, 'db': 1282, 'audrey': 367, 'statu': 5127, 'forward': 1987, 'dawn': 1278, 'refresh': 4429, 'aliv': 152, 'breath': 680, 'air': 122, 'motorola': 3457, 'sonyericsson': 5000, 'bluetooth': 608, 'orang': 3816, 'mobileupd': 3410, 'discount': 1425, 'rp': 4560, 'regalportfolio': 4433, 'uniform': 5754, 'geeee': 2110, 'woke': 6112, 'cuddl': 1214, 'spoil': 5070, 'agre': 110, 'will': 6065, 'refer': 4422, 'seen': 4706, 'recognis': 4410, 'lindsay': 3049, 'sigh': 4848, 'bar': 446, 'ptbo': 4275, 'heron': 2405, 'payasam': 3948, 'rinu': 4526, 'bring': 696, 'taught': 5359, 'becau': 493, 'he': 2366, 'project': 4241, 'prabu': 4154, 'mistak': 3382, 'bodi': 618, 'quit': 4323, 'slow': 4921, 'guid': 2281, 'ovul': 3868, 'relax': 4443, 'reason': 4394, 'followin': 1957, 'coupl': 1148, 'wallet': 5936, 'dx': 1563, 'owl': 3871, 'lick': 3029, 'mm': 3393, 'rental': 4462, 'mobilesdirect': 3408, 'stoptxt': 5169, 'huh': 2518, 'sat': 4638, 'intro': 2678, 'pilat': 4034, 'kickbox': 2884, 'offic': 3746, 'lap': 2957, 'shut': 4841, 'bout': 651, 'calcul': 780, 'period': 3981, 'actual': 57, 'rock': 4538, 'put': 4298, 'pictur': 4028, 'ass': 331, 'facebook': 1795, 'al': 134, 'salam': 4607, 'wahleykkum': 5925, 'share': 4774, 'grace': 2225, 'god': 2174, 'inshah': 2655, 'visitor': 5892, 'india': 2626, 'field': 1873, 'quickli': 4321, 'administr': 69, 'poli': 4096, 'pw': 4302, 'chechi': 900, 'cream': 1174, 'none': 3660, 'yep': 6237, 'loxahatche': 3142, 'tree': 5641, 'stoner': 5161, 'slightli': 4913, 'disastr': 1421, 'fav': 1836, 'wld': 6104, 'drink': 1518, 'busetop': 756, 'sender': 4722, 'fullonsm': 2057, 'iron': 2698, 'yan': 6218, 'jiu': 2783, 'skip': 4895, 'den': 1332, 'blah': 584, 'wendi': 6009, 'sk': 4887, 'ch': 870, 'whatsup': 6028, 'competit': 1064, 'txttowin': 5702, 'logo': 3090, 'mobno': 3411, 'adam': 59, 'eve': 1720, 'yahoo': 6214, 'txtno': 5699, 'ad': 58, 'tf': 5428, 'siva': 4884, 'hostel': 2485, 'aha': 112, 'voic': 5902, 'express': 1781, 'sentiment': 4731, 'rowdi': 4558, 'ful': 2054, 'attitud': 360, 'attract': 361, 'funni': 2066, 'irrit': 2699, 'aathi': 4, 'urin': 5799, 'esplanad': 1704, 'mind': 3352, 'wnt': 6108, 'bmw': 613, 'vri': 5912, 'hv': 2537, 'shortag': 4817, 'lac': 2935, 'sourc': 5020, 'arng': 299, 'amt': 196, 'fifteen': 1877, 'fuck': 2048, 'respond': 4488, 'vari': 5837, 'bcm': 481, 'ldn': 2988, 'wc': 5974, 'hillsborough': 2419, 'askin': 326, 'dollar': 1473, 'shoul': 4823, 'iouri': 2688, 'ten': 5398, 'applebe': 261, 'journey': 2805, 'hasnt': 2347, 'gd': 2106, 'bhaji': 551, 'cricket': 1182, 'sachin': 4594, 'tough': 5608, 'suppos': 5266, 'oic': 3757, 'tot': 5604, 'din': 1402, 'group': 2260, 'wereth': 6015, 'monkeespeopl': 3430, 'monkeyaround': 3432, 'howdi': 2500, 'gorgeou': 2204, 'howu': 2502, 'doin': 1467, 'foundurself': 1989, 'jobyet': 2788, 'sausag': 4647, 'jen': 2763, 'blimey': 593, 'exercis': 1759, 'kinda': 2892, 'concentr': 1081, 'hank': 2326, 'lotsli': 3121, 'detail': 1360, 'transfer': 5628, 'acc': 29, 'optimist': 3810, 'improv': 2607, 'purpos': 4293, 'homeown': 2458, 'tenant': 5399, 'welcom': 6004, 'previous': 4202, 'refus': 4431, 'oreo': 3823, 'truffl': 5658, 'ami': 181, 'ure': 5792, 'beauti': 491, 'intellig': 2666, 'woman': 6114, 'result': 4496, 'consist': 1102, 'kind': 2891, 'practicum': 4157, 'ear': 1567, 'ttyl': 5669, 'isnt': 2706, 'bad': 417, 'thru': 5499, 'differ': 1392, 'waver': 5969, 'decis': 1300, 'cope': 1125, 'individu': 2629, 'heal': 2372, 'upgrdcentr': 5783, 'juli': 2819, 'opt': 3808, 'railway': 4339, 'princess': 4209, 'oral': 3815, 'doggi': 1464, 'style': 5209, 'fave': 1837, 'posit': 4125, 'enjoy': 1660, 'slipperi': 4916, 'bike': 561, 'mani': 3232, 'languag': 2954, 'okmail': 3766, 'dave': 1277, 'notic': 3681, 'tenerif': 5401, 'sae': 4598, 'cw': 1241, 'wx': 6184, 'scream': 4678, 'remov': 4458, 'flat': 1924, 'ja': 2726, 'moan': 3403, 'nyt': 3720, 'broken': 706, 'cum': 1218, 'infront': 2639, 'wise': 6082, 'tension': 5403, 'machi': 3186, 'mcr': 3283, 'sec': 4692, 'tast': 5354, 'fb': 1842, 'jaykwon': 2752, 'thuglyf': 5502, 'falconerf': 1811, 'term': 5405, 'condit': 1085, 'visit': 5891, 'depend': 1340, 'fade': 1799, 'glori': 2162, 'ralph': 4351, 'dri': 1517, 'trade': 5619, 'reunion': 4502, 'meh': 3302, 'nope': 3666, 'monday': 3427, 'accentur': 31, 'jackson': 2731, 'rec': 4399, 'center': 861, 'fight': 1880, 'either': 1616, 'fightng': 1881, 'dificult': 1395, 'nuerologist': 3703, 'lolnic': 3095, 'fish': 1908, 'water': 5962, 'error': 1692, 'bore': 639, 'outsid': 3855, 'westshor': 6021, 'hyde': 2540, 'villag': 5879, 'near': 3566, 'anthoni': 228, 'fee': 1850, 'rent': 4461, 'signific': 4852, 'opinion': 3802, 'jada': 2733, 'kusruthi': 2929, 'silent': 4856, 'spl': 5063, 'charact': 885, 'matur': 3272, 'stylish': 5210, 'simpl': 4861, 'scroung': 4681, 'ammo': 186, 'ak': 131, 'prabha': 4153, 'soryda': 5015, 'reali': 4386, 'frm': 2030, 'sori': 5010, 'forgiven': 1977, 'jst': 2810, 'tat': 5355, 'gb': 2104, 'ipod': 2693, 'mp': 3464, 'ibhltd': 2547, 'mtmsgrcvd': 3483, 'boltblu': 623, 'mono': 3433, 'cha': 871, 'slide': 4912, 'jamz': 2739, 'toxic': 5613, 'bubbletext': 729, 'renew': 4460, 'pin': 4038, 'tgxxrz': 5430, 'transport': 5630, 'less': 3017, 'problemat': 4226, 'bday': 486, 'no': 3647, 'unconsci': 5736, 'children': 932, 'adult': 79, 'behav': 515, 'abnorm': 16, 'ebay': 1583, 'elsewher': 1631, 'pickl': 4026, 'taco': 5325, 'rude': 4573, 'campu': 799, 'attempt': 356, 'qu': 4313, 'ma': 3178, 'savamob': 4648, 'member': 3310, 'sub': 5212, 'unsub': 5774, 'pretti': 4198, 'ladi': 2938, 'reciev': 4408, 'within': 6090, 'channel': 881, 'teletext': 5388, 'pg': 4002, 'faggot': 1801, 'un': 5728, 'redeem': 4418, 'malaria': 3217, 'bani': 441, 'lead': 2991, 'passion': 3931, 'across': 51, 'sea': 4688, 'probabl': 4224, 'fat': 1830, 'finger': 1897, 'button': 762, 'ummmmmaah': 5727, 'tirupur': 5528, 'applausestor': 260, 'monthlysubscript': 3438, 'max': 3273, 'csc': 1198, 'web': 5980, 'famou': 1817, 'develop': 1364, 'abil': 12, 'listen': 3064, 'uncondit': 5735, 'temper': 5396, 'self': 4711, 'confid': 1089, 'marri': 3250, 'oclock': 3736, 'mine': 3354, 'bash': 457, 'recoveri': 4413, 'rather': 4365, 'coop': 1122, 'hotel': 2488, 'cali': 781, 'english': 1659, 'bloke': 598, 'weddin': 5986, 'omw': 3779, 'btw': 726, 'alibi': 151, 'sink': 4872, 'pace': 3879, 'cage': 777, 'cock': 1022, 'surround': 5277, 'remind': 4456, 'own': 3872, 'cuck': 1212, 'hurri': 2530, 'defici': 1314, 'three': 5492, 'acknowledg': 47, 'astoundingli': 341, 'tactless': 5327, 'gener': 2116, 'faggi': 1800, 'demand': 1331, 'blood': 601, 'oath': 3723, 'fo': 1952, 'warm': 5949, 'milk': 3345, 'magic': 3202, 'loos': 3111, 'pan': 3891, 'cheap': 897, 'perhap': 3979, 'silli': 4857, 'uv': 5821, 'mutat': 3515, 'sunscreen': 5253, 'essenti': 1706, 'theseday': 5456, 'onlin': 3787, 'pic': 4024, 'aiyo': 128, 'mei': 3303, 'fast': 1827, 'workin': 6133, 'bao': 445, 'sugardad': 5235, 'gee': 2109, 'browni': 713, 'geeeee': 2111, 'bare': 449, 'mrw': 3472, 'ninish': 3636, 'icki': 2558, 'american': 180, 'freek': 2011, 'callin': 791, 'oooh': 3795, 'ridden': 4516, 'ey': 1788, 'gym': 2293, 'whatev': 6027, 'daddi': 1250, 'dick': 1382, 'missi': 3375, 'yar': 6219, 'mum': 3497, 'sch': 4663, 'clean': 984, 'lab': 2933, 'goggl': 2176, 'door': 1486, 'arngd': 300, 'marriag': 3251, 'walkin': 5934, 'unfortuntli': 5750, 'snake': 4950, 'bite': 578, 'danc': 1256, 'frnt': 2037, 'sayin': 4654, 'izzit': 2725, 'textand': 5421, 'wife': 6057, 'kid': 2886, 'jjc': 2784, 'tendenc': 5400, 'headach': 2368, 'jazz': 2754, 'yogasana': 6253, 'em': 1633, 'meiv': 3304, 'hardli': 2341, 'gotani': 2210, 'srsli': 5100, 'yi': 6246, 'spree': 5087, 'ag': 103, 'promo': 4246, 'grand': 2230, 'prix': 4217, 'nitz': 3643, 'announc': 216, 'exhaust': 1761, 'train': 5622, 'pie': 4029, 'present': 4187, 'ar': 278, 'blastin': 589, 'tsunami': 5667, 'occur': 3734, 'rajnik': 4347, 'swim': 5303, 'indian': 2627, 'ocean': 3735, 'noon': 3663, 'xclusiv': 6190, 'clubsaisai': 1003, 'morow': 3446, 'soire': 4973, 'zouk': 6293, 'nichol': 3620, 'pari': 3916, 'bridgwat': 689, 'banter': 444, 'neva': 3600, 'imma': 2594, 'somethin': 4987, 'euro': 1714, 'daili': 1252, 'que': 4316, 'cer': 864, 'often': 3752, 'futur': 2069, 'hundr': 2524, 'aunti': 371, 'shuhui': 4839, 'leona': 3015, 'reaction': 4381, 'famili': 1815, 'snow': 4960, 'weather': 5979, 'togeth': 5556, 'grow': 2261, 'dismay': 1431, 'alex': 144, 'concern': 1082, 'pub': 4277, 'bud': 731, 'offici': 3747, 'paid': 3885, 'market': 3247, 'tootsi': 5591, 'pop': 4114, 'longer': 3102, 'darren': 1269, 'textbuddi': 5423, 'area': 284, 'postcod': 4131, 'gaytextbuddi': 2102, 'vodafon': 5900, 'seventeen': 4745, 'seven': 4744, 'ml': 3392, 'holder': 2451, 'pc': 3954, 'tlp': 5538, 'expressoff': 1782, 'ts': 5664, 'sweetheart': 5299, 'biola': 568, 'login': 3089, 'dad': 1249, 'fetch': 1863, 'restock': 4492, 'thanksgiv': 5435, 'effect': 1604, 'brighten': 692, 'wee': 5990, 'thursday': 5504, 'allo': 157, 'brave': 670, 'taken': 5336, 'triumph': 5649, 'ham': 2316, 'jolli': 2797, 'cartoon': 835, 'templ': 5397, 'church': 962, 'uncomfort': 5734, 'email': 1634, 'rstm': 4565, 'sw': 5284, 'ss': 5102, 'gentl': 2119, 'sonetim': 4997, 'rough': 4553, 'panic': 3895, 'tuesday': 5671, 'wesley': 6016, 'town': 5612, 'bet': 537, 'hella': 2393, 'drug': 1529, 'dealer': 1288, 'impati': 2598, 'sun': 5246, 'earth': 1572, 'cloud': 999, 'river': 4532, 'evng': 1740, 'wikipedia': 6060, 'premium': 4177, 'lay': 2981, 'envelop': 1677, 'paper': 3904, 'repent': 4466, 'de': 1285, 'prepar': 4179, 'kama': 2846, 'sutra': 5280, 'en': 1646, 'nang': 3542, 'bakra': 427, 'kalstiya': 2845, 'lakh': 2943, 'ho': 2443, 'belli': 522, 'laugh': 2974, 'ditto': 1437, 'peac': 3957, 'knw': 2912, 'wetherspoon': 6023, 'piggi': 4033, 'awak': 392, 'freaki': 2005, 'yell': 6232, 'scrappi': 4676, 'lone': 3099, 'hex': 2407, 'explain': 1776, 'sdryb': 4686, 'xy': 6211, 'sue': 5229, 'lapdanc': 2958, 'sex': 4747, 'bedroom': 502, 'textoper': 5426, 'ppmsg': 4149, 'king': 2894, 'build': 739, 'map': 3236, 'imprtant': 2608, 'tomorw': 5575, 'cherthala': 916, 'cochin': 1021, 'bfore': 550, 'accordingli': 40, 'tmorow': 5541, 'engag': 1655, 'an': 198, 'torch': 5597, 'bold': 621, 'farm': 1823, 'law': 2979, 'purchas': 4289, 'poop': 4110, 'gpu': 2222, 'entrepreneur': 1672, 'corpor': 1129, 'gap': 2088, 'prevent': 4199, 'dehydr': 1319, 'fluid': 1944, 'weird': 5999, 'idea': 2563, 'away': 394, 'trek': 5642, 'harri': 2345, 'drivin': 1523, 'fantast': 1821, 'gage': 2075, 'deck': 1301, 'cnupdat': 1013, 'newslett': 3612, 'alert': 141, 'height': 2389, 'aeronaut': 86, 'professor': 4236, 'wer': 6013, 'calld': 787, 'sit': 4878, 'aeroplan': 87, 'aftr': 102, 'ws': 6169, 'student': 5200, 'dey': 1369, 'datz': 1276, 'shitstorm': 4804, 'attribut': 362, 'stress': 5181, 'dorm': 1487, 'sell': 4715, 'sth': 5147, 'spec': 5038, 'px': 4303, 'macha': 3184, 'upset': 5786, 'assum': 337, 'mindset': 3353, 'wondar': 6117, 'flim': 1932, 'cooki': 1120, 'jelli': 2762, 'admit': 72, 'mad': 3191, 'scrumptiou': 4682, 'ba': 405, 'dao': 1262, 'exactli': 1750, 'jide': 2782, 'alertfrom': 142, 'jeri': 2768, 'stewarts': 5145, 'kbsubject': 2862, 'low': 3140, 'prescripiton': 4184, 'drvgsto': 1535, 'spring': 5088, 'yay': 6225, 'steak': 5133, 'twice': 5687, 'neglect': 3584, 'opportun': 3805, 'add': 60, 'prayer': 4169, 'txtauction': 5696, 'ctxt': 1210, 'rite': 4530, 'faster': 1828, 'gal': 2079, 'attach': 354, 'glad': 2156, 'clock': 993, 'shout': 4825, 'realis': 4387, 'wahay': 5922, 'shorter': 4820, 'gaze': 2103, 'eye': 1789, 'subscrib': 5217, 'helplin': 2398, 'spoken': 5073, 'gist': 2152, 'thousand': 5488, 'tattoo': 5357, 'premier': 4176, 'gimm': 2146, 'lip': 3060, 'caveboy': 849, 'librari': 3028, 'confus': 1094, 'holla': 2455, 'anyon': 234, 'spare': 5033, 'faith': 1807, 'possibl': 4127, 'vibrat': 5863, 'act': 52, 'grandma': 2232, 'hungov': 2525, 'unclaim': 5733, 'closingd': 997, 'claimcod': 973, 'pmmorefrommobil': 4078, 'bremov': 685, 'mobypobox': 3414, 'yf': 6244, 'gua': 2271, 'mt': 3479, 'faber': 1793, 'yest': 6239, 'citi': 966, 'summer': 5243, 'store': 5171, 'skilgm': 4889, 'tsc': 5666, 'winawk': 6069, 'perwksub': 3994, 'goin': 2178, 'meetin': 3299, 'ti': 5506, 'dramat': 1509, 'appar': 254, 'anywher': 242, 'damn': 1254, 'hunt': 2529, 'drunkard': 1533, 'idc': 2562, 'weasel': 5978, 'space': 5027, 'trash': 5631, 'beg': 510, 'sing': 4869, 'slave': 4904, 'punish': 4284, 'beerag': 507, 'randomlli': 4358, 'diff': 1391, 'perfect': 3976, 'commun': 1056, 'polyphon': 4103, 'toppoli': 5595, 'tune': 5678, 'subpoli': 5216, 'pole': 4095, 'fondli': 1959, 'bein': 517, 'thot': 5483, 'dogbreath': 1462, 'jan': 2740, 'omg': 3778, 'weigh': 5996, 'woohoo': 6124, 'uncount': 5738, 'dictionari': 1384, 'piec': 4030, 'thmarch': 5477, 'availa': 380, 'petey': 3999, 'wherear': 6035, 'friendsar': 2027, 'thekingshead': 5447, 'canlov': 806, 'nic': 3618, 'appt': 270, 'mate': 3263, 'getz': 2136, 'norm': 3670, 'cashto': 839, 'getstop': 2134, 'php': 4019, 'rg': 4508, 'jx': 2834, 'dled': 1445, 'imp': 2597, 'smokin': 4942, 'boooo': 634, 'bec': 492, 'ugh': 5713, 'nervou': 3591, 'costum': 1138, 'yowif': 6267, 'hint': 2421, 'borrow': 642, 'bag': 421, 'outbid': 3847, 'simonwatson': 4860, 'shinco': 4793, 'plyr': 4075, 'bid': 557, 'smsreward': 4946, 'notif': 3682, 'model': 3416, 'youi': 6257, 'galileo': 2080, 'dobbi': 1451, 'boo': 628, 'enjoyin': 1661, 'yourjob': 6263, 'gettin': 2135, 'hunni': 2528, 'llspeak': 3076, 'soonlot': 5004, 'lovem': 3134, 'xxxx': 6204, 'starshin': 5119, 'ach': 43, 'sip': 4873, 'cappuccino': 816, 'smsservic': 4947, 'yourinclus': 6262, 'comuk': 1078, 'qxj': 4329, 'extra': 1785, 'cm': 1006, 'ae': 85, 'alfi': 145, 'moon': 3440, 'chariti': 887, 'zed': 6285, 'profit': 4238, 'hahaha': 2303, 'brain': 663, 'green': 2249, 'burial': 751, 'mojibiola': 3421, 'cust': 1229, 'rv': 4586, 'rvx': 4587, 'skype': 4899, 'kz': 2931, 'sura': 5269, 'given': 2155, 'ultimatum': 5722, 'countin': 1145, 'aburo': 25, 'five': 1913, 'inconsider': 2616, 'nag': 3530, 'recess': 4406, 'henc': 2401, 'wed': 5985, 'soo': 5001, 'understand': 5741, 'morrow': 3449, 'comprehens': 1073, 'prashanthettan': 4166, 'mother': 3453, 'ibiza': 2548, 'await': 391, 'wp': 6151, 'meanwhil': 3289, 'xavier': 6188, 'warn': 5950, 'samantha': 4617, 'guitar': 2285, 'impress': 2606, 'doug': 1497, 'stomach': 5158, 'trauma': 5632, 'swear': 5294, 'matter': 3270, 'shoe': 4809, 'wan': 5941, 'inner': 2646, 'tigress': 5514, 'version': 5857, 'poor': 4111, 'urfeel': 5793, 'bettersn': 542, 'probthat': 4230, 'overdos': 3863, 'spk': 5062, 'sn': 4949, 'lovejen': 3133, 'fall': 1812, 'discreet': 1426, 'vip': 5884, 'hai': 2304, 'ana': 199, 'sathi': 4640, 'rto': 4569, 'spoon': 5077, 'tampa': 5346, 'geniu': 2117, 'whenev': 6033, 'lotta': 3123, 'corvett': 1134, 'suppli': 5263, 'virgin': 5887, 'mysteri': 3526, 'smsco': 4944, 'approx': 269, 'wall': 5935, 'bunker': 747, 'xxxxxx': 6206, 'posh': 4123, 'bird': 569, 'chap': 882, 'user': 5810, 'trial': 5645, 'prod': 4232, 'champney': 878, 'dob': 1450, 'asap': 316, 'philosoph': 4010, 'hole': 2452, 'drop': 1526, 'nap': 3544, 'atleast': 351, 'otherwis': 3838, 'shakespear': 4765, 'shesil': 4786, 'travel': 5634, 'ntt': 3698, 'cr': 1160, 'fixedlin': 1916, 'castor': 841, 'liverpool': 3072, 'mid': 3336, 'stopsm': 5167, 'doit': 1469, 'mymobi': 3523, 'knew': 2907, 'woul': 6146, 'curfew': 1223, 'gibe': 2142, 'midnight': 3338, 'getsleep': 2133, 'studdi': 5199, 'massag': 3257, 'oil': 3758, 'sup': 5256, 'yoyyooo': 6268, 'permiss': 3984, 'mac': 3182, 'usb': 5806, 'gibb': 2141, 'unsold': 5772, 'mike': 3341, 'hussey': 2534, 'fail': 1803, 'sad': 4597, 'unbeliev': 5730, 'faglord': 1802, 'murder': 3505, 'nutter': 3711, 'cutter': 1239, 'ctter': 1208, 'cttergg': 1209, 'cttargg': 1207, 'ctargg': 1204, 'ctagg': 1203, 'ie': 2572, 'thu': 5501, 'superb': 5258, 'grate': 2237, 'happier': 2334, 'agent': 107, 'due': 1546, 'sever': 4746, 'outstand': 3857, 'invoic': 2686, 'smell': 4935, 'tobacco': 5549, 'derek': 1345, 'taylor': 5365, 'worst': 6139, 'charl': 888, 'lastest': 2968, 'stereophon': 5141, 'marley': 3248, 'dizze': 1443, 'racal': 4331, 'libertin': 3027, 'stroke': 5190, 'nookii': 3662, 'bookmark': 632, 'plu': 4070, 'grinul': 2254, 'greet': 2250, 'white': 6042, 'fudg': 2051, 'januari': 2744, 'male': 3219, 'sale': 4609, 'gay': 2100, 'cheaper': 898, 'peak': 3959, 'zaher': 6282, 'ym': 6249, 'nauseou': 3558, 'piss': 4042, 'pig': 4032, 'diet': 1390, 'chip': 944, 'iam': 2545, 'addict': 63, 'msging': 3475, 'wrong': 6166, 'photo': 4017, 'yck': 6226, 'ashley': 319, 'avalarr': 381, 'hollalat': 2456, 'attend': 358, 'blog': 596, 'magicalsong': 3203, 'blogspot': 597, 'ate': 346, 'kvb': 2930, 'million': 3347, 'ppt': 4151, 'jy': 2835, 'altern': 168, 'ore': 3821, 'mo': 3402, 'owo': 3873, 'fro': 2038, 'wherev': 6036, 'samu': 4619, 'shoulder': 4824, 'matthew': 3271, 'lux': 3169, 'xh': 6192, 'wear': 5977, 'jean': 2759, 'fever': 1864, 'vomitin': 5907, 'hp': 2504, 'stuf': 5205, 'bleh': 591, 'least': 2998, 'writh': 6160, 'ton': 5576, 'paypal': 3953, 'voila': 5904, 'pocket': 4086, 'theyr': 5461, 'medic': 3295, 'folk': 1955, 'sorta': 5014, 'blown': 605, 'score': 4670, 'sopha': 5008, 'secondari': 4694, 'applic': 263, 'ogunrind': 3754, 'expens': 1770, 'tcr': 5369, 'lodg': 3087, 'chk': 946, 'ms': 3473, 'dict': 1383, 'shb': 4777, 'truth': 5662, 'graviti': 2241, 'heavi': 2383, 'bowl': 653, 'filthi': 1888, 'brand': 667, 'simpler': 4862, 'welp': 6007, 'retir': 4499, 'natwest': 3556, 'chad': 873, 'gymnast': 2294, 'site': 4879, 'christian': 957, 'necklac': 3575, 'token': 5561, 'aptitud': 275, 'hors': 2482, 'race': 4332, 'earlier': 1569, 'chicken': 925, 'rice': 4513, 'wrongli': 6167, 'crap': 1166, 'borin': 640, 'boggi': 619, 'biatch': 556, 'nxt': 3716, 'hesit': 2406, 'notebook': 3678, 'salari': 4608, 'chocol': 948, 'potenti': 4134, 'talent': 5338, 'reckon': 4409, 'eightish': 1614, 'carpark': 831, 'videophon': 5870, 'videochat': 5869, 'java': 2749, 'dload': 1447, 'polyph': 4102, 'nolin': 3657, 'rentl': 4463, 'fuckin': 2049, 'yun': 6275, 'ubi': 5710, 'iren': 2696, 'ere': 1685, 'cre': 1173, 'tech': 5378, 'ph': 4003, 'wkg': 6100, 'sd': 4684, 'butt': 760, 'sore': 5009, 'parti': 3921, 'stripe': 5189, 'skirt': 4896, 'miracl': 3366, 'jesu': 2773, 'escal': 1698, 'quiet': 4322, 'beth': 539, 'aunt': 370, 'charli': 889, 'helen': 2391, 'heard': 2377, 'syllabu': 5313, 'panason': 3893, 'bluetoothhdset': 609, 'doublemin': 1494, 'doubletxt': 1495, 'contract': 1111, 'poyyarikatur': 4141, 'kolathupalayam': 2917, 'unjalur': 5760, 'erod': 1689, 'hero': 2404, 'apt': 274, 'kerala': 2871, 'terribl': 5410, 'fan': 1818, 'meat': 3291, 'suprem': 5267, 'regret': 4437, 'cudnt': 1215, 'drove': 1527, 'ctla': 1206, 'ent': 1666, 'ishtamayoo': 2704, 'bakrid': 428, 'exe': 1757, 'gloriou': 2163, 'anniversari': 214, 'prey': 4203, 'coax': 1018, 'imag': 2588, 'fond': 1958, 'souveni': 5023, 'cougar': 1140, 'pen': 3965, 'secretli': 4697, 'datebox': 1275, 'essexcm': 1707, 'xn': 6195, 'pattern': 3941, 'throat': 5495, 'scratch': 4677, 'plm': 4068, 'asleep': 328, 'foreign': 1971, 'stamp': 5112, 'lectur': 3001, 'sheffield': 4781, 'nanni': 3543, 'rais': 4341, 'zoe': 6290, 'shitin': 4801, 'defo': 1317, 'hardest': 2340, 'lekdog': 3009, 'fill': 1885, 'loverboy': 3136, 'blanket': 588, 'suffici': 5231, 'thx': 5505, 'edison': 1593, 'rightli': 4520, 'fool': 1963, 'speechless': 5043, 'viva': 5895, 'gm': 2165, 'gn': 2167, 'gnt': 2169, 'atten': 357, 'roast': 4535, 'hb': 2363, 'educ': 1597, 'seriou': 4737, 'kickoff': 2885, 'june': 2824, 'rd': 4377, 'data': 1273, 'analysi': 201, 'thesi': 5457, 'belliger': 523, 'hiya': 2431, 'april': 272, 'le': 2990, 'rudi': 4574, 'snore': 4958, 'drunk': 1532, 'ink': 2643, 'eastend': 1578, 'flower': 1943, 'compar': 1061, 'violet': 5883, 'tulip': 5675, 'lili': 3045, 'wkent': 6099, 'technic': 5379, 'support': 5265, 'process': 4231, 'finalis': 1891, 'flirtparti': 1936, 'bitch': 577, 'dentist': 1338, 'wu': 6176, 'xchat': 6189, 'lul': 3161, 'juici': 2816, 'nurs': 3706, 'she': 4779, 'obes': 3725, 'oyea': 3875, 'oi': 3756, 'parchi': 3913, 'na': 3527, 'kicchu': 2882, 'kaaj': 2836, 'kort': 2922, 'iccha': 2554, 'korch': 2919, 'tul': 5674, 'sculptur': 4683, 'convey': 1117, 'regard': 4434, 'surya': 5279, 'vijay': 5873, 'pokkiri': 4094, 'dearer': 1290, 'dem': 1330, 'sorrow': 5012, 'craziest': 1170, 'proov': 4252, 'planet': 4054, 'prais': 4159, 'curri': 1226, 'maki': 3215, 'sambar': 4618, 'ndship': 3564, 'needl': 3580, 'evn': 1739, 'itz': 2718, 'alwi': 174, 'conect': 1087, 'spatula': 5036, 'sipix': 4874, 'digit': 1397, 'bp': 659, 'warranti': 5952, 'doctor': 1455, 'complex': 1070, 'freeli': 2012, 'tax': 5361, 'outrag': 3853, 'tomorro': 5573, 'ryder': 4591, 'receipt': 4401, 'elvi': 1632, 'presley': 4189, 'fret': 2022, 'strip': 5188, 'postal': 4129, 'cliff': 990, 'ne': 3565, 'wrking': 6163, 'uni': 5752, 'depress': 1342, 'sittin': 4882, 'wind': 6070, 'black': 581, 'aiyah': 126, 'onto': 3790, 'urawinn': 5791, 'surpris': 5275, 'hen': 2400, 'italian': 2709, 'grin': 2252, 'math': 3264, 'dhoni': 1373, 'teju': 5384, 'hourish': 2493, 'ground': 2259, 'amla': 184, 'durban': 1555, 'conveni': 1114, 'evalu': 1718, 'speed': 5044, 'speedchat': 5045, 'swap': 5288, 'chatter': 896, 'rcd': 4373, 'cancel': 804, 'cheyyamo': 920, 'aiyar': 127, 'survey': 5278, 'who': 6044, 'difficulti': 1394, 'howz': 2503, 'tau': 5358, 'sar': 4629, 'piah': 4023, 'stchoic': 5130, 'film': 1886, 'shade': 4758, 'notifi': 3683, 'luck': 3155, 'station': 5126, 'tank': 5347, 'fil': 1883, 'sexual': 4751, 'cute': 1235, 'sitter': 4881, 'kaitlyn': 2840, 'danger': 1261, 'peep': 3962, 'comment': 1052, 'veggi': 5849, 'neighbor': 3586, 'computerless': 1077, 'balloon': 432, 'drm': 1525, 'wrc': 6154, 'ralli': 4350, 'oz': 3877, 'lucozad': 3158, 'energi': 1653, 'itcould': 2710, 'melodi': 3308, 'horribl': 2481, 'toot': 5588, 'bigger': 559, 'nw': 3715, 'hme': 2436, 'island': 2705, 'chennai': 913, 'velacheri': 5851, 'flippin': 1934, 'cstore': 1201, 'annoy': 217, 'hangin': 2325, 'makin': 3216, 'shame': 4767, 'quizz': 4327, 'popcorn': 4115, 'jordan': 2802, 'celeb': 857, 'pocketbab': 4087, 'voicemail': 5903, 'thin': 5466, 'fed': 1848, 'himso': 2420, 'neft': 3582, 'beneficiari': 531, 'tuition': 5673, 'choic': 949, 'semi': 4718, 'deliv': 1325, 'exp': 1768, 'apr': 271, 'strong': 5191, 'arm': 296, 'maaaan': 3179, 'guessin': 2280, 'walmart': 5938, 'ilol': 2586, 'wuldnt': 6180, 'mite': 3384, 'creepi': 1179, 'lunchtim': 3163, 'organis': 3826, 'passabl': 3930, 'phd': 4007, 'easier': 1574, 'nok': 3655, 'txtin': 5697, 'prakesh': 4162, 'rofl': 4541, 'betta': 540, 'invest': 2682, 'anti': 229, 'product': 4233, 'delay': 1321, 'accommod': 36, 'variou': 5838, 'global': 2161, 'phb': 4006, 'submit': 5215, 'textcomp': 5424, 'snatch': 4953, 'purs': 4294, 'drivbi': 1520, 'edrunk': 1595, 'iff': 2573, 'pthi': 4276, 'senrd': 4724, 'dnot': 1448, 'dancc': 1257, 'drum': 1531, 'basq': 461, 'ihav': 2577, 'nhite': 3616, 'ro': 4533, 'xxxxxxx': 6207, 'reliev': 4446, 'westonzoyland': 6020, 'europ': 1716, 'nobodi': 3649, 'chines': 940, 'doc': 1452, 'havin': 2360, 'mc': 3279, 'hun': 2523, 'ava': 378, 'goodtim': 2201, 'oli': 3773, 'rang': 4359, 'melnit': 3307, 'ifink': 2574, 'everythin': 1733, 'mon': 3426, 'flip': 1933, 'shun': 4840, 'bian': 555, 'glass': 2159, 'exhibit': 1762, 'el': 1617, 'nino': 3637, 'cbe': 850, 'honey': 2463, 'jd': 2756, 'execut': 1758, 'downstem': 1502, 'wahala': 5921, 'inperialmus': 2650, 'weirdest': 6000, 'leafcutt': 2994, 'john': 2792, 'insect': 2653, 'molest': 3423, 'plumb': 4072, 'remix': 4457, 'evil': 1738, 'acid': 46, 'didntgiv': 1387, 'bellearli': 521, 'bedbut': 499, 'thepub': 5454, 'tr': 5616, 'uwana': 5823, 'jenxxx': 2766, 'exact': 1749, 'jane': 2742, 'minmoremobsemspobox': 3360, 'tee': 5381, 'cheeri': 908, 'cell': 859, 'tht': 5500, 'dough': 1498, 'control': 1113, 'weirdo': 6002, 'mode': 3415, 'stalk': 5111, 'profil': 4237, 'jerri': 2770, 'drinkin': 1519, 'other': 3837, 'tour': 5610, 'pax': 3946, 'deposit': 1341, 'jap': 2746, 'disappear': 1418, 'birthdat': 573, 'certif': 868, 'publish': 4279, 'nydc': 3719, 'wheellock': 6031, 'destin': 1358, 'fifti': 1879, 'favour': 1840, 'happenin': 2332, 'ola': 3768, 'cocksuck': 1023, 'ipad': 2690, 'worthless': 6141, 'garbag': 2090, 'novelti': 3688, 'item': 2711, 'fran': 1998, 'broke': 705, 'knacker': 2905, 'janx': 2745, 'design': 1351, 'softwar': 4971, 'jamster': 2738, 'videosound': 5871, 'gold': 2180, 'musicnew': 3509, 'lion': 3057, 'lionm': 3058, 'lionp': 3059, 'origin': 3829, 'jokin': 2796, 'spirit': 5059, 'bb': 473, 'shatter': 4775, 'alrit': 165, 'idiot': 2568, 'girli': 2151, 'darker': 1265, 'whenevr': 6034, 'gray': 2242, 'remembr': 4455, 'listn': 3065, 'watevr': 5965, 'potter': 4135, 'phoenix': 4013, 'among': 188, 'reader': 4383, 'shd': 4778, 'minu': 3364, 'paragraph': 3910, 'coveragd': 1156, 'vasai': 5841, 'retard': 4498, 'bathroom': 466, 'sang': 4622, 'uptown': 5789, 'februari': 1847, 'rush': 4584, 'icic': 2556, 'syria': 5318, 'canada': 801, 'goodnoon': 2199, 'gaug': 2096, 'patti': 3942, 'vl': 5898, 'ax': 399, 'chill': 934, 'surgic': 5272, 'emerg': 1639, 'unfold': 5748, 'fren': 2017, 'korean': 2920, 'fredericksburg': 2006, 'pase': 3928, 'buen': 734, 'tiempo': 5510, 'chillin': 936, 'super': 5257, 'georg': 2125, 'sauci': 4646, 'there': 5455, 'tmrw': 5544, 'compass': 1062, 'soul': 5016, 'gnun': 2170, 'baaaaab': 407, 'misss': 3379, 'youuuuu': 6264, 'ned': 3576, 'witot': 6093, 'main': 3211, 'sweeti': 5300, 'blackberri': 582, 'buyer': 764, 'pple': 4145, 'becz': 497, 'undrstndng': 5745, 'chain': 874, 'suffer': 5230, 'whn': 6043, 'arrest': 306, 'suntec': 5255, 'steamboat': 5136, 'moji': 3420, 'forgiv': 1976, 'messeng': 3326, 'tp': 5615, 'fantasi': 1820, 'croydon': 1189, 'wb': 5973, 'bbq': 477, 'everyso': 1731, 'panick': 3896, 'write': 6159, 'cover': 1155, 'screen': 4679, 'gentli': 2121, 'bear': 489, 'nick': 3621, 'tom': 5568, 'fact': 1797, 'upload': 5784, 'huai': 2512, 'juan': 2814, 'linerent': 3052, 'lf': 3023, 'tlk': 5537, 'ideal': 2564, 'path': 3937, 'appear': 256, 'front': 2042, 'shot': 4822, 'reserv': 4478, 'thirunelvali': 5473, 'tirunelvali': 5527, 'tackl': 5324, 'storm': 5173, 'phne': 4012, 'margaret': 3242, 'girlfrnd': 2150, 'grahmbel': 2227, 'invnt': 2685, 'telphon': 5392, 'moral': 3441, 'tonght': 5579, 'plough': 4069, 'pile': 4035, 'chinki': 941, 'wi': 6050, 'nz': 3722, 'aust': 372, 'bk': 580, 'cafe': 776, 'recharg': 4407, 'papa': 3903, 'shld': 4806, 'stretch': 5183, 'sinco': 4867, 'paye': 3950, 'icicibank': 2557, 'urn': 5802, 'bewar': 546, 'fraud': 2003, 'disclos': 1423, 'vote': 5908, 'loser': 3116, 'kaiez': 2838, 'option': 3812, 'beta': 538, 'noncomitt': 3659, 'beneath': 530, 'pale': 3889, 'goodnit': 2198, 'msgrcvdhg': 3477, 'snicker': 4956, 'total': 5605, 'chord': 952, 'rem': 4450, 'silver': 4858, 'lmao': 3077, 'silenc': 4855, 'revis': 4506, 'boyf': 656, 'interviw': 2675, 'exet': 1760, 'spreadsheet': 5086, 'whose': 6048, 'determin': 1361, 'entir': 1670, 'arsen': 309, 'dartboard': 1270, 'trebl': 5640, 'coat': 1017, 'everybodi': 1727, 'alon': 160, 'intrepid': 2677, 'duo': 1554, 'missin': 3376, 'guilti': 2284, 'aiya': 125, 'cardiff': 820, 'addi': 62, 'tue': 5670, 'breez': 682, 'bright': 691, 'fresh': 2020, 'twitter': 5692, 'restaur': 4491, 'textpod': 5427, 'pod': 4088, 'duck': 1543, 'chinchilla': 939, 'function': 2060, 'headstart': 2371, 'desper': 1355, 'rummer': 4580, 'fli': 1930, 'monkey': 3431, 'certainli': 867, 'optin': 3811, 'bbc': 474, 'rajini': 4345, 'spi': 5051, 'clair': 974, 'bought': 649, 'yalru': 6216, 'lyfu': 3174, 'astn': 340, 'innu': 2649, 'mundh': 3502, 'lyf': 3173, 'ali': 149, 'halla': 2313, 'ke': 2863, 'bilo': 565, 'program': 4239, 'edha': 1592, 'ovr': 3867, 'vargu': 5836, 'meow': 3319, 'twelv': 5685, 'aah': 1, 'xxxxxxxxx': 6209, 'prone': 4250, 'llc': 3075, 'ny': 3717, 'usa': 5805, 'msgrcvd': 3476, 'luci': 3154, 'hubbi': 2513, 'cumin': 1219, 'minmobsmorelkpobox': 3359, 'fl': 1918, 'natur': 3555, 'dose': 1490, 'tablet': 5323, 'incomm': 2615, 'blake': 585, 'lotr': 3120, 'googl': 2202, 'browsin': 716, 'compulsori': 1075, 'puriti': 4291, 'musthu': 3512, 'investig': 2683, 'vomit': 5906, 'aint': 121, 'sha': 4757, 'vitamin': 5894, 'centr': 862, 'crucial': 1190, 'jsco': 2809, 'leadership': 2992, 'skill': 4890, 'psychic': 4272, 'host': 2484, 'base': 456, 'idp': 2570, 'linux': 3056, 'convert': 1116, 'along': 161, 'karaok': 2852, 'sayi': 4653, 'except': 1753, 'nit': 3639, 'leann': 2996, 'eight': 1612, 'format': 1983, 'disc': 1422, 'how': 2497, 'champ': 876, 'glasgow': 2158, 'lovin': 3137, 'arriv': 307, 'shortli': 4821, 'brows': 714, 'artist': 312, 'corect': 1127, 'spele': 5046, 'sarcasm': 4632, 'forum': 1986, 'ron': 4548, 'ct': 1202, 'employe': 1644, 'nike': 3632, 'sooo': 5005, 'dang': 1260, 'unfortun': 5749, 'airport': 123, 'auction': 364, 'jhl': 2778, 'difficult': 1393, 'earliest': 1570, 'nordstrom': 3669, 'konw': 2918, 'waht': 5926, 'rael': 4335, 'gving': 2292, 'yuo': 6277, 'exmpel': 1765, 'jsut': 2812, 'ese': 1700, 'tih': 5515, 'evrey': 1744, 'splle': 5069, 'wrnog': 6165, 'sitll': 4880, 'ra': 4330, 'wihtuot': 6059, 'ayn': 403, 'mitsak': 3385, 'confer': 1088, 'ow': 3869, 'degre': 1318, 'financ': 1892, 'prospect': 4259, 'bleak': 590, 'shant': 4772, 'jia': 2780, 'bishan': 575, 'nearer': 3568, 'sux': 5281, 'raiden': 4338, 'buff': 735, 'south': 5021, 'prefer': 4173, 'kegger': 2866, 'tote': 5606, 'pierr': 4031, 'cardin': 821, 'rhythm': 4512, 'establish': 1708, 'truro': 5660, 'ext': 1783, 'gang': 2087, 'adventur': 81, 'cloth': 998, 'sunroof': 5252, 'excel': 1752, 'wifi': 6058, 'blank': 587, 'rumour': 4581, 'kalainar': 2842, 'thenampet': 5450, 'nosi': 3676, 'idk': 2569, 'react': 4380, 'freak': 2004, 'satan': 4639, 'impost': 2605, 'destini': 1359, 'companion': 1060, 'chef': 912, 'organ': 3825, 'boyfriend': 657, 'sympathet': 5315, 'athlet': 347, 'courag': 1150, 'psychologist': 4273, 'pest': 3996, 'extermin': 1784, 'psychiatrist': 4271, 'healer': 2373, 'stylist': 5211, 'driver': 1522, 'aaniy': 2, 'pudunga': 4280, 'venaam': 5854, 'brotha': 709, 'chase': 892, 'chez': 921, 'jule': 2818, 'hhahhaahahah': 2411, 'nig': 3624, 'leonardo': 3016, 'strain': 5176, 'dime': 1400, 'withdraw': 6088, 'anyhow': 232, 'smeon': 4936, 'miller': 3346, 'fire': 1902, 'spark': 5034, 'flame': 1922, 'rawr': 4368, 'xoxo': 6196, 'somewhr': 4993, 'crush': 1195, 'honeymoon': 2465, 'outfit': 3849, 'propos': 4257, 'blame': 586, 'chequ': 914, 'olymp': 3777, 'leo': 3014, 'haul': 2352, 'wildlif': 6064, 'worzel': 6142, 'wizzl': 6096, 'dippeditinadew': 1410, 'lovingli': 3138, 'itwhichturnedinto': 2716, 'tomeandsaid': 5571, 'shanghai': 4770, 'instead': 2662, 'cya': 1242, 'freez': 2015, 'rt': 4566, 'pro': 4222, 'ringtonek': 4525, 'thnx': 5481, 'sef': 4707, 'anji': 210, 'batch': 463, 'fring': 2029, 'flaki': 1921, 'sooooo': 5007, 'tooo': 5587, 'nte': 3696, 'wate': 5961, 'british': 700, 'london': 3098, 'buzz': 767, 'ador': 73, 'eeri': 1602, 'titl': 5530, 'dracula': 1506, 'ghost': 2140, 'addamsfa': 61, 'munster': 3503, 'exorcist': 1767, 'twilight': 5689, 'brought': 711, 'shini': 4796, 'constant': 1104, 'french': 2018, 'allow': 158, 'respons': 4489, 'supplier': 5264, 'comedi': 1046, 'feelin': 1853, 'lnli': 3078, 'mobi': 3406, 'hlp': 2434, 'keen': 2864, 'switch': 5307, 'dammit': 1253, 'wright': 6158, 'somewhat': 4990, 'event': 1723, 'laden': 2937, 'wreck': 6156, 'spontan': 5075, 'goodeven': 2192, 'lei': 3008, 'action': 54, 'movietrivia': 3463, 'partnership': 3926, 'rgent': 4510, 'csbcm': 1197, 'callcost': 786, 'mobilesvari': 3409, 'lookin': 3107, 'daytim': 1280, 'busti': 758, 'janinexx': 2743, 'mostli': 3452, 'insid': 2656, 'spageddi': 5029, 'phase': 4005, 'fourth': 1991, 'dimens': 1401, 'meaning': 3286, 'compromis': 1074, 'mornin': 3444, 'monthli': 3437, 'mobsi': 3412, 'dub': 1540, 'je': 2757, 'toughest': 5609, 'unspoken': 5773, 'sight': 4849, 'remain': 4451, 'maintain': 3212, 'sh': 4756, 'squat': 5093, 'cramp': 1165, 'nan': 3541, 'sonathaya': 4996, 'soladha': 4975, 'rape': 4362, 'poker': 4093, 'weightloss': 5998, 'mushi': 3507, 'embarrass': 1636, 'stash': 5123, 'ran': 4354, 'priya': 4218, 'father': 1832, 'messi': 3327, 'kilo': 2890, 'accid': 34, 'tookplac': 5585, 'ghodbandar': 2139, 'traffic': 5621, 'slove': 4920, 'slip': 4914, 'nu': 3700, 'sc': 4655, 'specialis': 5040, 'wad': 5918, 'dislik': 1430, 'queen': 4317, 'despar': 1354, 'gotten': 2216, 'stereo': 5140, 'mi': 3333, 'unknown': 5762, 'album': 138, 'vu': 5915, 'classmat': 981, 'pre': 4171, 'trackmarqu': 5618, 'vipclub': 5885, 'missionari': 3378, 'hook': 2471, 'entertain': 1668, 'hugh': 2517, 'lauri': 2976, 'stick': 5148, 'inde': 2623, 'prap': 4163, 'jon': 2799, 'bin': 567, 'spain': 5030, 'dinero': 1404, 'pe': 3956, 'jame': 2737, 'maangalyam': 3180, 'alaipayuth': 136, 'complain': 1066, 'mandi': 3228, 'sullivan': 5239, 'hotmix': 2490, 'fm': 1949, 'chosen': 954, 'easter': 1579, 'telephon': 5387, 'finn': 1901, 'bahama': 422, 'callfreefon': 790, 'cruis': 1193, 'calm': 793, 'downon': 1501, 'theacus': 5442, 'itxt': 2717, 'iwana': 2722, 'wotu': 6144, 'thew': 5460, 'haventcn': 2359, 'neth': 3596, 'conact': 1080, 'social': 4968, 'inspect': 2657, 'nurseri': 3707, 'slowli': 4923, 'habit': 2299, 'panren': 3897, 'paru': 3927, 'chuckin': 961, 'trainner': 5623, 'carryin': 833, 'bac': 413, 'schedul': 4664, 'dhanush': 1371, 'stuck': 5198, 'habba': 2298, 'hw': 2539, 'dileep': 1399, 'muchand': 3488, 'venugop': 5855, 'mention': 3316, 'everytim': 1734, 'mandan': 3226, 'ibh': 2546, 'textbook': 5422, 'algorithm': 148, 'edit': 1594, 'bun': 744, 'invad': 2680, 'orig': 3828, 'arcad': 281, 'consol': 1103, 'cro': 1185, 'atlanta': 349, 'creat': 1175, 'arun': 314, 'transfr': 5629, 'takin': 5337, 'philosophi': 4011, 'intend': 2667, 'iwa': 2721, 'marin': 3245, 'itri': 2715, 'urmom': 5801, 'careabout': 823, 'foley': 1954, 'fake': 1808, 'iraq': 2695, 'afghanistan': 94, 'stabl': 5105, 'honest': 2460, 'pai': 3884, 'seh': 4708, 'beer': 506, 'combin': 1044, 'walsal': 5939, 'terri': 5409, 'jess': 2772, 'sian': 4843, 'ccna': 852, 'shrek': 4832, 'dirti': 1415, 'fellow': 1858, 'teresa': 5404, 'packag': 3881, 'dec': 1294, 'ld': 2986, 'bam': 433, 'usml': 5813, 'squishi': 5097, 'mwah': 3518, 'hottest': 2491, 'promin': 4244, 'cheek': 906, 'septemb': 4734, 'husband': 2533, 'hack': 2300, 'backdoor': 415, 'fraction': 1997, 'neo': 3590, 'dp': 1504, 'list': 3063, 'joanna': 2786, 'comingdown': 1050, 'replac': 4467, 'murali': 3504, 'engalnd': 1656, 'telli': 5390, 'mia': 3334, 'elliot': 1628, 'upto': 5788, 'tooth': 5589, 'wv': 6182, 'wipro': 6079, 'matric': 3268, 'toa': 5547, 'payoh': 3952, 'payment': 3951, 'fedex': 1849, 'recept': 4405, 'hate': 2350, 'consensu': 1098, 'tag': 5328, 'wednesday': 5989, 'laundri': 2975, 'underwear': 5743, 'bra': 661, 'strewn': 5184, 'pillow': 4036, 'wahe': 5923, 'fathima': 1833, 'mmmm': 3395, 'push': 4295, 'knee': 2906, 'expos': 1780, 'pull': 4281, 'wick': 6051, 'srt': 5101, 'thnk': 5478, 'ps': 4267, 'jontin': 2801, 'nearli': 3569, 'ban': 435, 'beyond': 547, 'biro': 571, 'master': 3259, 'shell': 4783, 'unhappi': 5751, 'excus': 1756, 'jog': 2791, 'abta': 24, 'season': 4690, 'lark': 2965, 'extrem': 1787, 'sic': 4845, 'wild': 6062, 'uh': 5715, 'lim': 3046, 'vday': 5846, 'parachut': 3907, 'tabl': 5322, 'lambda': 2944, 'snowman': 4963, 'angel': 207, 'snowbal': 4961, 'ello': 1629, 'ikea': 2579, 'ofic': 3749, 'cn': 1009, 'duffer': 1547, 'grr': 2264, 'prescript': 4185, 'pharmaci': 4004, 'cook': 1119, 'electr': 1625, 'rpl': 4561, 'cnl': 1011, 'fffff': 1867, 'kadeem': 2837, 'fujitsu': 2053, 'lifebook': 3033, 'scold': 4667, 'zhong': 6288, 'se': 4687, 'qing': 4309, 'hypertens': 2542, 'wud': 6177, 'annoyin': 218, 'prompt': 4248, 'vpod': 5911, 'carri': 832, 'avatar': 382, 'nigro': 3631, 'anyplac': 235, 'prioriti': 4213, 'constantli': 1105, 'ecstasi': 1589, 'minapn': 3351, 'hittng': 2430, 'reflex': 4427, 'costa': 1137, 'sol': 4974, 'toclaim': 5552, 'stockport': 5156, 'lousi': 3129, 'cat': 843, 'woken': 6113, 'hip': 2422, 'adewal': 65, 'aka': 132, 'egbon': 1608, 'ic': 2553, 'mari': 3244, 'deduct': 1305, 'wrk': 6161, 'asshol': 333, 'grab': 2224, 'payback': 3949, 'honeybe': 2464, 'sweetest': 5298, 'havnt': 2362, 'crack': 1162, 'tesco': 5414, 'featheri': 1844, 'bowa': 652, 'infra': 2638, 'nvm': 3713, 'gep': 2126, 'delhi': 1323, 'thinkin': 5469, 'fifa': 1876, 'held': 2390, 'boat': 615, 'shhhhh': 4788, 'relat': 4441, 'arul': 313, 'amk': 183, 'length': 3012, 'distract': 1435, 'antha': 227, 'corrct': 1130, 'dane': 1259, 'basket': 459, 'proof': 4251, 'rupaul': 4583, 'provid': 4263, 'practis': 4158, 'curtsey': 1227, 'yeh': 6231, 'havbeen': 2356, 'rise': 4528, 'havebeen': 2357, 'preschoolco': 4182, 'ordin': 3820, 'feelingood': 1854, 'memori': 3313, 'african': 97, 'soil': 4972, 'major': 3213, 'role': 4543, 'outreach': 3854, 'mel': 3305, 'birth': 572, 'lb': 2984, 'brilliantli': 694, 'intent': 2668, 'rule': 4577, 'bend': 529, 'thia': 5465, 'inlud': 2644, 'preview': 4200, 'freefon': 2010, 'ambrith': 179, 'madurai': 3197, 'dha': 1370, 'marrg': 3249, 'kitti': 2902, 'shave': 4776, 'onward': 3792, 'tact': 5326, 'skillgam': 4891, 'winaweek': 6068, 'ppermesssubscript': 4143, 'theatr': 5444, 'obvious': 3731, 'pert': 3991, 'cram': 1164, 'satsgettin': 4643, 'apolog': 250, 'pei': 3964, 'boost': 635, 'subtoitl': 5222, 'jot': 2804, 'cereal': 865, 'gari': 2092, 'infern': 2634, 'affair': 89, 'calicut': 782, 'cast': 840, 'aom': 243, 'er': 1684, 'thkin': 5475, 'parco': 3914, 'nb': 3561, 'resub': 4494, 'shadow': 4759, 'breadstick': 675, 'ahmad': 116, 'saeed': 4599, 'hallaq': 2314, 'qp': 4312, 'purpl': 4292, 'pink': 4039, 'lyk': 3175, 'yelow': 6234, 'bck': 480, 'brown': 712, 'giv': 2153, 'color': 1040, 'eldest': 1623, 'drugdeal': 1530, 'gender': 2114, 'wither': 6089, 'sleepwel': 4909, 'wondarful': 6118, 'txtx': 5703, 'onbu': 3781, 'donyt': 1484, 'latelyxxx': 2970, 'mca': 3280, 'rich': 4514, 'justthought': 2831, 'sayhey': 4652, 'endof': 1650, 'offdam': 3743, 'nevamind': 3601, 'uwant': 5824, 'flag': 1919, 'yer': 6238, 'eng': 1654, 'yor': 6254, 'jason': 2748, 'soooo': 5006, 'tming': 5540, 'cutest': 1237, 'dice': 1381, 'art': 310, 'inclus': 2614, 'howda': 2499, 'samachara': 4616, 'audri': 368, 'autocorrect': 376, 'simul': 4865, 'armand': 297, 'rub': 4571, 'feet': 1856, 'lara': 2961, 'clever': 988, 'med': 3294, 'bray': 671, 'wicklow': 6053, 'eir': 1615, 'washob': 5954, 'nob': 3648, 'nickey': 3622, 'platt': 4057, 'ryan': 4590, 'vikki': 5875, 'idew': 2567, 'argh': 290, 'spotti': 5083, 'provinc': 4264, 'sterl': 5142, 'xam': 6187, 'hall': 2312, 'manag': 3223, 'intha': 2676, 'ponnungal': 4105, 'ipaditan': 2691, 'reject': 4439, 'shitload': 4803, 'diamond': 1379, 'tessi': 5415, 'favor': 1838, 'nimya': 3635, 'shija': 4791, 'china': 937, 'noisi': 3654, 'needa': 3578, 'mcat': 3281, 'manual': 3235, 'reset': 4479, 'troubleshoot': 5653, 'marsm': 3253, 'utel': 5816, 'strongli': 5192, 'sacrific': 4596, 'creativ': 1176, 'stifl': 5150, 'morphin': 3447, 'requir': 4474, 'stayin': 5129, 'getha': 2131, 'buffi': 737, 'pix': 4045, 'qlynnbv': 4311, 'cld': 983, 'nosh': 3675, 'waaaat': 5917, 'lololo': 3096, 'kindli': 2893, 'document': 1456, 'stapati': 5115, 'mile': 3343, 'cuti': 1238, 'hill': 2418, 'colleagu': 1037, 'sed': 4700, 'mood': 3439, 'latr': 2973, 'kidz': 2887, 'sofa': 4969, 'honesti': 2461, 'labor': 2934, 'shakara': 4763, 'beggar': 511, 'smash': 4933, 'dent': 1336, 'crickit': 1183, 'imin': 2593, 'dontmatt': 1482, 'urgoin': 5797, 'outl': 3852, 'reallyne': 4391, 'docd': 1453, 'dontpleas': 1483, 'dontignor': 1481, 'mycal': 3521, 'thecd': 5445, 'isv': 2708, 'tome': 5570, 'yavnt': 6222, 'ibuprofen': 2552, 'grown': 2262, 'chinatown': 938, 'porridg': 4117, 'claypot': 982, 'yam': 6217, 'fishhead': 1909, 'beehoon': 504, 'tok': 5559, 'specif': 5041, 'jaklin': 2735, 'nearbi': 3567, 'ntwk': 3699, 'bundl': 746, 'avbl': 383, 'mf': 3330, 'ooh': 3794, 'moseley': 3451, 'thankyou': 5437, 'pend': 3967, 'aluabl': 171, 'ffection': 1866, 'oveabl': 3860, 'ternal': 5408, 'obl': 3728, 'ruth': 4585, 'ntimat': 3697, 'atur': 363, 'namou': 3540, 'textin': 5425, 'cousin': 1154, 'frndship': 2033, 'raji': 4344, 'leg': 3004, 'neck': 3574, 'amigo': 182, 'progress': 4240, 'continu': 1110, 'holi': 2453, 'arti': 311, 'collag': 1035, 'tryin': 5663, 'billion': 564, 'walik': 5931, 'carton': 834, 'shelv': 4784, 'distanc': 1434, 'mirror': 3367, 'your': 6261, 'ref': 4421, 'jod': 2790, 'keri': 2873, 'smidgin': 4937, 'beliv': 519, 'empti': 1645, 'slot': 4919, 'accordin': 39, 'knock': 2909, 'como': 1057, 'plaid': 4051, 'hilari': 2417, 'braindanc': 664, 'ofstuff': 3751, 'aphex': 247, 'abel': 9, 'nelson': 3589, 'temp': 5395, 'unmit': 5766, 'display': 1433, 'newspap': 3613, 'soup': 5019, 'yummmm': 6274, 'puzzel': 4300, 'goten': 2212, 'scammer': 4657, 'regular': 4438, 'prem': 4174, 'morro': 3448, 'dena': 1333, 'threat': 5491, 'shifad': 4790, 'complaint': 1067, 'loung': 3128, 'lk': 3073, 'lov': 3130, 'tolerat': 5566, 'bc': 478, 'comfort': 1048, 'splashmobil': 5065, 'subscrit': 5220, 'dust': 1558, 'watchin': 5959, 'meaningless': 3287, 'brdget': 673, 'jone': 2800, 'inev': 2631, 'hype': 2541, 'studio': 5203, 'bedrm': 501, 'unabl': 5729, 'velli': 5852, 'wkend': 6098, 'huge': 2516, 'upd': 5780, 'stoptx': 5168, 'anni': 213, 'mailbox': 3210, 'retriev': 4500, 'va': 5827, 'hrishi': 2507, 'nothin': 3680, 'hanger': 2324, 'poem': 4089, 'tear': 5376, 'duchess': 1542, 'cornwal': 1128, 'arrow': 308, 'tddnewslett': 5370, 'emc': 1638, 'thedailydraw': 5446, 'dozen': 1503, 'prizeswith': 4221, 'waqt': 5947, 'pehl': 3963, 'naseeb': 3547, 'zyada': 6295, 'kisi': 2899, 'ko': 2913, 'kuch': 2927, 'nahi': 3533, 'milta': 3348, 'zindgi': 6289, 'wo': 6109, 'hum': 2521, 'socht': 4967, 'jeetey': 2760, 'wors': 6138, 'dan': 1255, 'varaya': 5835, 'elaya': 1622, 'anand': 202, 'beach': 487, 'aww': 397, 'jez': 2777, 'iscom': 2702, 'todo': 5554, 'workand': 6132, 'whilltak': 6040, 'zogtoriu': 6291, 'stare': 5117, 'whether': 6039, 'financi': 1893, 'alian': 150, 'posibl': 4124, 'centuri': 863, 'frwd': 2046, 'unnecessarili': 5767, 'affection': 91, 'restrict': 4493, 'buddi': 732, 'possess': 4126, 'clarif': 975, 'spook': 5076, 'halloween': 2315, 'issu': 2707, 'footbal': 1965, 'sky': 4897, 'gamestar': 2084, 'coimbator': 1028, 'monoc': 3434, 'polyc': 4100, 'stream': 5179, 'categori': 845, 'measur': 3290, 'ethnic': 1711, 'censu': 860, 'transcrib': 5627, 'propsd': 4258, 'gv': 2291, 'lv': 3171, 'lttr': 3152, 'threw': 5493, 'thm': 5476, 'aproach': 273, 'dt': 1538, 'truck': 5656, 'wn': 6106, 'instantli': 2661, 'thi': 5464, 'happili': 2336, 'gthr': 2270, 'evrydi': 1746, 'paragon': 3909, 'arent': 285, 'bluff': 610, 'imposs': 2604, 'goodmat': 2195, 'sari': 4634, 'asusu': 345, 'franyxxxxx': 2002, 'batt': 468, 'pussi': 4297, 'becausethey': 494, 'responc': 4487, 'happend': 2331, 'wiskey': 6086, 'brandi': 668, 'rum': 4578, 'gin': 2148, 'vodka': 5901, 'scotch': 4671, 'shampain': 4768, 'kudi': 2928, 'yarasu': 6220, 'dhina': 1372, 'vaazhthukk': 5828, 'gain': 2078, 'kg': 2879, 'sugar': 5234, 'pressur': 4193, 'limit': 3047, 'dumb': 1549, 'thangam': 5433, 'okey': 3764, 'doke': 1470, 'dress': 1515, 'neshanth': 3592, 'byatch': 771, 'whassup': 6025, 'kay': 2859, 'roger': 4542, 'cl': 970, 'nasti': 3548, 'filthyguy': 1889, 'slo': 4917, 'chiong': 943, 'christ': 956, 'dialogu': 1378, 'reltnship': 4449, 'wipe': 6078, 'solv': 4978, 'polic': 4097, 'garden': 2091, 'veget': 5848, 'maid': 3208, 'neighbour': 3587, 'brilliant': 693, 'pose': 4122, 'comb': 1043, 'dryer': 1536, 'fp': 1995, 'scienc': 4666, 'madam': 3192, 'dlf': 1446, 'premarica': 4175, 'rgd': 4509, 'gotto': 2217, 'err': 1691, 'bloo': 600, 'hitter': 2429, 'offlin': 3748, 'anjola': 211, 'asjesu': 323, 'wrote': 6168, 'swiss': 5306, 'director': 1413, 'crore': 1186, 'taxless': 5363, 'budget': 733, 'lane': 2952, 'supli': 5261, 'citizen': 967, 'imf': 2591, 'block': 595, 'politician': 4098, 'corrupt': 1133, 'itna': 2714, 'karo': 2854, 'ki': 2881, 'pura': 4288, 'padh': 3882, 'torrent': 5598, 'particularli': 3924, 'commit': 1054, 'random': 4356, 'trivia': 5650, 'rightio': 4519, 'brum': 718, 'donno': 1478, 'scorabl': 4669, 'paranoid': 3911, 'brin': 695, 'properli': 4255, 'bettr': 543, 'bsnl': 722, 'offc': 3741, 'suganya': 5233, 'dessert': 1357, 'abeg': 8, 'sponsor': 5074, 'onum': 3791, 'poet': 4090, 'rr': 4563, 'famamu': 1814, 'sri': 5099, 'furnitur': 2067, 'lock': 3086, 'jenn': 2764, 'easiest': 1575, 'barcelona': 448, 'ru': 4570, 'sppok': 5085, 'complementari': 1068, 'pansi': 3898, 'jungl': 2825, 'kanji': 2849, 'sr': 5098, 'drizzl': 1524, 'shove': 4826, 'drama': 1507, 'struggl': 5195, 'strang': 5177, 'ego': 1610, 'necess': 3571, 'reppurcuss': 4470, 'releas': 4444, 'cosign': 1135, 'hvae': 2538, 'acl': 48, 'hcl': 2364, 'fresher': 2021, 'suman': 5241, 'indyarock': 2630, 'dai': 1251, 'resum': 4497, 'reliant': 4445, 'fwiw': 2072, 'afford': 93, 'whr': 6049, 'maga': 3199, 'sq': 5092, 'yunni': 6276, 'citylink': 968, 'prop': 4253, 'pleasant': 4064, 'bognor': 620, 'splendid': 5067, 'ktv': 2926, 'misplac': 3372, 'mmmmm': 3396, 'medicin': 3296, 'begun': 513, 'registr': 4436, 'perman': 3983, 'resid': 4480, 'plenti': 4067, 'rel': 4440, 'risk': 4529, 'benefit': 532, 'amount': 191, 'accumul': 42, 'belong': 524, 'fate': 1831, 'shoranur': 4814, 'incid': 2611, 'fuell': 2052, 'prior': 4212, 'grief': 2251, 'violenc': 5882, 'environ': 1679, 'terrif': 5411, 'honestli': 2462, 'promptli': 4249, 'burnt': 753, 'advic': 82, 'snap': 4951, 'quizclub': 4326, 'rwm': 4589, 'gmw': 2166, 'someplac': 4983, 'pressi': 4192, 'dr': 1505, 'superior': 5259, 'ultim': 5721, 'tor': 5596, 'motiv': 3455, 'tui': 5672, 'achiev': 45, 'korli': 2921, 'dock': 1454, 'roll': 4544, 'newscast': 3611, 'dabbl': 1247, 'flute': 1947, 'behind': 516, 'wheel': 6030, 'amaz': 177, 'picsfre': 4027, 'vid': 5867, 'keyword': 2877, 'ruin': 4576, 'erm': 1688, 'octob': 3737, 'elabor': 1619, 'safeti': 4601, 'aspect': 330, 'tarot': 5352, 'depart': 1339, 'conform': 1093, 'horniest': 2479, 'instruct': 2664, 'lp': 3145, 'ovarian': 3859, 'cyst': 1244, 'shrink': 4833, 'timin': 5522, 'ape': 245, 'death': 1292, 'ibm': 2549, 'toshiba': 5602, 'gosh': 2205, 'spose': 5081, 'rimac': 4522, 'arestaur': 286, 'squid': 5096, 'dosometh': 1491, 'dabook': 1248, 'eachoth': 1566, 'luckili': 3157, 'tkl': 5535, 'stoptxtstop': 5170, 'innoc': 2648, 'mental': 3315, 'smoothli': 4943, 'challeng': 875, 'marrow': 3252, 'hon': 2459, 'breakfast': 678, 'hamper': 2317, 'realiti': 4388, 'unni': 5768, 'lack': 2936, 'particular': 3923, 'dramastorm': 1508, 'forfeit': 1974, 'digi': 1396, 'fab': 1792, 'coupla': 1149, 'sundayish': 5248, 'prasad': 4164, 'tiwari': 5531, 'rcb': 4372, 'battl': 470, 'bang': 438, 'kochi': 2914, 'cancer': 805, 'checkup': 905, 'pap': 3902, 'smear': 4934, 'gobi': 2173, 'pandi': 3894, 'technolog': 5380, 'olowoyey': 3776, 'usc': 5807, 'edu': 1596, 'argentina': 289, 'secretari': 4696, 'taxt': 5364, 'tie': 5509, 'lool': 3108, 'shake': 4764, 'booti': 636, 'lil': 3044, 'scarcasim': 4658, 'naal': 3528, 'eruku': 1694, 'bro': 702, 'amongst': 189, 'sensibl': 4726, 'nalla': 3536, 'obedi': 3724, 'ft': 2047, 'needi': 3579, 'pout': 4139, 'stomp': 5159, 'northampton': 3673, 'abj': 14, 'serv': 4739, 'playng': 4061, 'mcfli': 3282, 'ab': 5, 'sara': 4630, 'jorg': 2803, 'smith': 4940, 'anna': 212, 'nagar': 3531, 'yupz': 6280, 'ericson': 1686, 'der': 1344, 'luk': 3160, 'modl': 3417, 'cheesi': 910, 'frosti': 2044, 'witin': 6092, 'sept': 4733, 'nnfwfli': 3646, 'nudist': 3702, 'theme': 5448, 'pump': 4282, 'petrol': 4000, 'feb': 1846, 'ignor': 2576, 'evr': 1743, 'signal': 4851, 'neither': 3588, 'unusu': 5777, 'hug': 2515, 'snog': 4957, 'west': 6017, 'palm': 3890, 'fastest': 1829, 'state': 5124, 'tariff': 5351, 'perpetu': 3985, 'dd': 1284, 'steam': 5135, 'reg': 4432, 'pract': 4155, 'flung': 1945, 'public': 4278, 'govt': 2219, 'instituit': 2663, 'justbeen': 2828, 'overa': 3861, 'mush': 3506, 'tund': 5677, 'mission': 3377, 'luxuri': 3170, 'canari': 803, 'aq': 276, 'sleepi': 4906, 'dare': 1263, 'ben': 528, 'mag': 3198, 'avo': 389, 'middl': 3337, 'chachi': 872, 'tiz': 5533, 'kanagu': 2847, 'brat': 669, 'diwali': 1441, 'tick': 5507, 'onion': 3786, 'derp': 1346, 'abus': 26, 'lipo': 3061, 'netflix': 3595, 'thgt': 5463, 'clash': 978, 'arr': 304, 'oscar': 3834, 'rebtel': 4398, 'firefox': 1903, 'lower': 3141, 'bcmsfwc': 482, 'footi': 1967, 'stadium': 5106, 'larg': 2963, 'coca': 1019, 'cola': 1031, 'dark': 1264, 'teenag': 5382, 'mittelschmertz': 3386, 'paracetamol': 3906, 'pee': 3961, 'cthen': 1205, 'enuff': 1676, 'conclus': 1084, 'instant': 2660, 'rugbi': 4575, 'affidavit': 92, 'twigg': 5688, 'divis': 1439, 'courtroom': 1153, 'creep': 1178, 'golden': 2182, 'crazyin': 1171, 'sleepingwith': 4908, 'finest': 1896, 'ymca': 6250, 'wtc': 6171, 'weiyi': 6003, 'properti': 4256, 'interflora': 2670, 'teeth': 5383, 'romcapspam': 4547, 'presenc': 4186, 'outgo': 3851, 'maggi': 3201, 'mee': 3297, 'cough': 1141, 'bbd': 475, 'pooja': 4107, 'pimpl': 4037, 'sweatter': 5296, 'ambiti': 178, 'miiiiiiissssssssss': 3340, 'tunji': 5679, 'iz': 2724, 'yellow': 6233, 'misscal': 3374, 'frndz': 2036, 'frog': 2039, 'tall': 5342, 'doubt': 1496, 'handl': 2320, 'note': 3677, 'aveng': 385, 'japanes': 2747, 'proverb': 4262, 'strike': 5186, 'toss': 5603, 'gudni': 2276, 'dancin': 1258, 'explicitli': 1778, 'nora': 3667, 'gayl': 2101, 'crucifi': 1191, 'but': 759, 'freedom': 2008, 'vs': 5913, 'cedar': 855, 'twenti': 5686, 'durham': 1556, 'seat': 4691, 'porn': 4116, 'stopbcm': 5164, 'sf': 4754, 'paint': 3887, 'printer': 4211, 'groovi': 2258, 'harish': 2343, 'acnt': 49, 'nowaday': 3690, 'showroom': 4830, 'shape': 4773, 'doinat': 1468, 'callon': 792, 'swatch': 5291, 'ganesh': 2086, 'pdate': 3955, 'yhl': 6245, 'configur': 1090, 'anal': 200, 'pear': 3960, 'helloooo': 2396, 'oooooh': 3796, 'resubmit': 4495, 'expiri': 1775, 'geva': 2137, 'mint': 3363, 'human': 2522, 'studyn': 5204, 'wuld': 6179, 'everyboy': 1728, 'xxxxxxxx': 6208, 'answr': 225, 'liquor': 3062, 'flake': 1920, 'loko': 3093, 'tm': 5539, 'ing': 2640, 'fireplac': 1904, 'icon': 2560, 'fifth': 1878, 'woozl': 6127, 'machin': 3187, 'sake': 4605, 'my': 3520, 'bruce': 717, 'down': 1499, 'fletcher': 1928, 'cozi': 1158, 'buzzzz': 768, 'chest': 918, 'trend': 5643, 'con': 1079, 'brief': 690, 'descript': 1348, 'nuclear': 3701, 'fusion': 2068, 'histori': 2425, 'iter': 2712, 'jet': 2774, 'nowher': 3691, 'ikno': 2580, 'doesdiscount': 1459, 'shitinnit': 4802, 'jabo': 2727, 'abi': 11, 'slower': 4922, 'maniac': 3233, 'sapna': 4628, 'maneg': 3230, 'hogidh': 2445, 'chinnu': 942, 'swalpa': 5285, 'agidhan': 108, 'footbl': 1966, 'crckt': 1172, 'swell': 5301, 'tim': 5519, 'bollox': 622, 'tol': 5562, 'ingredi': 2641, 'poci': 4084, 'bell': 520, 'non': 3658, 'qf': 4307, 'senor': 4723, 'giggl': 2144, 'nvq': 3714, 'profession': 4235, 'tiger': 5511, 'wood': 6122, 'reboot': 4397, 'grinder': 2253, 'pt': 4274, 'understood': 5742, 'bottom': 648, 'disconnect': 1424, 'onluy': 3788, 'offcampu': 3742, 'riley': 4521, 'ew': 1747, 'lingo': 3054, 'hm': 2435, 'chrgd': 955, 'exit': 1764, 'salon': 4613, 'sankranti': 4624, 'republ': 4472, 'shivratri': 4805, 'ugadi': 5712, 'independ': 2624, 'festiv': 1862, 'dasara': 1271, 'rememberi': 4454, 'raj': 4342, 'lifei': 3034, 'daywith': 1281, 'somewheresomeon': 4992, 'tosend': 5601, 'selfless': 4714, 'initi': 2642, 'tallent': 5344, 'portal': 4119, 'lennon': 3013, 'crab': 1161, 'shore': 4815, 'wave': 5968, 'footprint': 1968, 'fox': 1994, 'frndsship': 2035, 'dwn': 1562, 'slaaaaav': 4901, 'summon': 5244, 'appendix': 257, 'slob': 4918, 'topic': 5593, 'webpag': 5983, 'yeesh': 6230, 'hunk': 2527, 'gotbab': 2211, 'gopalettan': 2203, 'particip': 3922, 'admin': 68, 'abroad': 18, 'xxsp': 6200, 'visionsm': 5890, 'stopcost': 5166, 'goodi': 2194, 'mat': 3261, 'ay': 402, 'andro': 206, 'isaiah': 2701, 'foot': 1964, 'peni': 3969, 'expert': 1773, 'thinl': 5471, 'importantli': 2602, 'tightli': 5513, 'wnevr': 6107, 'fal': 1810, 'vth': 5914, 'yen': 6235, 'madodu': 3194, 'nav': 3559, 'pretsorginta': 4196, 'nammanna': 3539, 'pretsovru': 4197, 'alwa': 172, 'eveb': 1721, 'lord': 3114, 'soundtrack': 5018, 'stdtxtrate': 5132, 'sg': 4755, 'phyhcmk': 4021, 'emigr': 1640, 'olol': 3775, 'stagwood': 5109, 'winterston': 6077, 'victor': 5865, 'jp': 2807, 'mofo': 3419, 'pathaya': 3938, 'enketa': 1662, 'maraikara': 3238, 'priest': 4206, 'intrud': 2679, 'walkabout': 5933, 'prove': 4261, 'blow': 604, 'phil': 4009, 'nevil': 3603, 'abbey': 6, 'punj': 4285, 'classic': 980, 'thur': 5503, 'sack': 4595, 'lookatm': 3106, 'clip': 991, 'mmsto': 3399, 'twat': 5684, 'dungere': 1552, 'punch': 4283, 'vat': 5842, 'grl': 2255, 'hogolo': 2447, 'kodstini': 2915, 'agalla': 104, 'madstini': 3196, 'hogli': 2446, 'mutai': 3514, 'eerulli': 1603, 'kodthini': 2916, 'thasa': 5439, 'mess': 3324, 'shudvetold': 4838, 'urgran': 5798, 'neway': 3606, 'illspeak': 2585, 'tex': 5417, 'mecaus': 3293, 'werebor': 6014, 'okden': 3763, 'uin': 5717, 'likeyour': 3043, 'countinlot': 1146, 'xxxxx': 6205, 'count': 1144, 'hdd': 2365, 'describ': 1347, 'asu': 344, 'randomli': 4357, 'reformat': 4428, 'otsid': 3841, 'plumber': 4073, 'tape': 5350, 'wrench': 6157, 'appeal': 255, 'thriller': 5494, 'size': 4886, 'eleph': 1626, 'um': 5723, 'pooki': 4108, 'nri': 3694, 'deserv': 1350, 'tight': 5512, 'diddi': 1385, 'toothpast': 5590, 'av': 377, 'poke': 4092, 'everyday': 1729, 'curiou': 1224, 'coccoon': 1020, 'auto': 375, 'newquay': 3609, 'postcard': 4130, 'talkin': 5341, 'bread': 674, 'windi': 6071, 'mahal': 3205, 'tirunelvai': 5526, 'dusk': 1557, 'puzzl': 4301, 'stair': 5110, 'phew': 4008, 'recycl': 4416, 'toledo': 5564, 'ding': 1405, 'tai': 5330, 'feng': 1861, 'swimsuit': 5304, 'necessari': 3572, 'watev': 5964, 'squeeeeez': 5094, 'lik': 3041, 'frndshp': 2034, 'luvd': 3168, 'volcano': 5905, 'erupt': 1695, 'aris': 294, 'hurrican': 2531, 'sway': 5292, 'aroundn': 303, 'disast': 1420, 'lighter': 3039, 'lasagna': 2966, 'woould': 6126, 'deu': 1363, 'deliveredtomorrow': 1326, 'tap': 5349, 'spile': 5055, 'broad': 703, 'canal': 802, 'engin': 1657, 'edg': 1591, 'raviyog': 4367, 'peripher': 3982, 'bhayandar': 554, 'east': 1577, 'sunoco': 5251, 'howard': 2498, 'plate': 4056, 'leftov': 3003, 'starv': 5121, 'cheat': 899, 'fatti': 1834, 'badrith': 420, 'owe': 3870, 'checkin': 903, 'armenia': 298, 'swann': 5287, 'fromm': 2040, 'wyli': 6185, 'justifi': 2830, 'hava': 2355, 'rct': 4374, 'thnq': 5480, 'adrian': 76, 'vatian': 5843, 'babysit': 412, 'gonnamissu': 2190, 'butther': 761, 'abouta': 17, 'merememberin': 3321, 'asther': 338, 'ofsi': 3750, 'breakin': 679, 'yaxx': 6223, 'ee': 1600, 'poortiyagi': 4113, 'odalebeku': 3738, 'hanumanji': 2329, 'hanuman': 2328, 'bajarangabali': 425, 'maruti': 3254, 'pavanaputra': 3945, 'sankatmochan': 4623, 'ramaduth': 4352, 'mahav': 3206, 'janarig': 2741, 'ivatt': 2719, 'kalisidar': 2843, 'olag': 3769, 'ondu': 3783, 'keluviri': 2867, 'maretar': 3241, 'ind': 2622, 'dodda': 1457, 'problum': 4228, 'nalli': 3537, 'siguviri': 4854, 'idu': 2571, 'matra': 3267, 'neglet': 3585, 'easili': 1576, 'ijust': 2578, 'opp': 3803, 'gei': 2112, 'tron': 5651, 'dl': 1444, 'selfish': 4713, 'spif': 5054, 'workag': 6131, 'supos': 5262, 'embassi': 1637, 'lightli': 3040, 'checkbox': 902, 'sac': 4593, 'batsman': 467, 'yetti': 6242, 'jiayin': 2781, 'tg': 5429, 'forgotten': 1979, 'revers': 4504, 'mathemat': 3265, 'waxsto': 5970, 'yifeng': 6247, 'slurp': 4925, 'minimum': 3357, 'brainless': 666, 'doll': 1472, 'vehicl': 5850, 'sariyag': 4636, 'madok': 3195, 'barolla': 453, 'postpon': 4132, 'elain': 1620, 'tiim': 5516, 'afternon': 99, 'resiz': 4481, 'oppos': 3806, 'drunken': 1534, 'shortcod': 4819, 'somerset': 4984, 'overtim': 3866, 'nigpun': 3630, 'dismissi': 1432, 'screwd': 4680, 'bull': 742, 'float': 1937, 'heehe': 2387, 'arithmet': 295, 'percentag': 3974, 'chillaxin': 935, 'iknow': 2581, 'wellda': 6006, 'peril': 3980, 'studentfinanci': 5201, 'crisi': 1184, 'monster': 3435, 'ia': 2544, 'obey': 3726, 'uhhhhrmm': 5716, 'mb': 3278, 'deltomorrow': 1328, 'smartcal': 4931, 'subscriptn': 5219, 'landlineonli': 2950, 'callback': 785, 'orno': 3830, 'fink': 1900, 'carli': 826, 'minmobsmor': 3358, 'lkpobox': 3074, 'youphon': 6260, 'athom': 348, 'youwanna': 6265, 'jack': 2728, 'pretend': 4195, 'hypotheticalhuagauahahuagahyuhagga': 2543, 'braini': 665, 'occas': 3732, 'reflect': 4426, 'desir': 1352, 'tradit': 5620, 'cantdo': 811, 'anythingtomorrow': 239, 'mypar': 3524, 'aretak': 287, 'outfor': 3850, 'katexxx': 2856, 'level': 3022, 'gate': 2095, 'lingeri': 3053, 'bridal': 687, 'petticoatdream': 4001, 'weddingfriend': 5987, 'board': 614, 'overh': 3865, 'reslov': 4482, 'inst': 2658, 'western': 6018, 'outta': 3858, 'notixiqu': 3684, 'laxinorf': 2980, 'bambl': 434, 'entrop': 1674, 'oblising': 3729, 'masteriast': 3260, 'amplikat': 193, 'fidalf': 1872, 'champlaxig': 877, 'atroci': 353, 'wotz': 6145, 'junna': 2826, 'knicker': 2908, 'nikiyu': 3633, 'divert': 1438, 'wadebridg': 5919, 'vill': 5877, 'orc': 3817, 'bloomberg': 603, 'seek': 4703, 'priscilla': 4214, 'wisdom': 6081, 'wherr': 6038, 'resolut': 4483, 'frank': 1999, 'logoff': 3091, 'parkin': 3919, 'kent': 2869, 'vale': 5830, 'cann': 807, 'asa': 315, 'westlif': 6019, 'unbreak': 5731, 'untam': 5776, 'unkempt': 5761, 'princ': 4208, 'charm': 890, 'arnt': 301, 'xxxxxxxxxxxxxx': 6210, 'dorothi': 1489, 'kiefer': 2888, 'granit': 2233, 'explos': 1779, 'nasdaq': 3546, 'symbol': 5314, 'cdgt': 854, 'all': 153, 'mone': 3428, 'eppolum': 1681, 'allalo': 155, 'fundament': 2062, 'whoever': 6045, 'mega': 3301, 'pixel': 4046, 'optic': 3809, 'doom': 1485, 'noi': 3651, 'js': 2808, 'burgundi': 750, 'captain': 817, 'placement': 4050, 'amrita': 195, 'bpo': 660, 'nighter': 3628, 'persev': 3986, 'spous': 5084, 'pmt': 4079, 'sumthin': 5245, 'shldxxxx': 4807, 'scenario': 4661, 'spun': 5091, 'wrld': 6164, 'nytho': 3721, 'tx': 5694, 'fonin': 1961, 'mwen': 3519, 'frmcloud': 2031, 'ppmpobox': 4148, 'bhamb': 552, 'xe': 6191, 'devour': 1368, 'airtel': 124, 'broadband': 704, 'tens': 5402, 'sprint': 5089, 'prolli': 4242, 'gower': 2220, 'chik': 927, 'filth': 1887, 'saristar': 4635, 'yt': 6271, 'wire': 6080, 'mobcudb': 3405, 'sabarish': 4592, 'jaya': 2751, 'inperson': 2651, 'flea': 1927, 'banneduk': 443, 'highest': 2416, 'maximum': 3275, 'taj': 5332, 'lesser': 3018, 'known': 2911, 'mumtaz': 3501, 'shahjahan': 4762, 'hari': 2342, 'rtf': 4567, 'sphost': 5050, 'webadr': 5981, 'gete': 2130, 'incred': 2620, 'fwd': 2071, 'passport': 3932, 'multipli': 3496, 'twin': 5690, 'strt': 5193, 'ltdhelpdesk': 3151, 'equal': 1683, 'unev': 5747, 'peski': 3995, 'cyclist': 1243, 'adi': 66, 'entey': 1669, 'nattil': 3554, 'kittum': 2903, 'kavalan': 2858, 'hire': 2424, 'hitman': 2428, 'cp': 1159, 'outag': 3846, 'conserv': 1100, 'epi': 1680, 'bhaskar': 553, 'dubsack': 1541, 'gong': 2188, 'kaypoh': 2860, 'basketbal': 460, 'outdoor': 3848, 'macho': 3188, 'interfu': 2671, 'hustl': 2535, 'forth': 1984, 'audit': 366, 'harlem': 2344, 'workout': 6134, 'zac': 6281, 'hui': 2519, 'xin': 6193, 'lib': 3026, 'versu': 5858, 'underdtand': 5740, 'muchxxlov': 3489, 'locaxx': 3085, 'skateboard': 4888, 'despit': 1356, 'thrown': 5498, 'bandag': 437, 'html': 2509, 'mfl': 3331, 'hectic': 2385, 'fell': 1857, 'swoop': 5309, 'wamma': 5940, 'doggin': 1465, 'langport': 2953, 'virtual': 5888, 'senthil': 4730, 'apnt': 248, 'pant': 3899, 'lanka': 2955, 'mere': 3320, 'relationship': 4442, 'wherevr': 6037, 'forevr': 1973, 'gudnyt': 2278, 'plum': 4071, 'smack': 4927, 'alot': 162, 'promot': 4247, 'vega': 5847, 'lou': 3126, 'lancast': 2947, 'soc': 4966, 'bsn': 721, 'lobbi': 3082, 'ything': 6272, 'vewi': 5860, 'lubli': 3153, 'specifi': 5042, 'domain': 1475, 'nusstu': 3709, 'bari': 450, 'hudgi': 2514, 'yorg': 6255, 'pataistha': 3935, 'ertini': 1693, 'hasbro': 2346, 'jump': 2822, 'hoop': 2472, 'ummifi': 5725, 'associ': 335, 'rip': 4527, 'uteru': 5817, 'pool': 4109, 'jacuzzi': 2732, 'txtstar': 5700, 'uve': 5822, 'wildest': 6063, 'aldrin': 140, 'rtm': 4568, 'neces': 3570, 'witout': 6094, 'wth': 6173, 'esp': 1702, 'wrd': 6155, 'wthout': 6174, 'takecar': 5335, 'univ': 5758, 'raja': 4343, 'burrito': 754, 'terrorist': 5413, 'confirmd': 1092, 'cnn': 1012, 'ibn': 2550, 'stitch': 5154, 'trouser': 5654, 'cheeto': 911, 'sync': 5317, 'shangela': 4769, 'hppnss': 2505, 'goodfriend': 2193, 'poo': 4106, 'gloucesterroad': 2164, 'uup': 5820, 'ouch': 3843, 'fruit': 2045, 'stone': 5160, 'glo': 2160, 'wlcome': 6103, 'eaten': 1581, 'timi': 5521, 'mila': 3342, 'blond': 599, 'mtalk': 3480, 'pp': 4142, 'increment': 2621, 'fishrman': 1910, 'strtd': 5194, 'throwin': 5497, 'atlast': 350, 'mobstorequiz': 3413, 'physic': 4022, 'praveesh': 4167, 'delici': 1324, 'salad': 4606, 'desert': 1349, 'whore': 6047, 'funk': 2064, 'twink': 5691, 'scalli': 4656, 'skin': 4892, 'jock': 2789, 'nat': 3549, 'flood': 1938, 'bead': 488, 'wishlist': 6085, 'section': 4698, 'sold': 4976, 'reffer': 4424, 'geti': 2132, 'weirdi': 6001, 'funer': 2063, 'vivek': 5896, 'brah': 662, 'greec': 2248, 'protect': 4260, 'sib': 4844, 'sensit': 4727, 'someday': 4980, 'grandfath': 2231, 'blu': 606, 'concert': 1083, 'novemb': 3689, 'yuou': 6278, 'spot': 5082, 'bunch': 745, 'lotto': 3124, 'authoris': 374, 'gimmi': 2147, 'goss': 2206, 'ystrday': 6270, 'chile': 933, 'sublet': 5214, 'amma': 185, 'steer': 5138, 'rounder': 4555, 'lambu': 2945, 'ji': 2779, 'batchlor': 464, 'zoom': 6292, 'cncl': 1010, 'stopc': 5165, 'chees': 909, 'widel': 6055, 'index': 2625, 'wml': 6105, 'ecef': 1585, 'ff': 1865, 'jul': 2817, 'xafter': 6186, 'cst': 1200, 'pure': 4290, 'smiley': 4939, 'gail': 2076, 'yaxxx': 6224, 'theoret': 5451, 'multimedia': 3495, 'hsbc': 2508, 'agenc': 106, 'nicki': 3623, 'gumbi': 2286, 'alto': 170, 'asp': 329, 'tarpon': 5353, 'cab': 773, 'step': 5139, 'hf': 2409, 'radiat': 4333, 'proper': 4254, 'tongu': 5580, 'qi': 4308, 'suddenli': 5227, 'flurri': 1946, 'melt': 3309, 'eek': 1601, 'born': 641, 'pushbutton': 4296, 'dontcha': 1480, 'babygoodby': 410, 'golddigg': 2181, 'webeburnin': 5982, 'nigh': 3626, 'nooooooo': 3664, 'cabl': 775, 'so': 4965, 'playin': 4060, 'guoyang': 2287, 'rahul': 4337, 'dengra': 1334, 'antelop': 226, 'toplay': 5594, 'fieldof': 1874, 'selfindepend': 4712, 'gnarl': 2168, 'barkley': 451, 'borderlin': 638, 'nightnight': 3629, 'groov': 2257, 'mise': 3369, 'secur': 4699, 'unsecur': 5771, 'lanr': 2956, 'fakey': 1809, 'eckankar': 1587, 'heater': 2381, 'dodgey': 1458, 'asssssholeee': 336, 'ceri': 866, 'rebel': 4396, 'dreamz': 1514, 'nationwid': 3553, 'newport': 3608, 'juliana': 2820, 'nacho': 3529, 'eta': 1709, 'dizzamn': 1442, 'suitem': 5238, 'nimbomson': 3634, 'contin': 1109, 'housew': 2495, 'fiend': 1875, 'imped': 2599, 'thousad': 5487, 'nose': 3674, 'essay': 1705, 'tram': 5624, 'vic': 5864, 'coher': 1027, 'tripl': 5647, 'echo': 1586, 'gran': 2229, 'onlyfound': 3789, 'afew': 88, 'cusoon': 1228, 'honi': 2466, 'dial': 1376, 'univers': 5759, 'southern': 5022, 'california': 783, 'rayan': 4370, 'macleran': 3190, 'ball': 430, 'olav': 3770, 'mandara': 3227, 'trishul': 5648, 'woo': 6121, 'hoo': 2468, 'panti': 3901, 'thout': 5489, 'flatter': 1925, 'pint': 4040, 'carlin': 827, 'liter': 3067, 'ciao': 963, 'wknd': 6102, 'yalrigu': 6215, 'heltini': 2399, 'iyo': 2723, 'kothi': 2924, 'noic': 3652, 'esaplanad': 1697, 'prof': 4234, 'sem': 4716, 'enna': 1663, 'kalaachutaarama': 2841, 'coco': 1024, 'sporad': 5078, 'persolvo': 3988, 'kath': 2857, 'manchest': 3224, 'burden': 748, 'noworriesloan': 3692, 'harder': 2339, 'nbme': 3562, 'villa': 5878, 'sathya': 4641, 'gam': 2081, 'religi': 4447, 'tip': 5524, 'muhommad': 3492, 'penni': 3970, 'fite': 1912, 'mj': 3389, 'unconvinc': 5737, 'willpow': 6066, 'absenc': 19, 'answerin': 224, 'evey': 1736, 'mnth': 3401, 'prin': 4207, 'gsoh': 2268, 'spam': 5031, 'gigolo': 2145, 'oncal': 3782, 'mjzgroup': 3390, 'ashwini': 320, 'ukp': 5720, 'thet': 5459, 'skinni': 4893, 'elect': 1624, 'hlday': 2433, 'camp': 798, 'amrca': 194, 'serena': 4735, 'prescrib': 4183, 'kappa': 2851, 'meatbal': 3292, 'approv': 268, 'panalam': 3892, 'spjanuari': 5061, 'fortun': 1985, 'allday': 156, 'perf': 3975, 'familiar': 1816, 'infact': 2632, 'simpson': 4864, 'band': 436, 'shite': 4800, 'kip': 2898, 'hont': 2467, 'amanda': 176, 'subject': 5213, 'perspect': 3990, 'debat': 1293, 'wtlp': 6175, 'jb': 2755, 'florida': 1941, 'hidden': 2413, 'royal': 4559, 'tog': 5555, 'swhrt': 5302, 'ez': 1790, 'jetton': 2775, 'cmon': 1008, 'sticki': 5149, 'lunsford': 3164, 'prizeawait': 4220, 'kfc': 2878, 'gravi': 2240, 'mw': 3517, 'tuth': 5682, 'evict': 1737, 'spiral': 5058, 'michael': 3335, 'riddanc': 4515, 'raglan': 4336, 'edward': 1599, 'closebi': 995, 'skye': 4898, 'bookedth': 631, 'hut': 2536, 'drastic': 1510, 'indic': 2628, 'garment': 2093, 'sez': 4753, 'arab': 279, 'evri': 1745, 'eshxxxxxxxxxxx': 1701, 'bimbo': 566, 'ugo': 5714, 'porteg': 4120, 'semiobscur': 4719, 'gpr': 2221, 'repeat': 4465, 'loosu': 3112, 'careless': 825, 'myspac': 3525, 'method': 3329, 'blur': 611, 'jewelri': 2776, 'breaker': 677, 'delux': 1329, 'featur': 1845, 'graphic': 2235, 'bbdelux': 476, 'lush': 3165, 'fumbl': 2058, 'taunton': 5360, 'weekday': 5993, 'haiz': 2310, 'nail': 3534, 'common': 1055, 'asia': 321, 'greatest': 2246, 'defeat': 1312, 'stil': 5151, 'tobe': 5550, 'natalja': 3551, 'asthma': 339, 'attack': 355, 'spin': 5056, 'haiyoh': 2309, 'prsn': 4266, 'sunlight': 5249, 'loss': 3117, 'audiit': 365, 'reloc': 4448, 'pock': 4085, 'brison': 698, 'cap': 813, 'bullshit': 743, 'motherfuck': 3454, 'kit': 2901, 'ig': 2575, 'oja': 3759, 'thesmszon': 5458, 'anonym': 219, 'mask': 3256, 'woodland': 6123, 'avenu': 387, 'parish': 3917, 'magazin': 3200, 'billi': 563, 'awww': 398, 'useless': 5809, 'loo': 3104, 'ed': 1590, 'shelf': 4782, 'swollen': 5308, 'gland': 2157, 'previou': 4201, 'bcaz': 479, 'stu': 5196, 'trubl': 5655, 'evon': 1742, 'mokka': 3422, 'view': 5872, 'dual': 1539, 'hostil': 2486, 'haircut': 2307, 'breezi': 683, 'polyh': 4101, 'tulsi': 5676, 'leaf': 2993, 'lemon': 3011, 'bone': 625, 'problm': 4227, 'litr': 3068, 'watr': 5966, 'diseas': 1428, 'snd': 4954, 'lavend': 2978, 'manki': 3234, 'scous': 4674, 'steve': 5144, 'inmind': 2645, 'recreat': 4415, 'epsilon': 1682, 'mesag': 3323, 'judgement': 2815, 'waheeda': 5924, 'bot': 645, 'eventu': 1724, 'toler': 5565, 'hellogorg': 2395, 'lst': 3148, 'nitw': 3642, 'texd': 5419, 'hopeu': 2476, 'ward': 5948, 'jaz': 2753, 'exorc': 1766, 'emili': 1641, 'emot': 1642, 'dsn': 1537, 'prayr': 4170, 'othrwis': 3840, 'ujhhhhhhh': 5718, 'sandiago': 4620, 'parantella': 3912, 'sweater': 5295, 'mango': 3231, 'massiv': 3258, 'landmark': 2951, 'bob': 617, 'barri': 455, 'absolutli': 21, 'consent': 1099, 'tonex': 5578, 'clubz': 1004, 'polo': 4099, 'mathew': 3266, 'tait': 5331, 'anderson': 203, 'haunt': 2353, 'crowd': 1188, 'snowboard': 4962, 'christmassi': 959, 'recpt': 4414, 'baaaaaaaab': 406, 'shola': 4810, 'academ': 28, 'sagamu': 4602, 'lautech': 2977, 'vital': 5893, 'zealand': 6283, 'qet': 4306, 'browser': 715, 'convers': 1115, 'overemphasis': 3864, 'headset': 2370, 'adp': 74, 'intern': 2672, 'extract': 1786, 'skint': 4894, 'bevi': 545, 'waz': 5972, 'othr': 3839, 'watchng': 5960, 'comfey': 1047, 'wudn': 6178, 'coast': 1016, 'frequent': 2019, 'cupboard': 1221, 'rout': 4556, 'mro': 3470, 'floppi': 1940, 'snappi': 4952, 'grasp': 2236, 'flavour': 1926, 'lareadi': 2962, 'deni': 1335, 'dom': 1474, 'ffffuuuuuuu': 1869, 'julianaland': 2821, 'oblivi': 3730, 'mapquest': 3237, 'dogwood': 1466, 'tini': 5523, 'archiv': 282, 'mg': 3332, 'behalf': 514, 'stun': 5207, 'visa': 5889, 'gucci': 2274, 'sozi': 5025, 'culdnt': 1216, 'talkbut': 5340, 'wannatel': 5944, 'wenwecan': 6012, 'smsing': 4945, 'effici': 1605, 'explicit': 1777, 'erutupalam': 1696, 'thandiyachu': 5432, 'invent': 2681, 'lyric': 3176, 'nevr': 3604, 'unrecogn': 5769, 'somon': 4994, 'definitli': 1316, 'undrstnd': 5744, 'ger': 2127, 'toke': 5560, 'syd': 5312, 'khelat': 2880, 'kintu': 2896, 'opponent': 3804, 'dhort': 1374, 'lage': 2940, 'looovvv': 3110, 'warwick': 5953, 'tmw': 5545, 'havn': 2361, 'parad': 3908, 'proze': 4265, 'norcorp': 3668, 'cfca': 869, 'grumbl': 2265, 'linear': 3051, 'algebra': 147, 'decor': 1303, 'roomat': 4550, 'graduat': 2226, 'adjust': 67, 'cooper': 1123, 'nottingham': 3685, 'mph': 3465, 'clearli': 987, 'thanku': 5436, 'string': 5187, 'ea': 1565, 'otbox': 3836, 'besid': 535, 'brisk': 697, 'sexiest': 4749, 'dirtiest': 1416, 'tellmiss': 5391, 'contribut': 1112, 'greatli': 2247, 'urgh': 5795, 'coach': 1015, 'duvet': 1559, 'utxt': 5819, 'beverag': 544, 'pist': 4043, 'surrend': 5276, 'symptom': 5316, 'rdi': 4378, 'backward': 416, 'abstract': 22, 'africa': 96, 'avin': 388, 'chit': 945, 'logon': 3092, 'zf': 6287, 'quiteamuz': 4324, 'scool': 4668, 'probpop': 4229, 'cu': 1211, 'satthen': 4644, 'brekki': 684, 'psxtra': 4270, 'lrg': 3146, 'portion': 4121, 'ppmmobilesvari': 4147, 'fixd': 1915, 'njan': 3644, 'vilikkam': 5876, 'sudn': 5228, 'chapter': 884, 'chop': 951, 'noooooooo': 3665, 'firsg': 1906, 'split': 5068, 'wasnt': 5955, 'heat': 2380, 'sumf': 5242, 'txtstop': 5701, 'hopeso': 2475, 'amnow': 187, 'ithink': 2713, 'tonsolitusaswel': 5583, 'layin': 2982, 'bedreal': 500, 'lotsof': 3122, 'hiphop': 2423, 'oxygen': 3874, 'resort': 4485, 'roller': 4545, 'cannam': 808, 'capit': 815, 'australia': 373, 'mquiz': 3466, 'showr': 4829, 'upon': 5785, 'ceil': 856, 'presnt': 4190, 'bcz': 485, 'jeevithathil': 2761, 'irulina': 2700, 'neekunna': 3581, 'prakasamanu': 4161, 'sneham': 4955, 'prakasam': 4160, 'ennal': 1664, 'mn': 3400, 'firmwar': 1905, 'vijaykanth': 5874, 'anythi': 237, 'clubmobi': 1002, 'keypad': 2876, 'btwn': 727, 'decad': 1295, 'gover': 2218, 'loyal': 3143, 'spice': 5052, 'prasanth': 4165, 'ettan': 1713, 'appi': 258, 'fizz': 1917, 'contain': 1107, 'genu': 2122, 'robinson': 4537, 'out': 3845, 'soz': 5024, 'imat': 2590, 'freind': 2016, 'sometext': 4985, 'chloe': 947, 'wewa': 6024, 'iriv': 2697, 'bw': 769, 'surli': 5273, 'dokey': 1471, 'mmmmmmm': 3398, 'snuggl': 4964, 'whisper': 6041, 'healthi': 2374, 'scrape': 4675, 'barrel': 454, 'misfit': 3371, 'sleepin': 4907, 'clearer': 986, 'peach': 3958, 'rayman': 4371, 'golf': 2184, 'termsappli': 5407, 'minor': 3362, 'shindig': 4794, 'phonebook': 4015, 'ash': 318, 'shijutta': 4792, 'offens': 3744, 'dvg': 1561, 'vinobanagar': 5880, 'woah': 6110, 'orh': 3827, 'axel': 400, 'akon': 133, 'cashbin': 838, 'canteen': 812, 'stressful': 5182, 'presid': 4188, 'assist': 334, 'when': 6032, 'built': 740, 'lonlin': 3103, 'lotz': 3125, 'gailxx': 2077, 'complac': 1065, 'mina': 3350, 'miwa': 3387, 'woulda': 6148, 'opposit': 3807, 'heavili': 2384, 'patrick': 3940, 'swayz': 5293, 'santa': 4625, 'santacal': 4626, 'miser': 3370, 'quarter': 4315, 'limp': 3048, 'aa': 0, 'oga': 3753, 'poorli': 4112, 'brb': 672, 'smaller': 4929, 'capac': 814, 'shsex': 4835, 'netun': 3597, 'fgkslpopw': 1871, 'fgkslpo': 1870, 'defer': 1313, 'admiss': 71, 'checkmat': 904, 'chess': 917, 'persian': 3987, 'phrase': 4020, 'shah': 4761, 'maat': 3181, 'rat': 4363, 'photoshop': 4018, 'shoppin': 4813, 'increas': 2619, 'north': 3672, 'carolina': 830, 'texa': 5418, 'gre': 2244, 'bomb': 624, 'weapon': 5976, 'lovli': 3139, 'customercar': 1232, 'cla': 971, 'lit': 3066, 'loooooool': 3109, 'couch': 1139, 'swashbuckl': 5289, 'terror': 5412, 'cruel': 1192, 'decent': 1297, 'joker': 2795, 'dip': 1409, 'gek': 2113, 'nuther': 3710, 'lyricalladi': 3177, 'hmmross': 2440, 'happiest': 2335, 'antibiot': 230, 'abdomen': 7, 'gyna': 2295, 'infect': 2633, 'chastiti': 893, 'devic': 1365, 'beat': 490, 'gut': 2289, 'tallahasse': 5343, 'ou': 3842, 'taka': 5333, 'nr': 3693, 'zs': 6294, 'ritten': 4531, 'fold': 1953, 'warner': 5951, 'colin': 1034, 'farrel': 1824, 'swat': 5290, 'kiosk': 2897, 'mre': 3468, 'solihul': 4977, 'nh': 3615, 'termin': 5406, 'inconveni': 2617, 'henri': 2402, 'yard': 6221, 'bergkamp': 534, 'margin': 3243, 'snot': 4959, 'unintent': 5755, 'nonetheless': 3661, 'hooch': 2469, 'toaday': 5548, 'splat': 5066, 'graze': 2243, 'hearin': 2378, 'yah': 6213, 'tortur': 5600, 'sexychat': 4752, 'court': 1152, 'chapel': 883, 'frontiervil': 2043, 'mountain': 3458, 'deer': 1309, 'varma': 5839, 'fart': 1825, 'ortxt': 3831, 'advisor': 84, 'diall': 1377, 'woot': 6125, 'ahhhh': 115, 'experiencehttp': 1772, 'vouch': 5909, 'etlp': 1712, 'kaila': 2839, 'donat': 1476, 'unicef': 5753, 'asian': 322, 'fund': 2061, 'cme': 1007, 'collaps': 1036, 'jade': 2734, 'paul': 3943, 'barm': 452, 'thinkthi': 5470, 'goldvik': 2183, 'coulda': 1143, 'phoni': 4016, 'okday': 3762, 'buz': 765, 'wedlunch': 5988, 'outsomewher': 3856, 'adrink': 77, 'watershd': 5963, 'fromwrk': 2041, 'bthere': 725, 'petexxx': 3998, 'hmph': 2441, 'baller': 431, 'punto': 4286, 'ayo': 404, 'freeentri': 2009, 'xt': 6197, 'toyota': 5614, 'camri': 800, 'olayiwola': 3771, 'mileag': 3344, 'clover': 1000, 'achan': 44, 'rencontr': 4459, 'te': 5371, 'puppi': 4287, 'nois': 3653, 'sarasota': 4631, 'meg': 3300, 'deepest': 1308, 'darkest': 1266, 'adsens': 78, 'dudett': 1545, 'perumbavoor': 3992, 'stage': 5108, 'cherish': 915, 'clarifi': 976, 'prepon': 4181, 'natali': 3550, 'younger': 6259, 'wallpap': 5937, 'liver': 3071, 'loneli': 3100, 'skyve': 4900, 'onword': 3793, 'mtnl': 3484, 'mumbai': 3498, 'accommodationvouch': 37, 'mustprovid': 3513, 'rajitha': 4346, 'ranju': 4361, 'perweeksub': 3993, 'slp': 4924, 'muah': 3486, 'disagre': 1417, 'afterward': 101, 'vivekanand': 5897, 'uawak': 5708, 'feellikw': 1855, 'justfound': 2829, 'alett': 143, 'thatmum': 5441, 'gotmarri': 2213, 'thnov': 5479, 'ourback': 3844, 'fuckinnic': 2050, 'deviousbitch': 1367, 'rearrang': 4393, 'dormitori': 1488, 'astronom': 343, 'starer': 5118, 'recount': 4412, 'hitler': 2427, 'eleven': 1627, 'worm': 6136, 'dysentri': 1564, 'andr': 204, 'virgil': 5886, 'gokila': 2179, 'shanil': 4771, 'exchang': 1754, 'uncut': 5739, 'dino': 1407, 'kote': 2923, 'panther': 3900, 'sugabab': 5232, 'zebra': 6284, 'badass': 418, 'hoodi': 2470, 'resent': 4477, 'queri': 4318, 'customersqueri': 1233, 'netvis': 3598, 'hassl': 2348, 'haughaighgtujhyguj': 2351, 'fassyol': 1826, 'blacko': 583, 'londn': 3097, 'eva': 1717, 'vco': 5845, 'reassur': 4395, 'aslamalaikkum': 327, 'tohar': 5557, 'beeen': 503, 'muht': 3493, 'albi': 137, 'mufti': 3491, 'mahfuuz': 3207, 'enufcredeit': 1675, 'tocal': 5551, 'ileav': 2583, 'okor': 3767, 'ibor': 2551, 'zero': 6286, 'goigng': 2177, 'perfum': 3978, 'sday': 4685, 'grocer': 2256, 'franki': 2000, 'benni': 533, 'diaper': 1380, 'unlik': 5764, 'patient': 3939, 'turkey': 5680, 'bulb': 741, 'seed': 4702, 'scotsman': 4673, 'notxt': 3686, 'wenev': 6010, 'stabil': 5104, 'tranquil': 5625, 'vibrant': 5862, 'bawl': 471, 'failur': 1804, 'velusami': 5853, 'facil': 1796, 'karnan': 2853, 'bluray': 612, 'salt': 4614, 'wound': 6149, 'geoenvironment': 2124, 'implic': 2600, 'fuuuuck': 2070, 'salmon': 4612, 'wrkin': 6162, 'ree': 4420, 'compens': 1063, 'awkward': 396, 'splash': 5064, 'musta': 3511, 'overdid': 3862, 'telediscount': 5386, 'gastroenter': 2094, 'reduc': 4419, 'chuck': 960, 'port': 4118, 'juswok': 2832, 'boatin': 616, 'spinout': 5057, 'uworld': 5825, 'qbank': 4305, 'assess': 332, 'someonon': 4982, 'tke': 5534, 'temal': 5394, 'finishd': 1899, 'dull': 1548, 'treadmil': 5636, 'craigslist': 1163, 'absolut': 20, 'swan': 5286, 'sall': 4611, 'hehe': 2388, 'shexi': 4787, 'lamp': 2946, 'foward': 1992, 'misundrstud': 3383, 'gene': 2115, 'reappli': 4392, 'treatin': 5639, 'treacl': 5635, 'mumha': 3499, 'beendrop': 505, 'theplac': 5453, 'adress': 75, 'favorit': 1839, 'oyster': 3876, 'sashimi': 4637, 'rumbl': 4579, 'marandratha': 3239, 'correctli': 1132, 'alaikkum': 135, 'pride': 4205, 'heaven': 2382, 'pisc': 4041, 'aquariu': 277, 'steyn': 5146, 'wicket': 6052, 'sterm': 5143, 'resolv': 4484, 'jam': 2736, 'hannaford': 2327, 'wheat': 6029, 'chex': 919, 'grownup': 2263, 'jerk': 2769, 'stink': 5153, 'subsequ': 5221, 'upcharg': 5779, 'guai': 2272, 'bottl': 647, 'amus': 197, 'astrolog': 342, 'slack': 4902, 'mentor': 3317, 'erot': 1690, 'ecstaci': 1588, 'dept': 1343, 'coincid': 1030, 'sane': 4621, 'paus': 3944, 'psp': 4269, 'spacebuck': 5028, 'squeez': 5095, 'dread': 1512, 'thou': 5484, 'forgt': 1980, 'ajith': 130, 'ooooooh': 3797, 'yovil': 6266, 'asda': 317, 'bff': 549, 'seper': 4732, 'ud': 5711, 'brolli': 707, 'franxx': 2001, 'prometazin': 4243, 'syrup': 5319, 'feed': 1851, 'shu': 4836, 'singapor': 4870, 'victoria': 5866, 'pocay': 4083, 'wocay': 6111, 'morrowxxxx': 3450, 'broth': 708, 'ramen': 4353, 'fowler': 1993, 'flew': 1929, 'attent': 359, 'tix': 5532, 'fne': 1951, 'youdo': 6256, 'worc': 6128, 'foreg': 1970, 'shrub': 4834, 'legitimat': 3006, 'efreefon': 1606, 'pendent': 3968, 'toilet': 5558, 'stolen': 5157, 'cop': 1124, 'hu': 2511, 'navig': 3560, 'guidanc': 2282, 'chick': 924, 'boob': 629, 'sparkl': 5035, 'shortbreak': 4818, 'org': 3824, 'gyno': 2296, 'gamb': 2082, 'treasur': 5637, 'neg': 3583, 'hmmmm': 2439, 'command': 1051, 'holbi': 2449, 'li': 3024, 'yeovil': 6236, 'motor': 3456, 'rhode': 4511, 'bong': 626, 'ofcours': 3740, 'planettalkinst': 4055, 'marvel': 3255, 'spider': 5053, 'tamilnadu': 5345, 'identif': 2565, 'boundari': 650, 'endless': 1649, 'young': 6258, 'referin': 4423, 'saibaba': 4603, 'colani': 1032, 'chic': 923, 'declar': 1302, 'disappoint': 1419, 'tantrum': 5348, 'compliment': 1071, 'chief': 926, 'gsex': 2267, 'chatlin': 895, 'inclu': 2612, 'bailiff': 424, 'mous': 3459, 'desk': 1353, 'childporn': 931, 'jumper': 2823, 'hat': 2349, 'belt': 527, 'cribb': 1181, 'spiritu': 5060, 'sudden': 5226, 'influx': 2635, 'kane': 2848, 'shud': 4837, 'pshew': 4268, 'accent': 30, 'dental': 1337, 'nmde': 3645, 'dump': 1550, 'heap': 2375, 'salesman': 4610, 'piti': 4044}\n"
          ]
        }
      ]
    },
    {
      "cell_type": "code",
      "source": [
        "x=tf.transform(corpus).toarray()\n",
        "y=df['Category']"
      ],
      "metadata": {
        "id": "XeprXmRoFHCo"
      },
      "execution_count": 40,
      "outputs": []
    },
    {
      "cell_type": "code",
      "source": [
        "#train test split\n",
        "from sklearn.model_selection import train_test_split"
      ],
      "metadata": {
        "id": "So2g6rcVFjnH"
      },
      "execution_count": 42,
      "outputs": []
    },
    {
      "cell_type": "code",
      "source": [
        "x_train,x_test,y_train,y_test=train_test_split(x,y,test_size=.2,random_state=0)"
      ],
      "metadata": {
        "id": "qZQok7LCGZEe"
      },
      "execution_count": 43,
      "outputs": []
    },
    {
      "cell_type": "code",
      "source": [
        "x_train.shape,y_train.shape"
      ],
      "metadata": {
        "colab": {
          "base_uri": "https://localhost:8080/"
        },
        "id": "KsnqVR7iIFGi",
        "outputId": "1badba97-8112-46f6-e15b-ffb77669cfce"
      },
      "execution_count": 47,
      "outputs": [
        {
          "output_type": "execute_result",
          "data": {
            "text/plain": [
              "((4457, 6296), (4457,))"
            ]
          },
          "metadata": {},
          "execution_count": 47
        }
      ]
    },
    {
      "cell_type": "code",
      "source": [
        "x_test.shape,y_test.shape"
      ],
      "metadata": {
        "colab": {
          "base_uri": "https://localhost:8080/"
        },
        "id": "fhWBpkSXIKwm",
        "outputId": "0e26b946-edb0-4a7a-e9c7-a87839081f76"
      },
      "execution_count": 48,
      "outputs": [
        {
          "output_type": "execute_result",
          "data": {
            "text/plain": [
              "((1115, 6296), (1115,))"
            ]
          },
          "metadata": {},
          "execution_count": 48
        }
      ]
    },
    {
      "cell_type": "code",
      "source": [
        "#train model\n",
        "from sklearn.naive_bayes import MultinomialNB\n",
        "model=MultinomialNB()\n",
        "model.fit(x_train,y_train)"
      ],
      "metadata": {
        "colab": {
          "base_uri": "https://localhost:8080/",
          "height": 75
        },
        "id": "nHOF-h8aGsG0",
        "outputId": "25eaa749-8ac4-4516-db1b-4fbdd62b4cc8"
      },
      "execution_count": 44,
      "outputs": [
        {
          "output_type": "execute_result",
          "data": {
            "text/plain": [
              "MultinomialNB()"
            ],
            "text/html": [
              "<style>#sk-container-id-1 {color: black;background-color: white;}#sk-container-id-1 pre{padding: 0;}#sk-container-id-1 div.sk-toggleable {background-color: white;}#sk-container-id-1 label.sk-toggleable__label {cursor: pointer;display: block;width: 100%;margin-bottom: 0;padding: 0.3em;box-sizing: border-box;text-align: center;}#sk-container-id-1 label.sk-toggleable__label-arrow:before {content: \"▸\";float: left;margin-right: 0.25em;color: #696969;}#sk-container-id-1 label.sk-toggleable__label-arrow:hover:before {color: black;}#sk-container-id-1 div.sk-estimator:hover label.sk-toggleable__label-arrow:before {color: black;}#sk-container-id-1 div.sk-toggleable__content {max-height: 0;max-width: 0;overflow: hidden;text-align: left;background-color: #f0f8ff;}#sk-container-id-1 div.sk-toggleable__content pre {margin: 0.2em;color: black;border-radius: 0.25em;background-color: #f0f8ff;}#sk-container-id-1 input.sk-toggleable__control:checked~div.sk-toggleable__content {max-height: 200px;max-width: 100%;overflow: auto;}#sk-container-id-1 input.sk-toggleable__control:checked~label.sk-toggleable__label-arrow:before {content: \"▾\";}#sk-container-id-1 div.sk-estimator input.sk-toggleable__control:checked~label.sk-toggleable__label {background-color: #d4ebff;}#sk-container-id-1 div.sk-label input.sk-toggleable__control:checked~label.sk-toggleable__label {background-color: #d4ebff;}#sk-container-id-1 input.sk-hidden--visually {border: 0;clip: rect(1px 1px 1px 1px);clip: rect(1px, 1px, 1px, 1px);height: 1px;margin: -1px;overflow: hidden;padding: 0;position: absolute;width: 1px;}#sk-container-id-1 div.sk-estimator {font-family: monospace;background-color: #f0f8ff;border: 1px dotted black;border-radius: 0.25em;box-sizing: border-box;margin-bottom: 0.5em;}#sk-container-id-1 div.sk-estimator:hover {background-color: #d4ebff;}#sk-container-id-1 div.sk-parallel-item::after {content: \"\";width: 100%;border-bottom: 1px solid gray;flex-grow: 1;}#sk-container-id-1 div.sk-label:hover label.sk-toggleable__label {background-color: #d4ebff;}#sk-container-id-1 div.sk-serial::before {content: \"\";position: absolute;border-left: 1px solid gray;box-sizing: border-box;top: 0;bottom: 0;left: 50%;z-index: 0;}#sk-container-id-1 div.sk-serial {display: flex;flex-direction: column;align-items: center;background-color: white;padding-right: 0.2em;padding-left: 0.2em;position: relative;}#sk-container-id-1 div.sk-item {position: relative;z-index: 1;}#sk-container-id-1 div.sk-parallel {display: flex;align-items: stretch;justify-content: center;background-color: white;position: relative;}#sk-container-id-1 div.sk-item::before, #sk-container-id-1 div.sk-parallel-item::before {content: \"\";position: absolute;border-left: 1px solid gray;box-sizing: border-box;top: 0;bottom: 0;left: 50%;z-index: -1;}#sk-container-id-1 div.sk-parallel-item {display: flex;flex-direction: column;z-index: 1;position: relative;background-color: white;}#sk-container-id-1 div.sk-parallel-item:first-child::after {align-self: flex-end;width: 50%;}#sk-container-id-1 div.sk-parallel-item:last-child::after {align-self: flex-start;width: 50%;}#sk-container-id-1 div.sk-parallel-item:only-child::after {width: 0;}#sk-container-id-1 div.sk-dashed-wrapped {border: 1px dashed gray;margin: 0 0.4em 0.5em 0.4em;box-sizing: border-box;padding-bottom: 0.4em;background-color: white;}#sk-container-id-1 div.sk-label label {font-family: monospace;font-weight: bold;display: inline-block;line-height: 1.2em;}#sk-container-id-1 div.sk-label-container {text-align: center;}#sk-container-id-1 div.sk-container {/* jupyter's `normalize.less` sets `[hidden] { display: none; }` but bootstrap.min.css set `[hidden] { display: none !important; }` so we also need the `!important` here to be able to override the default hidden behavior on the sphinx rendered scikit-learn.org. See: https://github.com/scikit-learn/scikit-learn/issues/21755 */display: inline-block !important;position: relative;}#sk-container-id-1 div.sk-text-repr-fallback {display: none;}</style><div id=\"sk-container-id-1\" class=\"sk-top-container\"><div class=\"sk-text-repr-fallback\"><pre>MultinomialNB()</pre><b>In a Jupyter environment, please rerun this cell to show the HTML representation or trust the notebook. <br />On GitHub, the HTML representation is unable to render, please try loading this page with nbviewer.org.</b></div><div class=\"sk-container\" hidden><div class=\"sk-item\"><div class=\"sk-estimator sk-toggleable\"><input class=\"sk-toggleable__control sk-hidden--visually\" id=\"sk-estimator-id-1\" type=\"checkbox\" checked><label for=\"sk-estimator-id-1\" class=\"sk-toggleable__label sk-toggleable__label-arrow\">MultinomialNB</label><div class=\"sk-toggleable__content\"><pre>MultinomialNB()</pre></div></div></div></div></div>"
            ]
          },
          "metadata": {},
          "execution_count": 44
        }
      ]
    },
    {
      "cell_type": "code",
      "source": [
        "y_pred=model.predict(x_test)"
      ],
      "metadata": {
        "id": "P-fD5LcUHV5s"
      },
      "execution_count": 45,
      "outputs": []
    },
    {
      "cell_type": "code",
      "source": [
        "#compute metrics\n",
        "from sklearn.metrics import confusion_matrix\n",
        "confusion_m=confusion_matrix(y_test,y_pred)\n",
        "print(confusion_m)"
      ],
      "metadata": {
        "colab": {
          "base_uri": "https://localhost:8080/"
        },
        "id": "H0JtKX98Hasd",
        "outputId": "2dcb51d8-512f-4d1d-831c-c15e848204af"
      },
      "execution_count": 46,
      "outputs": [
        {
          "output_type": "stream",
          "name": "stdout",
          "text": [
            "[[955   0]\n",
            " [ 34 126]]\n"
          ]
        }
      ]
    },
    {
      "cell_type": "code",
      "source": [
        "from sklearn.metrics import recall_score,precision_score,accuracy_score\n",
        "acc=accuracy_score(y_test,y_pred)\n",
        "print(acc)\n",
        "re=recall_score(y_test,y_pred)\n",
        "print(re)\n",
        "pre=precision_score(y_test,y_pred)\n",
        "print(pre)"
      ],
      "metadata": {
        "colab": {
          "base_uri": "https://localhost:8080/"
        },
        "id": "LevxrSUVICTG",
        "outputId": "edb8d707-8648-4eab-f3d7-c73769df0cb1"
      },
      "execution_count": 49,
      "outputs": [
        {
          "output_type": "stream",
          "name": "stdout",
          "text": [
            "0.9695067264573991\n",
            "0.7875\n",
            "1.0\n"
          ]
        }
      ]
    },
    {
      "cell_type": "code",
      "source": [],
      "metadata": {
        "id": "YxhYfCRrIznC"
      },
      "execution_count": null,
      "outputs": []
    }
  ]
}