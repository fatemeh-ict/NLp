{
  "nbformat": 4,
  "nbformat_minor": 0,
  "metadata": {
    "colab": {
      "provenance": [],
      "authorship_tag": "ABX9TyP6+0Sw9V3lNUE2DuDikPdM",
      "include_colab_link": true
    },
    "kernelspec": {
      "name": "python3",
      "display_name": "Python 3"
    },
    "language_info": {
      "name": "python"
    }
  },
  "cells": [
    {
      "cell_type": "markdown",
      "metadata": {
        "id": "view-in-github",
        "colab_type": "text"
      },
      "source": [
        "<a href=\"https://colab.research.google.com/github/fatemeh-ict/NLp/blob/main/Bow%26_TF_IDF.ipynb\" target=\"_parent\"><img src=\"https://colab.research.google.com/assets/colab-badge.svg\" alt=\"Open In Colab\"/></a>"
      ]
    },
    {
      "cell_type": "code",
      "source": [
        "import nltk\n",
        "nltk.download('punkt')"
      ],
      "metadata": {
        "colab": {
          "base_uri": "https://localhost:8080/"
        },
        "id": "v5DPLQIlJ2M9",
        "outputId": "5207102e-a0c5-4d93-c77b-0dd1d083c236"
      },
      "execution_count": 5,
      "outputs": [
        {
          "output_type": "stream",
          "name": "stderr",
          "text": [
            "[nltk_data] Downloading package punkt to /root/nltk_data...\n",
            "[nltk_data]   Package punkt is already up-to-date!\n"
          ]
        },
        {
          "output_type": "execute_result",
          "data": {
            "text/plain": [
              "True"
            ]
          },
          "metadata": {},
          "execution_count": 5
        }
      ]
    },
    {
      "cell_type": "code",
      "source": [
        "import nltk\n",
        "nltk.download('stopwords')"
      ],
      "metadata": {
        "colab": {
          "base_uri": "https://localhost:8080/"
        },
        "id": "96dDCghWN2LT",
        "outputId": "65e4036c-0bca-4fc5-8f96-70a039ca4a0f"
      },
      "execution_count": 20,
      "outputs": [
        {
          "output_type": "stream",
          "name": "stderr",
          "text": [
            "[nltk_data] Downloading package stopwords to /root/nltk_data...\n",
            "[nltk_data]   Unzipping corpora/stopwords.zip.\n"
          ]
        },
        {
          "output_type": "execute_result",
          "data": {
            "text/plain": [
              "True"
            ]
          },
          "metadata": {},
          "execution_count": 20
        }
      ]
    },
    {
      "cell_type": "code",
      "execution_count": 6,
      "metadata": {
        "id": "Sbo28hBNI0Gz"
      },
      "outputs": [],
      "source": [
        "from nltk import sent_tokenize\n",
        "from nltk.corpus import stopwords\n",
        "from nltk.stem import PorterStemmer\n",
        "import re"
      ]
    },
    {
      "cell_type": "code",
      "source": [
        "#cleaing text\n",
        "text = \"\"\"A major drawback of statistical methods is that they require elaborate feature engineering.\n",
        "Since the early 2010s, the field has thus largely abandoned statistical methods and shifted to neural networks for machine learning.\n",
        "Popular techniques include the use of word embeddings to capture semantic properties of words, and an increase in end-to-end learning of a higher-level task (e.g., question answering) instead of relying on a pipeline of separate intermediate tasks (e.g., part-of-speech tagging and dependency parsing).\n",
        "In some areas, this shift has entailed substantial changes in how NLP systems are designed, such that deep neural network-based approaches may be viewed as a new paradigm distinct from statistical natural language processing.\n",
        "For instance, the term neural machine translation (NMT) emphasizes the fact that deep learning-based approaches to machine translation directly learn sequence-to-sequence transformations, obviating the need for intermediate steps such as word alignment and language modeling that was used in statistical machine translation (SMT).\n",
        "Latest works tend to use non-technical structure of a given task to build proper neural network\n",
        "\"\"\""
      ],
      "metadata": {
        "id": "a0VBYmwnJTHh"
      },
      "execution_count": 7,
      "outputs": []
    },
    {
      "cell_type": "code",
      "source": [
        "sentences=sent_tokenize(text)\n",
        "print(sentences)"
      ],
      "metadata": {
        "colab": {
          "base_uri": "https://localhost:8080/"
        },
        "id": "TtQvioEPJdKN",
        "outputId": "222b5e0c-07bd-44e6-9f3b-97a91c1648ab"
      },
      "execution_count": 9,
      "outputs": [
        {
          "output_type": "stream",
          "name": "stdout",
          "text": [
            "['A major drawback of statistical methods is that they require elaborate feature engineering.', 'Since the early 2010s, the field has thus largely abandoned statistical methods and shifted to neural networks for machine learning.', 'Popular techniques include the use of word embeddings to capture semantic properties of words, and an increase in end-to-end learning of a higher-level task (e.g., question answering) instead of relying on a pipeline of separate intermediate tasks (e.g., part-of-speech tagging and dependency parsing).', 'In some areas, this shift has entailed substantial changes in how NLP systems are designed, such that deep neural network-based approaches may be viewed as a new paradigm distinct from statistical natural language processing.', 'For instance, the term neural machine translation (NMT) emphasizes the fact that deep learning-based approaches to machine translation directly learn sequence-to-sequence transformations, obviating the need for intermediate steps such as word alignment and language modeling that was used in statistical machine translation (SMT).', 'Latest works tend to use non-technical structure of a given task to build proper neural network'] \n",
            "\n"
          ]
        }
      ]
    },
    {
      "cell_type": "code",
      "source": [
        "stemmer=PorterStemmer()\n",
        "corpus=[]\n",
        "for sent in sentences:\n",
        "  review=re.sub('[^a-zA-Z]', ' ',sent)  #don't delete letter a-z, delete another things such number and punctuation\n",
        "  review=re.sub('\\b[a-zA-Z]\\b', ' ',review)   #delete single letter\n",
        "  review=review.lower() #conert to lowecase\n",
        "  review=review.split()\n",
        "  review=[stemmer.stem(word) for word in review if not word in set(stopwords.words('english'))]\n",
        "  review=' '.join(review)\n",
        "  corpus.append(review)\n",
        "\n",
        "print(corpus)\n"
      ],
      "metadata": {
        "colab": {
          "base_uri": "https://localhost:8080/"
        },
        "id": "PSZGmzDhJpzI",
        "outputId": "b596c48a-cc8b-4786-ab75-cb57fd9dd217"
      },
      "execution_count": 25,
      "outputs": [
        {
          "output_type": "stream",
          "name": "stdout",
          "text": [
            "['major drawback statist method requir elabor featur engin', 'sinc earli field thu larg abandon statist method shift neural network machin learn', 'popular techniqu includ use word embed captur semant properti word increas end end learn higher level task e g question answer instead reli pipelin separ intermedi task e g part speech tag depend pars', 'area shift entail substanti chang nlp system design deep neural network base approach may view new paradigm distinct statist natur languag process', 'instanc term neural machin translat nmt emphas fact deep learn base approach machin translat directli learn sequenc sequenc transform obviat need intermedi step word align languag model use statist machin translat smt', 'latest work tend use non technic structur given task build proper neural network']\n"
          ]
        }
      ]
    },
    {
      "cell_type": "markdown",
      "source": [
        "vectorization"
      ],
      "metadata": {
        "id": "K4hiVscbQr0B"
      }
    },
    {
      "cell_type": "code",
      "source": [
        "from sklearn.feature_extraction.text import CountVectorizer\n",
        "cv=CountVectorizer()\n",
        "bow=cv.fit_transform(corpus).toarray()\n",
        "print(bow)"
      ],
      "metadata": {
        "colab": {
          "base_uri": "https://localhost:8080/"
        },
        "id": "hIh7-a-MKaKe",
        "outputId": "ef1e190c-2a61-4e47-f1d3-e0cadf0e258b"
      },
      "execution_count": 26,
      "outputs": [
        {
          "output_type": "stream",
          "name": "stdout",
          "text": [
            "[[0 0 0 0 0 0 0 0 0 0 0 0 0 0 1 0 1 0 0 0 1 0 0 1 0 0 0 0 0 0 0 0 0 0 0 0\n",
            "  0 0 1 0 1 0 0 0 0 0 0 0 0 0 0 0 0 0 0 0 0 0 0 0 0 1 0 0 0 0 0 0 0 1 0 0\n",
            "  0 0 0 0 0 0 0 0 0 0 0 0 0 0 0]\n",
            " [1 0 0 0 0 0 0 0 0 0 0 0 0 0 0 1 0 0 0 0 0 0 0 0 1 0 0 0 0 0 0 0 0 1 0 1\n",
            "  0 1 0 0 1 0 0 0 1 1 0 0 0 0 0 0 0 0 0 0 0 0 0 0 0 0 0 0 0 1 1 0 0 1 0 0\n",
            "  0 0 0 0 0 0 0 0 1 0 0 0 0 0 0]\n",
            " [0 0 1 0 0 0 0 1 0 0 1 0 0 0 0 0 0 1 0 2 0 0 0 0 0 0 1 1 1 0 1 1 0 0 0 1\n",
            "  1 0 0 0 0 0 0 0 0 0 0 0 0 0 0 0 1 1 1 1 0 0 1 1 1 0 1 1 0 0 0 0 1 0 0 0\n",
            "  0 0 1 2 0 1 0 0 0 0 0 1 0 2 0]\n",
            " [0 0 0 1 1 1 0 0 1 1 0 1 0 1 0 0 0 0 0 0 0 1 0 0 0 0 0 0 0 0 0 0 1 0 0 0\n",
            "  0 0 0 1 0 0 1 0 1 1 1 1 0 0 0 1 0 0 0 0 1 0 0 0 0 0 0 0 0 1 0 0 0 1 0 0\n",
            "  1 1 0 0 0 0 0 0 0 0 0 0 1 0 0]\n",
            " [0 1 0 1 0 1 0 0 0 1 0 0 1 0 0 0 0 0 1 0 0 0 1 0 0 0 0 0 0 1 0 1 1 0 0 2\n",
            "  0 3 0 0 0 1 0 1 0 1 0 0 1 0 1 0 0 0 0 0 0 0 0 0 0 0 0 0 2 0 0 1 0 1 1 0\n",
            "  0 0 0 0 0 0 0 1 0 1 3 1 0 1 0]\n",
            " [0 0 0 0 0 0 1 0 0 0 0 0 0 0 0 0 0 0 0 0 0 0 0 0 0 1 0 0 0 0 0 0 0 0 1 0\n",
            "  0 0 0 0 0 0 0 0 1 1 0 0 0 1 0 0 0 0 0 0 0 1 0 0 0 0 0 0 0 0 0 0 0 0 0 1\n",
            "  0 0 0 1 1 0 1 0 0 0 0 1 0 0 1]]\n"
          ]
        }
      ]
    },
    {
      "cell_type": "code",
      "source": [
        "from sklearn.feature_extraction.text import TfidfVectorizer\n",
        "tf=TfidfVectorizer()\n",
        "tfidf=tf.fit_transform(corpus).toarray()"
      ],
      "metadata": {
        "id": "_43uL0BzQ_-U"
      },
      "execution_count": 28,
      "outputs": []
    },
    {
      "cell_type": "code",
      "source": [
        "print(tfidf)"
      ],
      "metadata": {
        "colab": {
          "base_uri": "https://localhost:8080/"
        },
        "id": "_PSsKrlqRPNI",
        "outputId": "41ec8c57-d8d9-4d57-d157-fd72cd7004a5"
      },
      "execution_count": 29,
      "outputs": [
        {
          "output_type": "stream",
          "name": "stdout",
          "text": [
            "[[0.         0.         0.         0.         0.         0.\n",
            "  0.         0.         0.         0.         0.         0.\n",
            "  0.         0.         0.37730799 0.         0.37730799 0.\n",
            "  0.         0.         0.37730799 0.         0.         0.37730799\n",
            "  0.         0.         0.         0.         0.         0.\n",
            "  0.         0.         0.         0.         0.         0.\n",
            "  0.         0.         0.37730799 0.         0.30939795 0.\n",
            "  0.         0.         0.         0.         0.         0.\n",
            "  0.         0.         0.         0.         0.         0.\n",
            "  0.         0.         0.         0.         0.         0.\n",
            "  0.         0.37730799 0.         0.         0.         0.\n",
            "  0.         0.         0.         0.22384142 0.         0.\n",
            "  0.         0.         0.         0.         0.         0.\n",
            "  0.         0.         0.         0.         0.         0.\n",
            "  0.         0.         0.        ]\n",
            " [0.32141589 0.         0.         0.         0.         0.\n",
            "  0.         0.         0.         0.         0.         0.\n",
            "  0.         0.         0.         0.32141589 0.         0.\n",
            "  0.         0.         0.         0.         0.         0.\n",
            "  0.32141589 0.         0.         0.         0.         0.\n",
            "  0.         0.         0.         0.32141589 0.         0.22252021\n",
            "  0.         0.26356563 0.         0.         0.26356563 0.\n",
            "  0.         0.         0.22252021 0.19068292 0.         0.\n",
            "  0.         0.         0.         0.         0.         0.\n",
            "  0.         0.         0.         0.         0.         0.\n",
            "  0.         0.         0.         0.         0.         0.26356563\n",
            "  0.32141589 0.         0.         0.19068292 0.         0.\n",
            "  0.         0.         0.         0.         0.         0.\n",
            "  0.         0.         0.32141589 0.         0.         0.\n",
            "  0.         0.         0.        ]\n",
            " [0.         0.         0.17674796 0.         0.         0.\n",
            "  0.         0.17674796 0.         0.         0.17674796 0.\n",
            "  0.         0.         0.         0.         0.         0.17674796\n",
            "  0.         0.35349593 0.         0.         0.         0.\n",
            "  0.         0.         0.17674796 0.17674796 0.17674796 0.\n",
            "  0.17674796 0.14493586 0.         0.         0.         0.12236481\n",
            "  0.17674796 0.         0.         0.         0.         0.\n",
            "  0.         0.         0.         0.         0.         0.\n",
            "  0.         0.         0.         0.         0.17674796 0.17674796\n",
            "  0.17674796 0.17674796 0.         0.         0.17674796 0.17674796\n",
            "  0.17674796 0.         0.17674796 0.17674796 0.         0.\n",
            "  0.         0.         0.17674796 0.         0.         0.\n",
            "  0.         0.         0.17674796 0.28987172 0.         0.17674796\n",
            "  0.         0.         0.         0.         0.         0.12236481\n",
            "  0.         0.28987172 0.        ]\n",
            " [0.         0.         0.         0.19041633 0.23221098 0.19041633\n",
            "  0.         0.         0.23221098 0.19041633 0.         0.23221098\n",
            "  0.         0.23221098 0.         0.         0.         0.\n",
            "  0.         0.         0.         0.23221098 0.         0.\n",
            "  0.         0.         0.         0.         0.         0.\n",
            "  0.         0.         0.19041633 0.         0.         0.\n",
            "  0.         0.         0.         0.23221098 0.         0.\n",
            "  0.23221098 0.         0.16076255 0.13776129 0.23221098 0.23221098\n",
            "  0.         0.         0.         0.23221098 0.         0.\n",
            "  0.         0.         0.23221098 0.         0.         0.\n",
            "  0.         0.         0.         0.         0.         0.19041633\n",
            "  0.         0.         0.         0.13776129 0.         0.\n",
            "  0.23221098 0.23221098 0.         0.         0.         0.\n",
            "  0.         0.         0.         0.         0.         0.\n",
            "  0.23221098 0.         0.        ]\n",
            " [0.         0.15974615 0.         0.13099413 0.         0.13099413\n",
            "  0.         0.         0.         0.13099413 0.         0.\n",
            "  0.15974615 0.         0.         0.         0.         0.\n",
            "  0.15974615 0.         0.         0.         0.15974615 0.\n",
            "  0.         0.         0.         0.         0.         0.15974615\n",
            "  0.         0.13099413 0.13099413 0.         0.         0.22118848\n",
            "  0.         0.39298238 0.         0.         0.         0.15974615\n",
            "  0.         0.15974615 0.         0.09477086 0.         0.\n",
            "  0.15974615 0.         0.15974615 0.         0.         0.\n",
            "  0.         0.         0.         0.         0.         0.\n",
            "  0.         0.         0.         0.         0.31949229 0.\n",
            "  0.         0.15974615 0.         0.09477086 0.15974615 0.\n",
            "  0.         0.         0.         0.         0.         0.\n",
            "  0.         0.15974615 0.         0.15974615 0.47923844 0.11059424\n",
            "  0.         0.13099413 0.        ]\n",
            " [0.         0.         0.         0.         0.         0.\n",
            "  0.30174497 0.         0.         0.         0.         0.\n",
            "  0.         0.         0.         0.         0.         0.\n",
            "  0.         0.         0.         0.         0.         0.\n",
            "  0.         0.30174497 0.         0.         0.         0.\n",
            "  0.         0.         0.         0.         0.30174497 0.\n",
            "  0.         0.         0.         0.         0.         0.\n",
            "  0.         0.         0.20890179 0.17901297 0.         0.\n",
            "  0.         0.30174497 0.         0.         0.         0.\n",
            "  0.         0.         0.         0.30174497 0.         0.\n",
            "  0.         0.         0.         0.         0.         0.\n",
            "  0.         0.         0.         0.         0.         0.30174497\n",
            "  0.         0.         0.         0.2474352  0.30174497 0.\n",
            "  0.30174497 0.         0.         0.         0.         0.20890179\n",
            "  0.         0.         0.30174497]]\n"
          ]
        }
      ]
    },
    {
      "cell_type": "code",
      "source": [],
      "metadata": {
        "id": "vM7jpC1PSOuQ"
      },
      "execution_count": null,
      "outputs": []
    }
  ]
}